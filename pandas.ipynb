{
 "cells": [
  {
   "attachments": {},
   "cell_type": "markdown",
   "metadata": {
    "id": "Juh_gzsBIDXy"
   },
   "source": [
    "# Pandas\n",
    "\n",
    "- Tools for loading data into in-memory data objects from different file formats.\n",
    "- Time Series functionality.\n",
    "- High performance merging and joining of data.\n",
    "\n",
    "\n",
    "### Pandas Deals with 4 types of files : \n",
    "1. CSV\n",
    "2. Text Files\n",
    "3. Excel files\n",
    "4. JSON Files"
   ]
  },
  {
   "attachments": {},
   "cell_type": "markdown",
   "metadata": {},
   "source": [
    "### Series\n",
    "Series is a <b>one-dimensional</b> labeled array capable of holding data of any type (integer, string, float, python objects, etc.). The axis labels are collectively called index.\n",
    "\n"
   ]
  },
  {
   "cell_type": "code",
   "execution_count": 1,
   "metadata": {},
   "outputs": [
    {
     "name": "stdout",
     "output_type": "stream",
     "text": [
      "100    a\n",
      "101    b\n",
      "102    c\n",
      "103    d\n",
      "dtype: object\n"
     ]
    }
   ],
   "source": [
    "import pandas as pd \n",
    "import numpy as np \n",
    "data = np.array(['a','b','c','d']) \n",
    "s = pd.Series(data,index=[100,101,102,103]) \n",
    "print(s)\n"
   ]
  },
  {
   "attachments": {},
   "cell_type": "markdown",
   "metadata": {},
   "source": [
    "### DataFrame\n",
    "\n",
    "A Data frame is a two-dimensional data structure, i.e., data is aligned in a tabular fashion in rows and columns.\n"
   ]
  },
  {
   "cell_type": "code",
   "execution_count": 3,
   "metadata": {},
   "outputs": [
    {
     "name": "stdout",
     "output_type": "stream",
     "text": [
      "     Name  Age\n",
      "0    Alex   10\n",
      "1     Bob   12\n",
      "2  Clarke   13\n"
     ]
    }
   ],
   "source": [
    "import pandas as pd \n",
    "data = [['Alex',10],['Bob',12],['Clarke',13]] \n",
    "df = pd.DataFrame(data,columns=['Name','Age']) \n",
    "print(df)\n"
   ]
  },
  {
   "cell_type": "code",
   "execution_count": 19,
   "metadata": {},
   "outputs": [
    {
     "name": "stdout",
     "output_type": "stream",
     "text": [
      "   one  two\n",
      "a  1.0    1\n",
      "b  2.0    2\n",
      "c  3.0    3\n",
      "d  NaN    4\n",
      "\n",
      "a    1.0\n",
      "b    2.0\n",
      "c    3.0\n",
      "d    NaN\n",
      "Name: one, dtype: float64 \n",
      "\n",
      "one    2.0\n",
      "two    2.0\n",
      "Name: b, dtype: float64 \n",
      "\n",
      "one    3.0\n",
      "two    3.0\n",
      "Name: c, dtype: float64 \n",
      "\n",
      "   one  two\n",
      "c  3.0    3\n",
      "d  NaN    4\n"
     ]
    }
   ],
   "source": [
    "d = {'one' : pd.Series([1, 2, 3], index=['a', 'b', 'c']), \n",
    "'two' : pd.Series([1, 2, 3, 4], index=['a', 'b', 'c', 'd'])} \n",
    "df = pd.DataFrame(d) \n",
    "print (df)\n",
    "print()\n",
    "print(df['one'],\"\\n\") #selecting column\n",
    "print(df.loc['b'],\"\\n\") #row selection\n",
    "\n",
    "#Rows can be selected by passing integer location to an iloc \n",
    "# function.(row number)\n",
    "\n",
    "print(df.iloc[2],\"\\n\")\n",
    "\n",
    "# selecting multiple rows\n",
    "print(df[2:4])"
   ]
  },
  {
   "cell_type": "code",
   "execution_count": 20,
   "metadata": {},
   "outputs": [
    {
     "name": "stdout",
     "output_type": "stream",
     "text": [
      "   one  two  three\n",
      "a  1.0    1   10.0\n",
      "b  2.0    2   20.0\n",
      "c  3.0    3   30.0\n",
      "d  NaN    4    NaN\n",
      "   one  two  three  four\n",
      "a  1.0    1   10.0  11.0\n",
      "b  2.0    2   20.0  22.0\n",
      "c  3.0    3   30.0  33.0\n",
      "d  NaN    4    NaN   NaN\n"
     ]
    }
   ],
   "source": [
    "#new col\n",
    "\n",
    "df['three']=pd.Series([10,20,30],index=['a','b','c']) \n",
    "print(df)\n",
    "\n",
    "df['four'] = df['one']+df['three']\n",
    "print(df)\n"
   ]
  },
  {
   "cell_type": "code",
   "execution_count": 26,
   "metadata": {},
   "outputs": [
    {
     "name": "stdout",
     "output_type": "stream",
     "text": [
      "   a  b\n",
      "0  1  2\n",
      "1  3  4\n",
      "0  5  6\n",
      "1  7  8 \n",
      "\n",
      "   a  b\n",
      "1  3  4\n",
      "1  7  8\n"
     ]
    }
   ],
   "source": [
    "#new row\n",
    "\n",
    "dframe = pd.DataFrame([[1, 2], [3, 4]], columns = ['a','b']) \n",
    "df2 = pd.DataFrame([[5, 6], [7, 8]], columns = ['a','b']) \n",
    "dframe = dframe.append(df2) \n",
    "print (dframe,\"\\n\")\n",
    "\n",
    "# del row: Use index label to delete or drop rows from a DataFrame. \n",
    "# If label is duplicated, then multiple rows will be dropped.\n",
    "\n",
    "dframe = dframe.drop(0)\n",
    "print(dframe)"
   ]
  },
  {
   "cell_type": "code",
   "execution_count": 9,
   "metadata": {},
   "outputs": [
    {
     "name": "stdout",
     "output_type": "stream",
     "text": [
      "   two  three  four\n",
      "a    1   10.0  11.0\n",
      "b    2   20.0  22.0\n",
      "c    3   30.0  33.0\n",
      "d    4    NaN   NaN\n",
      "   three  four\n",
      "a   10.0  11.0\n",
      "b   20.0  22.0\n",
      "c   30.0  33.0\n",
      "d    NaN   NaN\n"
     ]
    }
   ],
   "source": [
    "# del column\n",
    "\n",
    "del df['one'] \n",
    "print (df)\n",
    " # using pop function \n",
    "df.pop('two') \n",
    "print (df)"
   ]
  },
  {
   "cell_type": "markdown",
   "metadata": {
    "id": "IARxycO9H3p3"
   },
   "source": [
    "## CSV"
   ]
  },
  {
   "cell_type": "code",
   "execution_count": null,
   "metadata": {
    "id": "XzSMDLzaoGKP"
   },
   "outputs": [],
   "source": [
    "!pip install pandas"
   ]
  },
  {
   "cell_type": "code",
   "execution_count": null,
   "metadata": {
    "id": "pPfMQdg3H3p4"
   },
   "outputs": [],
   "source": [
    "import pandas as pd\n",
    "pd.__version__"
   ]
  },
  {
   "cell_type": "code",
   "execution_count": null,
   "metadata": {
    "id": "V5MUc18MjLR7"
   },
   "outputs": [],
   "source": [
    "#Bonus : converting dictionary to dataframe\n",
    "dictionary = {\n",
    "    'roll no' : [1,2,3,4],\n",
    "    'name' : ['Amit', 'Sumit', 'Ramesh', 'Suresh'],\n",
    "    'age' : [10,12,15,13],\n",
    "    'school' : ['DPS', 'DAV', 'TIS', 'MIS']\n",
    "}\n",
    "\n",
    "dataframe_from_dictionary = pd.DataFrame(dictionary)\n",
    "dataframe_from_dictionary"
   ]
  },
  {
   "cell_type": "code",
   "execution_count": 29,
   "metadata": {
    "colab": {
     "base_uri": "https://localhost:8080/"
    },
    "executionInfo": {
     "elapsed": 381,
     "status": "ok",
     "timestamp": 1632837028070,
     "user": {
      "displayName": "014_Ramya_Neelakantan",
      "photoUrl": "https://lh3.googleusercontent.com/a-/AOh14Gidy_71hJWkX0zMvA4JVgsSLWKmMuPKlbQ_C1SE5w=s64",
      "userId": "02303944135448643340"
     },
     "user_tz": -330
    },
    "id": "m_sjJDlkH3p5",
    "outputId": "6d6d251e-9d23-40e0-dd24-60fed59faa2e"
   },
   "outputs": [
    {
     "data": {
      "text/plain": [
       "pandas.core.frame.DataFrame"
      ]
     },
     "execution_count": 29,
     "metadata": {},
     "output_type": "execute_result"
    }
   ],
   "source": [
    "data = pd.read_csv('Files\\\\big_mart_sales.csv')\n",
    "type(data)"
   ]
  },
  {
   "cell_type": "code",
   "execution_count": 30,
   "metadata": {
    "colab": {
     "base_uri": "https://localhost:8080/",
     "height": 609
    },
    "executionInfo": {
     "elapsed": 711,
     "status": "ok",
     "timestamp": 1632837127184,
     "user": {
      "displayName": "014_Ramya_Neelakantan",
      "photoUrl": "https://lh3.googleusercontent.com/a-/AOh14Gidy_71hJWkX0zMvA4JVgsSLWKmMuPKlbQ_C1SE5w=s64",
      "userId": "02303944135448643340"
     },
     "user_tz": -330
    },
    "id": "-nEn6M5Iq_7r",
    "outputId": "3c7932c9-6904-475a-a217-3d2688170690"
   },
   "outputs": [
    {
     "data": {
      "text/html": [
       "<div>\n",
       "<style scoped>\n",
       "    .dataframe tbody tr th:only-of-type {\n",
       "        vertical-align: middle;\n",
       "    }\n",
       "\n",
       "    .dataframe tbody tr th {\n",
       "        vertical-align: top;\n",
       "    }\n",
       "\n",
       "    .dataframe thead th {\n",
       "        text-align: right;\n",
       "    }\n",
       "</style>\n",
       "<table border=\"1\" class=\"dataframe\">\n",
       "  <thead>\n",
       "    <tr style=\"text-align: right;\">\n",
       "      <th></th>\n",
       "      <th>Item_Identifier</th>\n",
       "      <th>Item_Weight</th>\n",
       "      <th>Item_Fat_Content</th>\n",
       "      <th>Item_Visibility</th>\n",
       "      <th>Item_Type</th>\n",
       "      <th>Item_MRP</th>\n",
       "      <th>Outlet_Identifier</th>\n",
       "      <th>Outlet_Establishment_Year</th>\n",
       "      <th>Outlet_Size</th>\n",
       "      <th>Outlet_Location_Type</th>\n",
       "      <th>Outlet_Type</th>\n",
       "      <th>Item_Outlet_Sales</th>\n",
       "    </tr>\n",
       "  </thead>\n",
       "  <tbody>\n",
       "    <tr>\n",
       "      <th>0</th>\n",
       "      <td>FDA15</td>\n",
       "      <td>9.300</td>\n",
       "      <td>Low Fat</td>\n",
       "      <td>0.016047</td>\n",
       "      <td>Dairy</td>\n",
       "      <td>249.8092</td>\n",
       "      <td>OUT049</td>\n",
       "      <td>1999</td>\n",
       "      <td>Medium</td>\n",
       "      <td>Tier 1</td>\n",
       "      <td>Supermarket Type1</td>\n",
       "      <td>3735.1380</td>\n",
       "    </tr>\n",
       "    <tr>\n",
       "      <th>1</th>\n",
       "      <td>DRC01</td>\n",
       "      <td>5.920</td>\n",
       "      <td>Regular</td>\n",
       "      <td>0.019278</td>\n",
       "      <td>Soft Drinks</td>\n",
       "      <td>48.2692</td>\n",
       "      <td>OUT018</td>\n",
       "      <td>2009</td>\n",
       "      <td>Medium</td>\n",
       "      <td>Tier 3</td>\n",
       "      <td>Supermarket Type2</td>\n",
       "      <td>443.4228</td>\n",
       "    </tr>\n",
       "    <tr>\n",
       "      <th>2</th>\n",
       "      <td>FDN15</td>\n",
       "      <td>17.500</td>\n",
       "      <td>Low Fat</td>\n",
       "      <td>0.016760</td>\n",
       "      <td>Meat</td>\n",
       "      <td>141.6180</td>\n",
       "      <td>OUT049</td>\n",
       "      <td>1999</td>\n",
       "      <td>Medium</td>\n",
       "      <td>Tier 1</td>\n",
       "      <td>Supermarket Type1</td>\n",
       "      <td>2097.2700</td>\n",
       "    </tr>\n",
       "    <tr>\n",
       "      <th>3</th>\n",
       "      <td>FDX07</td>\n",
       "      <td>19.200</td>\n",
       "      <td>Regular</td>\n",
       "      <td>0.000000</td>\n",
       "      <td>Fruits and Vegetables</td>\n",
       "      <td>182.0950</td>\n",
       "      <td>OUT010</td>\n",
       "      <td>1998</td>\n",
       "      <td>NaN</td>\n",
       "      <td>Tier 3</td>\n",
       "      <td>Grocery Store</td>\n",
       "      <td>732.3800</td>\n",
       "    </tr>\n",
       "    <tr>\n",
       "      <th>4</th>\n",
       "      <td>NCD19</td>\n",
       "      <td>8.930</td>\n",
       "      <td>Low Fat</td>\n",
       "      <td>0.000000</td>\n",
       "      <td>Household</td>\n",
       "      <td>53.8614</td>\n",
       "      <td>OUT013</td>\n",
       "      <td>1987</td>\n",
       "      <td>High</td>\n",
       "      <td>Tier 3</td>\n",
       "      <td>Supermarket Type1</td>\n",
       "      <td>994.7052</td>\n",
       "    </tr>\n",
       "    <tr>\n",
       "      <th>...</th>\n",
       "      <td>...</td>\n",
       "      <td>...</td>\n",
       "      <td>...</td>\n",
       "      <td>...</td>\n",
       "      <td>...</td>\n",
       "      <td>...</td>\n",
       "      <td>...</td>\n",
       "      <td>...</td>\n",
       "      <td>...</td>\n",
       "      <td>...</td>\n",
       "      <td>...</td>\n",
       "      <td>...</td>\n",
       "    </tr>\n",
       "    <tr>\n",
       "      <th>8518</th>\n",
       "      <td>FDF22</td>\n",
       "      <td>6.865</td>\n",
       "      <td>Low Fat</td>\n",
       "      <td>0.056783</td>\n",
       "      <td>Snack Foods</td>\n",
       "      <td>214.5218</td>\n",
       "      <td>OUT013</td>\n",
       "      <td>1987</td>\n",
       "      <td>High</td>\n",
       "      <td>Tier 3</td>\n",
       "      <td>Supermarket Type1</td>\n",
       "      <td>2778.3834</td>\n",
       "    </tr>\n",
       "    <tr>\n",
       "      <th>8519</th>\n",
       "      <td>FDS36</td>\n",
       "      <td>8.380</td>\n",
       "      <td>Regular</td>\n",
       "      <td>0.046982</td>\n",
       "      <td>Baking Goods</td>\n",
       "      <td>108.1570</td>\n",
       "      <td>OUT045</td>\n",
       "      <td>2002</td>\n",
       "      <td>NaN</td>\n",
       "      <td>Tier 2</td>\n",
       "      <td>Supermarket Type1</td>\n",
       "      <td>549.2850</td>\n",
       "    </tr>\n",
       "    <tr>\n",
       "      <th>8520</th>\n",
       "      <td>NCJ29</td>\n",
       "      <td>10.600</td>\n",
       "      <td>Low Fat</td>\n",
       "      <td>0.035186</td>\n",
       "      <td>Health and Hygiene</td>\n",
       "      <td>85.1224</td>\n",
       "      <td>OUT035</td>\n",
       "      <td>2004</td>\n",
       "      <td>Small</td>\n",
       "      <td>Tier 2</td>\n",
       "      <td>Supermarket Type1</td>\n",
       "      <td>1193.1136</td>\n",
       "    </tr>\n",
       "    <tr>\n",
       "      <th>8521</th>\n",
       "      <td>FDN46</td>\n",
       "      <td>7.210</td>\n",
       "      <td>Regular</td>\n",
       "      <td>0.145221</td>\n",
       "      <td>Snack Foods</td>\n",
       "      <td>103.1332</td>\n",
       "      <td>OUT018</td>\n",
       "      <td>2009</td>\n",
       "      <td>Medium</td>\n",
       "      <td>Tier 3</td>\n",
       "      <td>Supermarket Type2</td>\n",
       "      <td>1845.5976</td>\n",
       "    </tr>\n",
       "    <tr>\n",
       "      <th>8522</th>\n",
       "      <td>DRG01</td>\n",
       "      <td>14.800</td>\n",
       "      <td>Low Fat</td>\n",
       "      <td>0.044878</td>\n",
       "      <td>Soft Drinks</td>\n",
       "      <td>75.4670</td>\n",
       "      <td>OUT046</td>\n",
       "      <td>1997</td>\n",
       "      <td>Small</td>\n",
       "      <td>Tier 1</td>\n",
       "      <td>Supermarket Type1</td>\n",
       "      <td>765.6700</td>\n",
       "    </tr>\n",
       "  </tbody>\n",
       "</table>\n",
       "<p>8523 rows × 12 columns</p>\n",
       "</div>"
      ],
      "text/plain": [
       "     Item_Identifier  Item_Weight Item_Fat_Content  Item_Visibility  \\\n",
       "0              FDA15        9.300          Low Fat         0.016047   \n",
       "1              DRC01        5.920          Regular         0.019278   \n",
       "2              FDN15       17.500          Low Fat         0.016760   \n",
       "3              FDX07       19.200          Regular         0.000000   \n",
       "4              NCD19        8.930          Low Fat         0.000000   \n",
       "...              ...          ...              ...              ...   \n",
       "8518           FDF22        6.865          Low Fat         0.056783   \n",
       "8519           FDS36        8.380          Regular         0.046982   \n",
       "8520           NCJ29       10.600          Low Fat         0.035186   \n",
       "8521           FDN46        7.210          Regular         0.145221   \n",
       "8522           DRG01       14.800          Low Fat         0.044878   \n",
       "\n",
       "                  Item_Type  Item_MRP Outlet_Identifier  \\\n",
       "0                     Dairy  249.8092            OUT049   \n",
       "1               Soft Drinks   48.2692            OUT018   \n",
       "2                      Meat  141.6180            OUT049   \n",
       "3     Fruits and Vegetables  182.0950            OUT010   \n",
       "4                 Household   53.8614            OUT013   \n",
       "...                     ...       ...               ...   \n",
       "8518            Snack Foods  214.5218            OUT013   \n",
       "8519           Baking Goods  108.1570            OUT045   \n",
       "8520     Health and Hygiene   85.1224            OUT035   \n",
       "8521            Snack Foods  103.1332            OUT018   \n",
       "8522            Soft Drinks   75.4670            OUT046   \n",
       "\n",
       "      Outlet_Establishment_Year Outlet_Size Outlet_Location_Type  \\\n",
       "0                          1999      Medium               Tier 1   \n",
       "1                          2009      Medium               Tier 3   \n",
       "2                          1999      Medium               Tier 1   \n",
       "3                          1998         NaN               Tier 3   \n",
       "4                          1987        High               Tier 3   \n",
       "...                         ...         ...                  ...   \n",
       "8518                       1987        High               Tier 3   \n",
       "8519                       2002         NaN               Tier 2   \n",
       "8520                       2004       Small               Tier 2   \n",
       "8521                       2009      Medium               Tier 3   \n",
       "8522                       1997       Small               Tier 1   \n",
       "\n",
       "            Outlet_Type  Item_Outlet_Sales  \n",
       "0     Supermarket Type1          3735.1380  \n",
       "1     Supermarket Type2           443.4228  \n",
       "2     Supermarket Type1          2097.2700  \n",
       "3         Grocery Store           732.3800  \n",
       "4     Supermarket Type1           994.7052  \n",
       "...                 ...                ...  \n",
       "8518  Supermarket Type1          2778.3834  \n",
       "8519  Supermarket Type1           549.2850  \n",
       "8520  Supermarket Type1          1193.1136  \n",
       "8521  Supermarket Type2          1845.5976  \n",
       "8522  Supermarket Type1           765.6700  \n",
       "\n",
       "[8523 rows x 12 columns]"
      ]
     },
     "execution_count": 30,
     "metadata": {},
     "output_type": "execute_result"
    }
   ],
   "source": [
    "data"
   ]
  },
  {
   "cell_type": "code",
   "execution_count": 31,
   "metadata": {
    "id": "bl1jWhNEH3p6"
   },
   "outputs": [
    {
     "data": {
      "text/html": [
       "<div>\n",
       "<style scoped>\n",
       "    .dataframe tbody tr th:only-of-type {\n",
       "        vertical-align: middle;\n",
       "    }\n",
       "\n",
       "    .dataframe tbody tr th {\n",
       "        vertical-align: top;\n",
       "    }\n",
       "\n",
       "    .dataframe thead th {\n",
       "        text-align: right;\n",
       "    }\n",
       "</style>\n",
       "<table border=\"1\" class=\"dataframe\">\n",
       "  <thead>\n",
       "    <tr style=\"text-align: right;\">\n",
       "      <th></th>\n",
       "      <th>Item_Identifier</th>\n",
       "      <th>Item_Weight</th>\n",
       "      <th>Item_Fat_Content</th>\n",
       "      <th>Item_Visibility</th>\n",
       "      <th>Item_Type</th>\n",
       "      <th>Item_MRP</th>\n",
       "      <th>Outlet_Identifier</th>\n",
       "      <th>Outlet_Establishment_Year</th>\n",
       "      <th>Outlet_Size</th>\n",
       "      <th>Outlet_Location_Type</th>\n",
       "      <th>Outlet_Type</th>\n",
       "      <th>Item_Outlet_Sales</th>\n",
       "    </tr>\n",
       "  </thead>\n",
       "  <tbody>\n",
       "    <tr>\n",
       "      <th>0</th>\n",
       "      <td>FDA15</td>\n",
       "      <td>9.30</td>\n",
       "      <td>Low Fat</td>\n",
       "      <td>0.016047</td>\n",
       "      <td>Dairy</td>\n",
       "      <td>249.8092</td>\n",
       "      <td>OUT049</td>\n",
       "      <td>1999</td>\n",
       "      <td>Medium</td>\n",
       "      <td>Tier 1</td>\n",
       "      <td>Supermarket Type1</td>\n",
       "      <td>3735.1380</td>\n",
       "    </tr>\n",
       "    <tr>\n",
       "      <th>1</th>\n",
       "      <td>DRC01</td>\n",
       "      <td>5.92</td>\n",
       "      <td>Regular</td>\n",
       "      <td>0.019278</td>\n",
       "      <td>Soft Drinks</td>\n",
       "      <td>48.2692</td>\n",
       "      <td>OUT018</td>\n",
       "      <td>2009</td>\n",
       "      <td>Medium</td>\n",
       "      <td>Tier 3</td>\n",
       "      <td>Supermarket Type2</td>\n",
       "      <td>443.4228</td>\n",
       "    </tr>\n",
       "    <tr>\n",
       "      <th>2</th>\n",
       "      <td>FDN15</td>\n",
       "      <td>17.50</td>\n",
       "      <td>Low Fat</td>\n",
       "      <td>0.016760</td>\n",
       "      <td>Meat</td>\n",
       "      <td>141.6180</td>\n",
       "      <td>OUT049</td>\n",
       "      <td>1999</td>\n",
       "      <td>Medium</td>\n",
       "      <td>Tier 1</td>\n",
       "      <td>Supermarket Type1</td>\n",
       "      <td>2097.2700</td>\n",
       "    </tr>\n",
       "    <tr>\n",
       "      <th>3</th>\n",
       "      <td>FDX07</td>\n",
       "      <td>19.20</td>\n",
       "      <td>Regular</td>\n",
       "      <td>0.000000</td>\n",
       "      <td>Fruits and Vegetables</td>\n",
       "      <td>182.0950</td>\n",
       "      <td>OUT010</td>\n",
       "      <td>1998</td>\n",
       "      <td>NaN</td>\n",
       "      <td>Tier 3</td>\n",
       "      <td>Grocery Store</td>\n",
       "      <td>732.3800</td>\n",
       "    </tr>\n",
       "    <tr>\n",
       "      <th>4</th>\n",
       "      <td>NCD19</td>\n",
       "      <td>8.93</td>\n",
       "      <td>Low Fat</td>\n",
       "      <td>0.000000</td>\n",
       "      <td>Household</td>\n",
       "      <td>53.8614</td>\n",
       "      <td>OUT013</td>\n",
       "      <td>1987</td>\n",
       "      <td>High</td>\n",
       "      <td>Tier 3</td>\n",
       "      <td>Supermarket Type1</td>\n",
       "      <td>994.7052</td>\n",
       "    </tr>\n",
       "  </tbody>\n",
       "</table>\n",
       "</div>"
      ],
      "text/plain": [
       "  Item_Identifier  Item_Weight Item_Fat_Content  Item_Visibility  \\\n",
       "0           FDA15         9.30          Low Fat         0.016047   \n",
       "1           DRC01         5.92          Regular         0.019278   \n",
       "2           FDN15        17.50          Low Fat         0.016760   \n",
       "3           FDX07        19.20          Regular         0.000000   \n",
       "4           NCD19         8.93          Low Fat         0.000000   \n",
       "\n",
       "               Item_Type  Item_MRP Outlet_Identifier  \\\n",
       "0                  Dairy  249.8092            OUT049   \n",
       "1            Soft Drinks   48.2692            OUT018   \n",
       "2                   Meat  141.6180            OUT049   \n",
       "3  Fruits and Vegetables  182.0950            OUT010   \n",
       "4              Household   53.8614            OUT013   \n",
       "\n",
       "   Outlet_Establishment_Year Outlet_Size Outlet_Location_Type  \\\n",
       "0                       1999      Medium               Tier 1   \n",
       "1                       2009      Medium               Tier 3   \n",
       "2                       1999      Medium               Tier 1   \n",
       "3                       1998         NaN               Tier 3   \n",
       "4                       1987        High               Tier 3   \n",
       "\n",
       "         Outlet_Type  Item_Outlet_Sales  \n",
       "0  Supermarket Type1          3735.1380  \n",
       "1  Supermarket Type2           443.4228  \n",
       "2  Supermarket Type1          2097.2700  \n",
       "3      Grocery Store           732.3800  \n",
       "4  Supermarket Type1           994.7052  "
      ]
     },
     "execution_count": 31,
     "metadata": {},
     "output_type": "execute_result"
    }
   ],
   "source": [
    "# Dataframe : 2 D Data structure with columns containing differnent datatypes.\n",
    "data.head()"
   ]
  },
  {
   "cell_type": "code",
   "execution_count": 32,
   "metadata": {
    "colab": {
     "base_uri": "https://localhost:8080/"
    },
    "executionInfo": {
     "elapsed": 437,
     "status": "ok",
     "timestamp": 1632837109902,
     "user": {
      "displayName": "014_Ramya_Neelakantan",
      "photoUrl": "https://lh3.googleusercontent.com/a-/AOh14Gidy_71hJWkX0zMvA4JVgsSLWKmMuPKlbQ_C1SE5w=s64",
      "userId": "02303944135448643340"
     },
     "user_tz": -330
    },
    "id": "ITeedFLgH3p6",
    "outputId": "2fd40e6b-5463-43a2-d476-8d16f8a58b1a"
   },
   "outputs": [
    {
     "data": {
      "text/plain": [
       "(8523, 12)"
      ]
     },
     "execution_count": 32,
     "metadata": {},
     "output_type": "execute_result"
    }
   ],
   "source": [
    "data.shape"
   ]
  },
  {
   "cell_type": "code",
   "execution_count": 33,
   "metadata": {
    "colab": {
     "base_uri": "https://localhost:8080/"
    },
    "executionInfo": {
     "elapsed": 631,
     "status": "ok",
     "timestamp": 1632837135235,
     "user": {
      "displayName": "014_Ramya_Neelakantan",
      "photoUrl": "https://lh3.googleusercontent.com/a-/AOh14Gidy_71hJWkX0zMvA4JVgsSLWKmMuPKlbQ_C1SE5w=s64",
      "userId": "02303944135448643340"
     },
     "user_tz": -330
    },
    "id": "ewpMgdsDkqTU",
    "outputId": "417b598a-e9c7-42b6-ed86-50a81f9c40bc"
   },
   "outputs": [
    {
     "data": {
      "text/plain": [
       "Item_Identifier               object\n",
       "Item_Weight                  float64\n",
       "Item_Fat_Content              object\n",
       "Item_Visibility              float64\n",
       "Item_Type                     object\n",
       "Item_MRP                     float64\n",
       "Outlet_Identifier             object\n",
       "Outlet_Establishment_Year      int64\n",
       "Outlet_Size                   object\n",
       "Outlet_Location_Type          object\n",
       "Outlet_Type                   object\n",
       "Item_Outlet_Sales            float64\n",
       "dtype: object"
      ]
     },
     "execution_count": 33,
     "metadata": {},
     "output_type": "execute_result"
    }
   ],
   "source": [
    "data.dtypes"
   ]
  },
  {
   "cell_type": "code",
   "execution_count": 34,
   "metadata": {
    "colab": {
     "base_uri": "https://localhost:8080/",
     "height": 297
    },
    "executionInfo": {
     "elapsed": 400,
     "status": "ok",
     "timestamp": 1632837179172,
     "user": {
      "displayName": "014_Ramya_Neelakantan",
      "photoUrl": "https://lh3.googleusercontent.com/a-/AOh14Gidy_71hJWkX0zMvA4JVgsSLWKmMuPKlbQ_C1SE5w=s64",
      "userId": "02303944135448643340"
     },
     "user_tz": -330
    },
    "id": "ZqGEdjRAkfQf",
    "outputId": "52966dee-8994-44d1-e6fe-0089fd536f7b"
   },
   "outputs": [
    {
     "data": {
      "text/html": [
       "<div>\n",
       "<style scoped>\n",
       "    .dataframe tbody tr th:only-of-type {\n",
       "        vertical-align: middle;\n",
       "    }\n",
       "\n",
       "    .dataframe tbody tr th {\n",
       "        vertical-align: top;\n",
       "    }\n",
       "\n",
       "    .dataframe thead th {\n",
       "        text-align: right;\n",
       "    }\n",
       "</style>\n",
       "<table border=\"1\" class=\"dataframe\">\n",
       "  <thead>\n",
       "    <tr style=\"text-align: right;\">\n",
       "      <th></th>\n",
       "      <th>Item_Weight</th>\n",
       "      <th>Item_Visibility</th>\n",
       "      <th>Item_MRP</th>\n",
       "      <th>Outlet_Establishment_Year</th>\n",
       "      <th>Item_Outlet_Sales</th>\n",
       "    </tr>\n",
       "  </thead>\n",
       "  <tbody>\n",
       "    <tr>\n",
       "      <th>count</th>\n",
       "      <td>7060.000000</td>\n",
       "      <td>8523.000000</td>\n",
       "      <td>8523.000000</td>\n",
       "      <td>8523.000000</td>\n",
       "      <td>8523.000000</td>\n",
       "    </tr>\n",
       "    <tr>\n",
       "      <th>mean</th>\n",
       "      <td>12.857645</td>\n",
       "      <td>0.066132</td>\n",
       "      <td>140.992782</td>\n",
       "      <td>1997.831867</td>\n",
       "      <td>2181.288914</td>\n",
       "    </tr>\n",
       "    <tr>\n",
       "      <th>std</th>\n",
       "      <td>4.643456</td>\n",
       "      <td>0.051598</td>\n",
       "      <td>62.275067</td>\n",
       "      <td>8.371760</td>\n",
       "      <td>1706.499616</td>\n",
       "    </tr>\n",
       "    <tr>\n",
       "      <th>min</th>\n",
       "      <td>4.555000</td>\n",
       "      <td>0.000000</td>\n",
       "      <td>31.290000</td>\n",
       "      <td>1985.000000</td>\n",
       "      <td>33.290000</td>\n",
       "    </tr>\n",
       "    <tr>\n",
       "      <th>25%</th>\n",
       "      <td>8.773750</td>\n",
       "      <td>0.026989</td>\n",
       "      <td>93.826500</td>\n",
       "      <td>1987.000000</td>\n",
       "      <td>834.247400</td>\n",
       "    </tr>\n",
       "    <tr>\n",
       "      <th>50%</th>\n",
       "      <td>12.600000</td>\n",
       "      <td>0.053931</td>\n",
       "      <td>143.012800</td>\n",
       "      <td>1999.000000</td>\n",
       "      <td>1794.331000</td>\n",
       "    </tr>\n",
       "    <tr>\n",
       "      <th>75%</th>\n",
       "      <td>16.850000</td>\n",
       "      <td>0.094585</td>\n",
       "      <td>185.643700</td>\n",
       "      <td>2004.000000</td>\n",
       "      <td>3101.296400</td>\n",
       "    </tr>\n",
       "    <tr>\n",
       "      <th>max</th>\n",
       "      <td>21.350000</td>\n",
       "      <td>0.328391</td>\n",
       "      <td>266.888400</td>\n",
       "      <td>2009.000000</td>\n",
       "      <td>13086.964800</td>\n",
       "    </tr>\n",
       "  </tbody>\n",
       "</table>\n",
       "</div>"
      ],
      "text/plain": [
       "       Item_Weight  Item_Visibility     Item_MRP  Outlet_Establishment_Year  \\\n",
       "count  7060.000000      8523.000000  8523.000000                8523.000000   \n",
       "mean     12.857645         0.066132   140.992782                1997.831867   \n",
       "std       4.643456         0.051598    62.275067                   8.371760   \n",
       "min       4.555000         0.000000    31.290000                1985.000000   \n",
       "25%       8.773750         0.026989    93.826500                1987.000000   \n",
       "50%      12.600000         0.053931   143.012800                1999.000000   \n",
       "75%      16.850000         0.094585   185.643700                2004.000000   \n",
       "max      21.350000         0.328391   266.888400                2009.000000   \n",
       "\n",
       "       Item_Outlet_Sales  \n",
       "count        8523.000000  \n",
       "mean         2181.288914  \n",
       "std          1706.499616  \n",
       "min            33.290000  \n",
       "25%           834.247400  \n",
       "50%          1794.331000  \n",
       "75%          3101.296400  \n",
       "max         13086.964800  "
      ]
     },
     "execution_count": 34,
     "metadata": {},
     "output_type": "execute_result"
    }
   ],
   "source": [
    "data.describe()"
   ]
  },
  {
   "cell_type": "code",
   "execution_count": 35,
   "metadata": {
    "colab": {
     "base_uri": "https://localhost:8080/",
     "height": 511
    },
    "executionInfo": {
     "elapsed": 491,
     "status": "error",
     "timestamp": 1632837389636,
     "user": {
      "displayName": "014_Ramya_Neelakantan",
      "photoUrl": "https://lh3.googleusercontent.com/a-/AOh14Gidy_71hJWkX0zMvA4JVgsSLWKmMuPKlbQ_C1SE5w=s64",
      "userId": "02303944135448643340"
     },
     "user_tz": -330
    },
    "id": "jEJroqnkH3p7",
    "outputId": "70658ffe-681c-412d-ba10-6181a9e699e6"
   },
   "outputs": [
    {
     "ename": "ParserError",
     "evalue": "Error tokenizing data. C error: Expected 1 fields in line 4, saw 2\n",
     "output_type": "error",
     "traceback": [
      "\u001b[1;31m---------------------------------------------------------------------------\u001b[0m",
      "\u001b[1;31mParserError\u001b[0m                               Traceback (most recent call last)",
      "\u001b[1;32m<ipython-input-35-100889533a0a>\u001b[0m in \u001b[0;36m<module>\u001b[1;34m\u001b[0m\n\u001b[1;32m----> 1\u001b[1;33m \u001b[0mdata_with_comments\u001b[0m \u001b[1;33m=\u001b[0m \u001b[0mpd\u001b[0m\u001b[1;33m.\u001b[0m\u001b[0mread_csv\u001b[0m\u001b[1;33m(\u001b[0m\u001b[1;34m'Files\\\\big_mart_sales_top_row_error.csv'\u001b[0m\u001b[1;33m)\u001b[0m\u001b[1;33m\u001b[0m\u001b[1;33m\u001b[0m\u001b[0m\n\u001b[0m\u001b[0;32m      2\u001b[0m \u001b[1;31m# This is because the first few lines are not the start of the dataset\u001b[0m\u001b[1;33m\u001b[0m\u001b[1;33m\u001b[0m\u001b[1;33m\u001b[0m\u001b[0m\n\u001b[0;32m      3\u001b[0m \u001b[1;31m# and should not be used\u001b[0m\u001b[1;33m\u001b[0m\u001b[1;33m\u001b[0m\u001b[1;33m\u001b[0m\u001b[0m\n",
      "\u001b[1;32m~\\anaconda3\\lib\\site-packages\\pandas\\io\\parsers.py\u001b[0m in \u001b[0;36mread_csv\u001b[1;34m(filepath_or_buffer, sep, delimiter, header, names, index_col, usecols, squeeze, prefix, mangle_dupe_cols, dtype, engine, converters, true_values, false_values, skipinitialspace, skiprows, skipfooter, nrows, na_values, keep_default_na, na_filter, verbose, skip_blank_lines, parse_dates, infer_datetime_format, keep_date_col, date_parser, dayfirst, cache_dates, iterator, chunksize, compression, thousands, decimal, lineterminator, quotechar, quoting, doublequote, escapechar, comment, encoding, dialect, error_bad_lines, warn_bad_lines, delim_whitespace, low_memory, memory_map, float_precision, storage_options)\u001b[0m\n\u001b[0;32m    608\u001b[0m     \u001b[0mkwds\u001b[0m\u001b[1;33m.\u001b[0m\u001b[0mupdate\u001b[0m\u001b[1;33m(\u001b[0m\u001b[0mkwds_defaults\u001b[0m\u001b[1;33m)\u001b[0m\u001b[1;33m\u001b[0m\u001b[1;33m\u001b[0m\u001b[0m\n\u001b[0;32m    609\u001b[0m \u001b[1;33m\u001b[0m\u001b[0m\n\u001b[1;32m--> 610\u001b[1;33m     \u001b[1;32mreturn\u001b[0m \u001b[0m_read\u001b[0m\u001b[1;33m(\u001b[0m\u001b[0mfilepath_or_buffer\u001b[0m\u001b[1;33m,\u001b[0m \u001b[0mkwds\u001b[0m\u001b[1;33m)\u001b[0m\u001b[1;33m\u001b[0m\u001b[1;33m\u001b[0m\u001b[0m\n\u001b[0m\u001b[0;32m    611\u001b[0m \u001b[1;33m\u001b[0m\u001b[0m\n\u001b[0;32m    612\u001b[0m \u001b[1;33m\u001b[0m\u001b[0m\n",
      "\u001b[1;32m~\\anaconda3\\lib\\site-packages\\pandas\\io\\parsers.py\u001b[0m in \u001b[0;36m_read\u001b[1;34m(filepath_or_buffer, kwds)\u001b[0m\n\u001b[0;32m    466\u001b[0m \u001b[1;33m\u001b[0m\u001b[0m\n\u001b[0;32m    467\u001b[0m     \u001b[1;32mwith\u001b[0m \u001b[0mparser\u001b[0m\u001b[1;33m:\u001b[0m\u001b[1;33m\u001b[0m\u001b[1;33m\u001b[0m\u001b[0m\n\u001b[1;32m--> 468\u001b[1;33m         \u001b[1;32mreturn\u001b[0m \u001b[0mparser\u001b[0m\u001b[1;33m.\u001b[0m\u001b[0mread\u001b[0m\u001b[1;33m(\u001b[0m\u001b[0mnrows\u001b[0m\u001b[1;33m)\u001b[0m\u001b[1;33m\u001b[0m\u001b[1;33m\u001b[0m\u001b[0m\n\u001b[0m\u001b[0;32m    469\u001b[0m \u001b[1;33m\u001b[0m\u001b[0m\n\u001b[0;32m    470\u001b[0m \u001b[1;33m\u001b[0m\u001b[0m\n",
      "\u001b[1;32m~\\anaconda3\\lib\\site-packages\\pandas\\io\\parsers.py\u001b[0m in \u001b[0;36mread\u001b[1;34m(self, nrows)\u001b[0m\n\u001b[0;32m   1055\u001b[0m     \u001b[1;32mdef\u001b[0m \u001b[0mread\u001b[0m\u001b[1;33m(\u001b[0m\u001b[0mself\u001b[0m\u001b[1;33m,\u001b[0m \u001b[0mnrows\u001b[0m\u001b[1;33m=\u001b[0m\u001b[1;32mNone\u001b[0m\u001b[1;33m)\u001b[0m\u001b[1;33m:\u001b[0m\u001b[1;33m\u001b[0m\u001b[1;33m\u001b[0m\u001b[0m\n\u001b[0;32m   1056\u001b[0m         \u001b[0mnrows\u001b[0m \u001b[1;33m=\u001b[0m \u001b[0mvalidate_integer\u001b[0m\u001b[1;33m(\u001b[0m\u001b[1;34m\"nrows\"\u001b[0m\u001b[1;33m,\u001b[0m \u001b[0mnrows\u001b[0m\u001b[1;33m)\u001b[0m\u001b[1;33m\u001b[0m\u001b[1;33m\u001b[0m\u001b[0m\n\u001b[1;32m-> 1057\u001b[1;33m         \u001b[0mindex\u001b[0m\u001b[1;33m,\u001b[0m \u001b[0mcolumns\u001b[0m\u001b[1;33m,\u001b[0m \u001b[0mcol_dict\u001b[0m \u001b[1;33m=\u001b[0m \u001b[0mself\u001b[0m\u001b[1;33m.\u001b[0m\u001b[0m_engine\u001b[0m\u001b[1;33m.\u001b[0m\u001b[0mread\u001b[0m\u001b[1;33m(\u001b[0m\u001b[0mnrows\u001b[0m\u001b[1;33m)\u001b[0m\u001b[1;33m\u001b[0m\u001b[1;33m\u001b[0m\u001b[0m\n\u001b[0m\u001b[0;32m   1058\u001b[0m \u001b[1;33m\u001b[0m\u001b[0m\n\u001b[0;32m   1059\u001b[0m         \u001b[1;32mif\u001b[0m \u001b[0mindex\u001b[0m \u001b[1;32mis\u001b[0m \u001b[1;32mNone\u001b[0m\u001b[1;33m:\u001b[0m\u001b[1;33m\u001b[0m\u001b[1;33m\u001b[0m\u001b[0m\n",
      "\u001b[1;32m~\\anaconda3\\lib\\site-packages\\pandas\\io\\parsers.py\u001b[0m in \u001b[0;36mread\u001b[1;34m(self, nrows)\u001b[0m\n\u001b[0;32m   2059\u001b[0m     \u001b[1;32mdef\u001b[0m \u001b[0mread\u001b[0m\u001b[1;33m(\u001b[0m\u001b[0mself\u001b[0m\u001b[1;33m,\u001b[0m \u001b[0mnrows\u001b[0m\u001b[1;33m=\u001b[0m\u001b[1;32mNone\u001b[0m\u001b[1;33m)\u001b[0m\u001b[1;33m:\u001b[0m\u001b[1;33m\u001b[0m\u001b[1;33m\u001b[0m\u001b[0m\n\u001b[0;32m   2060\u001b[0m         \u001b[1;32mtry\u001b[0m\u001b[1;33m:\u001b[0m\u001b[1;33m\u001b[0m\u001b[1;33m\u001b[0m\u001b[0m\n\u001b[1;32m-> 2061\u001b[1;33m             \u001b[0mdata\u001b[0m \u001b[1;33m=\u001b[0m \u001b[0mself\u001b[0m\u001b[1;33m.\u001b[0m\u001b[0m_reader\u001b[0m\u001b[1;33m.\u001b[0m\u001b[0mread\u001b[0m\u001b[1;33m(\u001b[0m\u001b[0mnrows\u001b[0m\u001b[1;33m)\u001b[0m\u001b[1;33m\u001b[0m\u001b[1;33m\u001b[0m\u001b[0m\n\u001b[0m\u001b[0;32m   2062\u001b[0m         \u001b[1;32mexcept\u001b[0m \u001b[0mStopIteration\u001b[0m\u001b[1;33m:\u001b[0m\u001b[1;33m\u001b[0m\u001b[1;33m\u001b[0m\u001b[0m\n\u001b[0;32m   2063\u001b[0m             \u001b[1;32mif\u001b[0m \u001b[0mself\u001b[0m\u001b[1;33m.\u001b[0m\u001b[0m_first_chunk\u001b[0m\u001b[1;33m:\u001b[0m\u001b[1;33m\u001b[0m\u001b[1;33m\u001b[0m\u001b[0m\n",
      "\u001b[1;32mpandas\\_libs\\parsers.pyx\u001b[0m in \u001b[0;36mpandas._libs.parsers.TextReader.read\u001b[1;34m()\u001b[0m\n",
      "\u001b[1;32mpandas\\_libs\\parsers.pyx\u001b[0m in \u001b[0;36mpandas._libs.parsers.TextReader._read_low_memory\u001b[1;34m()\u001b[0m\n",
      "\u001b[1;32mpandas\\_libs\\parsers.pyx\u001b[0m in \u001b[0;36mpandas._libs.parsers.TextReader._read_rows\u001b[1;34m()\u001b[0m\n",
      "\u001b[1;32mpandas\\_libs\\parsers.pyx\u001b[0m in \u001b[0;36mpandas._libs.parsers.TextReader._tokenize_rows\u001b[1;34m()\u001b[0m\n",
      "\u001b[1;32mpandas\\_libs\\parsers.pyx\u001b[0m in \u001b[0;36mpandas._libs.parsers.raise_parser_error\u001b[1;34m()\u001b[0m\n",
      "\u001b[1;31mParserError\u001b[0m: Error tokenizing data. C error: Expected 1 fields in line 4, saw 2\n"
     ]
    }
   ],
   "source": [
    "data_with_comments = pd.read_csv('Files\\\\big_mart_sales_top_row_error.csv')\n",
    "# This is because the first few lines are not the start of the dataset\n",
    "# and should not be used"
   ]
  },
  {
   "cell_type": "code",
   "execution_count": 36,
   "metadata": {
    "colab": {
     "base_uri": "https://localhost:8080/",
     "height": 309
    },
    "executionInfo": {
     "elapsed": 394,
     "status": "ok",
     "timestamp": 1632837454351,
     "user": {
      "displayName": "014_Ramya_Neelakantan",
      "photoUrl": "https://lh3.googleusercontent.com/a-/AOh14Gidy_71hJWkX0zMvA4JVgsSLWKmMuPKlbQ_C1SE5w=s64",
      "userId": "02303944135448643340"
     },
     "user_tz": -330
    },
    "id": "crkXqbtUH3p8",
    "outputId": "fa8cba65-f034-4148-ace6-778593b16896"
   },
   "outputs": [
    {
     "data": {
      "text/html": [
       "<div>\n",
       "<style scoped>\n",
       "    .dataframe tbody tr th:only-of-type {\n",
       "        vertical-align: middle;\n",
       "    }\n",
       "\n",
       "    .dataframe tbody tr th {\n",
       "        vertical-align: top;\n",
       "    }\n",
       "\n",
       "    .dataframe thead th {\n",
       "        text-align: right;\n",
       "    }\n",
       "</style>\n",
       "<table border=\"1\" class=\"dataframe\">\n",
       "  <thead>\n",
       "    <tr style=\"text-align: right;\">\n",
       "      <th></th>\n",
       "      <th>Item_Identifier</th>\n",
       "      <th>Item_Weight</th>\n",
       "      <th>Item_Fat_Content</th>\n",
       "      <th>Item_Visibility</th>\n",
       "      <th>Item_Type</th>\n",
       "      <th>Item_MRP</th>\n",
       "      <th>Outlet_Identifier</th>\n",
       "      <th>Outlet_Establishment_Year</th>\n",
       "      <th>Outlet_Size</th>\n",
       "      <th>Outlet_Location_Type</th>\n",
       "      <th>Outlet_Type</th>\n",
       "      <th>Item_Outlet_Sales</th>\n",
       "    </tr>\n",
       "  </thead>\n",
       "  <tbody>\n",
       "    <tr>\n",
       "      <th>0</th>\n",
       "      <td>FDA15</td>\n",
       "      <td>9.30</td>\n",
       "      <td>Low Fat</td>\n",
       "      <td>0.016047</td>\n",
       "      <td>Dairy</td>\n",
       "      <td>249.8092</td>\n",
       "      <td>OUT049</td>\n",
       "      <td>1999</td>\n",
       "      <td>Medium</td>\n",
       "      <td>Tier 1</td>\n",
       "      <td>Supermarket Type1</td>\n",
       "      <td>3735.1380</td>\n",
       "    </tr>\n",
       "    <tr>\n",
       "      <th>1</th>\n",
       "      <td>DRC01</td>\n",
       "      <td>5.92</td>\n",
       "      <td>Regular</td>\n",
       "      <td>0.019278</td>\n",
       "      <td>Soft Drinks</td>\n",
       "      <td>48.2692</td>\n",
       "      <td>OUT018</td>\n",
       "      <td>2009</td>\n",
       "      <td>Medium</td>\n",
       "      <td>Tier 3</td>\n",
       "      <td>Supermarket Type2</td>\n",
       "      <td>443.4228</td>\n",
       "    </tr>\n",
       "    <tr>\n",
       "      <th>2</th>\n",
       "      <td>FDN15</td>\n",
       "      <td>17.50</td>\n",
       "      <td>Low Fat</td>\n",
       "      <td>0.016760</td>\n",
       "      <td>Meat</td>\n",
       "      <td>141.6180</td>\n",
       "      <td>OUT049</td>\n",
       "      <td>1999</td>\n",
       "      <td>Medium</td>\n",
       "      <td>Tier 1</td>\n",
       "      <td>Supermarket Type1</td>\n",
       "      <td>2097.2700</td>\n",
       "    </tr>\n",
       "    <tr>\n",
       "      <th>3</th>\n",
       "      <td>FDX07</td>\n",
       "      <td>19.20</td>\n",
       "      <td>Regular</td>\n",
       "      <td>0.000000</td>\n",
       "      <td>Fruits and Vegetables</td>\n",
       "      <td>182.0950</td>\n",
       "      <td>OUT010</td>\n",
       "      <td>1998</td>\n",
       "      <td>NaN</td>\n",
       "      <td>Tier 3</td>\n",
       "      <td>Grocery Store</td>\n",
       "      <td>732.3800</td>\n",
       "    </tr>\n",
       "    <tr>\n",
       "      <th>4</th>\n",
       "      <td>NCD19</td>\n",
       "      <td>8.93</td>\n",
       "      <td>Low Fat</td>\n",
       "      <td>0.000000</td>\n",
       "      <td>Household</td>\n",
       "      <td>53.8614</td>\n",
       "      <td>OUT013</td>\n",
       "      <td>1987</td>\n",
       "      <td>High</td>\n",
       "      <td>Tier 3</td>\n",
       "      <td>Supermarket Type1</td>\n",
       "      <td>994.7052</td>\n",
       "    </tr>\n",
       "  </tbody>\n",
       "</table>\n",
       "</div>"
      ],
      "text/plain": [
       "  Item_Identifier  Item_Weight Item_Fat_Content  Item_Visibility  \\\n",
       "0           FDA15         9.30          Low Fat         0.016047   \n",
       "1           DRC01         5.92          Regular         0.019278   \n",
       "2           FDN15        17.50          Low Fat         0.016760   \n",
       "3           FDX07        19.20          Regular         0.000000   \n",
       "4           NCD19         8.93          Low Fat         0.000000   \n",
       "\n",
       "               Item_Type  Item_MRP Outlet_Identifier  \\\n",
       "0                  Dairy  249.8092            OUT049   \n",
       "1            Soft Drinks   48.2692            OUT018   \n",
       "2                   Meat  141.6180            OUT049   \n",
       "3  Fruits and Vegetables  182.0950            OUT010   \n",
       "4              Household   53.8614            OUT013   \n",
       "\n",
       "   Outlet_Establishment_Year Outlet_Size Outlet_Location_Type  \\\n",
       "0                       1999      Medium               Tier 1   \n",
       "1                       2009      Medium               Tier 3   \n",
       "2                       1999      Medium               Tier 1   \n",
       "3                       1998         NaN               Tier 3   \n",
       "4                       1987        High               Tier 3   \n",
       "\n",
       "         Outlet_Type  Item_Outlet_Sales  \n",
       "0  Supermarket Type1          3735.1380  \n",
       "1  Supermarket Type2           443.4228  \n",
       "2  Supermarket Type1          2097.2700  \n",
       "3      Grocery Store           732.3800  \n",
       "4  Supermarket Type1           994.7052  "
      ]
     },
     "execution_count": 36,
     "metadata": {},
     "output_type": "execute_result"
    }
   ],
   "source": [
    "# therefore, since first 5 rows are comments\n",
    "data_with_comments = pd.read_csv('Files\\\\big_mart_sales_top_row_error.csv',\n",
    "                                skiprows = 5)\n",
    "data_with_comments.head()"
   ]
  },
  {
   "cell_type": "code",
   "execution_count": 37,
   "metadata": {
    "colab": {
     "base_uri": "https://localhost:8080/",
     "height": 309
    },
    "executionInfo": {
     "elapsed": 670,
     "status": "ok",
     "timestamp": 1632837609538,
     "user": {
      "displayName": "014_Ramya_Neelakantan",
      "photoUrl": "https://lh3.googleusercontent.com/a-/AOh14Gidy_71hJWkX0zMvA4JVgsSLWKmMuPKlbQ_C1SE5w=s64",
      "userId": "02303944135448643340"
     },
     "user_tz": -330
    },
    "id": "WLisIhXTH3qA",
    "outputId": "3df0b492-fef5-4026-a518-ab2c93613b22"
   },
   "outputs": [
    {
     "data": {
      "text/html": [
       "<div>\n",
       "<style scoped>\n",
       "    .dataframe tbody tr th:only-of-type {\n",
       "        vertical-align: middle;\n",
       "    }\n",
       "\n",
       "    .dataframe tbody tr th {\n",
       "        vertical-align: top;\n",
       "    }\n",
       "\n",
       "    .dataframe thead th {\n",
       "        text-align: right;\n",
       "    }\n",
       "</style>\n",
       "<table border=\"1\" class=\"dataframe\">\n",
       "  <thead>\n",
       "    <tr style=\"text-align: right;\">\n",
       "      <th></th>\n",
       "      <th>Item_Identifier</th>\n",
       "      <th>Item_Weight</th>\n",
       "      <th>Item_Fat_Content</th>\n",
       "      <th>Item_Visibility</th>\n",
       "      <th>Item_Type</th>\n",
       "      <th>Item_MRP</th>\n",
       "      <th>Outlet_Identifier</th>\n",
       "      <th>Outlet_Establishment_Year</th>\n",
       "      <th>Outlet_Size</th>\n",
       "      <th>Outlet_Location_Type</th>\n",
       "      <th>Outlet_Type</th>\n",
       "      <th>Item_Outlet_Sales</th>\n",
       "    </tr>\n",
       "  </thead>\n",
       "  <tbody>\n",
       "    <tr>\n",
       "      <th>0</th>\n",
       "      <td>FDA15</td>\n",
       "      <td>9.30</td>\n",
       "      <td>Low Fat</td>\n",
       "      <td>0.016047</td>\n",
       "      <td>Dairy</td>\n",
       "      <td>249.8092</td>\n",
       "      <td>OUT049</td>\n",
       "      <td>1999</td>\n",
       "      <td>Medium</td>\n",
       "      <td>Tier 1</td>\n",
       "      <td>Supermarket Type1</td>\n",
       "      <td>3735.1380</td>\n",
       "    </tr>\n",
       "    <tr>\n",
       "      <th>1</th>\n",
       "      <td>DRC01</td>\n",
       "      <td>5.92</td>\n",
       "      <td>Regular</td>\n",
       "      <td>0.019278</td>\n",
       "      <td>Soft Drinks</td>\n",
       "      <td>48.2692</td>\n",
       "      <td>OUT018</td>\n",
       "      <td>2009</td>\n",
       "      <td>Medium</td>\n",
       "      <td>Tier 3</td>\n",
       "      <td>Supermarket Type2</td>\n",
       "      <td>443.4228</td>\n",
       "    </tr>\n",
       "    <tr>\n",
       "      <th>2</th>\n",
       "      <td>FDN15</td>\n",
       "      <td>17.50</td>\n",
       "      <td>Low Fat</td>\n",
       "      <td>0.016760</td>\n",
       "      <td>Meat</td>\n",
       "      <td>141.6180</td>\n",
       "      <td>OUT049</td>\n",
       "      <td>1999</td>\n",
       "      <td>Medium</td>\n",
       "      <td>Tier 1</td>\n",
       "      <td>Supermarket Type1</td>\n",
       "      <td>2097.2700</td>\n",
       "    </tr>\n",
       "    <tr>\n",
       "      <th>3</th>\n",
       "      <td>FDX07</td>\n",
       "      <td>19.20</td>\n",
       "      <td>Regular</td>\n",
       "      <td>0.000000</td>\n",
       "      <td>Fruits and Vegetables</td>\n",
       "      <td>182.0950</td>\n",
       "      <td>OUT010</td>\n",
       "      <td>1998</td>\n",
       "      <td>NaN</td>\n",
       "      <td>Tier 3</td>\n",
       "      <td>Grocery Store</td>\n",
       "      <td>732.3800</td>\n",
       "    </tr>\n",
       "    <tr>\n",
       "      <th>4</th>\n",
       "      <td>NCD19</td>\n",
       "      <td>8.93</td>\n",
       "      <td>Low Fat</td>\n",
       "      <td>0.000000</td>\n",
       "      <td>Household</td>\n",
       "      <td>53.8614</td>\n",
       "      <td>OUT013</td>\n",
       "      <td>1987</td>\n",
       "      <td>High</td>\n",
       "      <td>Tier 3</td>\n",
       "      <td>Supermarket Type1</td>\n",
       "      <td>994.7052</td>\n",
       "    </tr>\n",
       "  </tbody>\n",
       "</table>\n",
       "</div>"
      ],
      "text/plain": [
       "  Item_Identifier  Item_Weight Item_Fat_Content  Item_Visibility  \\\n",
       "0           FDA15         9.30          Low Fat         0.016047   \n",
       "1           DRC01         5.92          Regular         0.019278   \n",
       "2           FDN15        17.50          Low Fat         0.016760   \n",
       "3           FDX07        19.20          Regular         0.000000   \n",
       "4           NCD19         8.93          Low Fat         0.000000   \n",
       "\n",
       "               Item_Type  Item_MRP Outlet_Identifier  \\\n",
       "0                  Dairy  249.8092            OUT049   \n",
       "1            Soft Drinks   48.2692            OUT018   \n",
       "2                   Meat  141.6180            OUT049   \n",
       "3  Fruits and Vegetables  182.0950            OUT010   \n",
       "4              Household   53.8614            OUT013   \n",
       "\n",
       "   Outlet_Establishment_Year Outlet_Size Outlet_Location_Type  \\\n",
       "0                       1999      Medium               Tier 1   \n",
       "1                       2009      Medium               Tier 3   \n",
       "2                       1999      Medium               Tier 1   \n",
       "3                       1998         NaN               Tier 3   \n",
       "4                       1987        High               Tier 3   \n",
       "\n",
       "         Outlet_Type  Item_Outlet_Sales  \n",
       "0  Supermarket Type1          3735.1380  \n",
       "1  Supermarket Type2           443.4228  \n",
       "2  Supermarket Type1          2097.2700  \n",
       "3      Grocery Store           732.3800  \n",
       "4  Supermarket Type1           994.7052  "
      ]
     },
     "execution_count": 37,
     "metadata": {},
     "output_type": "execute_result"
    }
   ],
   "source": [
    "# Reading file of a specific delimiter\n",
    "data_delimiter = pd.read_csv('Files\\\\big_mart_sales_delimiter.csv',\n",
    "                             sep = '\\t')\n",
    "data_delimiter.head()"
   ]
  },
  {
   "cell_type": "code",
   "execution_count": 38,
   "metadata": {
    "executionInfo": {
     "elapsed": 5,
     "status": "ok",
     "timestamp": 1632837697226,
     "user": {
      "displayName": "014_Ramya_Neelakantan",
      "photoUrl": "https://lh3.googleusercontent.com/a-/AOh14Gidy_71hJWkX0zMvA4JVgsSLWKmMuPKlbQ_C1SE5w=s64",
      "userId": "02303944135448643340"
     },
     "user_tz": -330
    },
    "id": "edK4Gh1OH3qA"
   },
   "outputs": [],
   "source": [
    "# read first n rows from a very large dataset\n",
    "read_sample_from_data = pd.read_csv('Files\\\\big_mart_sales.csv', nrows = 100)"
   ]
  },
  {
   "cell_type": "code",
   "execution_count": 39,
   "metadata": {
    "colab": {
     "base_uri": "https://localhost:8080/"
    },
    "executionInfo": {
     "elapsed": 577,
     "status": "ok",
     "timestamp": 1632837699152,
     "user": {
      "displayName": "014_Ramya_Neelakantan",
      "photoUrl": "https://lh3.googleusercontent.com/a-/AOh14Gidy_71hJWkX0zMvA4JVgsSLWKmMuPKlbQ_C1SE5w=s64",
      "userId": "02303944135448643340"
     },
     "user_tz": -330
    },
    "id": "rBxL9-llH3qA",
    "outputId": "4277b1eb-23c0-42b3-af76-b29007c84895"
   },
   "outputs": [
    {
     "data": {
      "text/plain": [
       "(100, 12)"
      ]
     },
     "execution_count": 39,
     "metadata": {},
     "output_type": "execute_result"
    }
   ],
   "source": [
    "read_sample_from_data.shape"
   ]
  },
  {
   "cell_type": "code",
   "execution_count": 40,
   "metadata": {
    "colab": {
     "base_uri": "https://localhost:8080/",
     "height": 309
    },
    "executionInfo": {
     "elapsed": 395,
     "status": "ok",
     "timestamp": 1632837715264,
     "user": {
      "displayName": "014_Ramya_Neelakantan",
      "photoUrl": "https://lh3.googleusercontent.com/a-/AOh14Gidy_71hJWkX0zMvA4JVgsSLWKmMuPKlbQ_C1SE5w=s64",
      "userId": "02303944135448643340"
     },
     "user_tz": -330
    },
    "id": "Ka4jPXPBH3qA",
    "outputId": "fc7d9638-9066-41a1-e0d2-c48f5f5a8e57"
   },
   "outputs": [
    {
     "data": {
      "text/html": [
       "<div>\n",
       "<style scoped>\n",
       "    .dataframe tbody tr th:only-of-type {\n",
       "        vertical-align: middle;\n",
       "    }\n",
       "\n",
       "    .dataframe tbody tr th {\n",
       "        vertical-align: top;\n",
       "    }\n",
       "\n",
       "    .dataframe thead th {\n",
       "        text-align: right;\n",
       "    }\n",
       "</style>\n",
       "<table border=\"1\" class=\"dataframe\">\n",
       "  <thead>\n",
       "    <tr style=\"text-align: right;\">\n",
       "      <th></th>\n",
       "      <th>Item_Identifier</th>\n",
       "      <th>Item_Weight</th>\n",
       "      <th>Item_Fat_Content</th>\n",
       "      <th>Item_Visibility</th>\n",
       "      <th>Item_Type</th>\n",
       "      <th>Item_MRP</th>\n",
       "      <th>Outlet_Identifier</th>\n",
       "      <th>Outlet_Establishment_Year</th>\n",
       "      <th>Outlet_Size</th>\n",
       "      <th>Outlet_Location_Type</th>\n",
       "      <th>Outlet_Type</th>\n",
       "      <th>Item_Outlet_Sales</th>\n",
       "    </tr>\n",
       "  </thead>\n",
       "  <tbody>\n",
       "    <tr>\n",
       "      <th>0</th>\n",
       "      <td>FDA15</td>\n",
       "      <td>9.30</td>\n",
       "      <td>Low Fat</td>\n",
       "      <td>0.016047</td>\n",
       "      <td>Dairy</td>\n",
       "      <td>249.8092</td>\n",
       "      <td>OUT049</td>\n",
       "      <td>1999</td>\n",
       "      <td>Medium</td>\n",
       "      <td>Tier 1</td>\n",
       "      <td>Supermarket Type1</td>\n",
       "      <td>3735.1380</td>\n",
       "    </tr>\n",
       "    <tr>\n",
       "      <th>1</th>\n",
       "      <td>DRC01</td>\n",
       "      <td>5.92</td>\n",
       "      <td>Regular</td>\n",
       "      <td>0.019278</td>\n",
       "      <td>Soft Drinks</td>\n",
       "      <td>48.2692</td>\n",
       "      <td>OUT018</td>\n",
       "      <td>2009</td>\n",
       "      <td>Medium</td>\n",
       "      <td>Tier 3</td>\n",
       "      <td>Supermarket Type2</td>\n",
       "      <td>443.4228</td>\n",
       "    </tr>\n",
       "    <tr>\n",
       "      <th>2</th>\n",
       "      <td>FDN15</td>\n",
       "      <td>17.50</td>\n",
       "      <td>Low Fat</td>\n",
       "      <td>0.016760</td>\n",
       "      <td>Meat</td>\n",
       "      <td>141.6180</td>\n",
       "      <td>OUT049</td>\n",
       "      <td>1999</td>\n",
       "      <td>Medium</td>\n",
       "      <td>Tier 1</td>\n",
       "      <td>Supermarket Type1</td>\n",
       "      <td>2097.2700</td>\n",
       "    </tr>\n",
       "    <tr>\n",
       "      <th>3</th>\n",
       "      <td>FDX07</td>\n",
       "      <td>19.20</td>\n",
       "      <td>Regular</td>\n",
       "      <td>0.000000</td>\n",
       "      <td>Fruits and Vegetables</td>\n",
       "      <td>182.0950</td>\n",
       "      <td>OUT010</td>\n",
       "      <td>1998</td>\n",
       "      <td>NaN</td>\n",
       "      <td>Tier 3</td>\n",
       "      <td>Grocery Store</td>\n",
       "      <td>732.3800</td>\n",
       "    </tr>\n",
       "    <tr>\n",
       "      <th>4</th>\n",
       "      <td>NCD19</td>\n",
       "      <td>8.93</td>\n",
       "      <td>Low Fat</td>\n",
       "      <td>0.000000</td>\n",
       "      <td>Household</td>\n",
       "      <td>53.8614</td>\n",
       "      <td>OUT013</td>\n",
       "      <td>1987</td>\n",
       "      <td>High</td>\n",
       "      <td>Tier 3</td>\n",
       "      <td>Supermarket Type1</td>\n",
       "      <td>994.7052</td>\n",
       "    </tr>\n",
       "  </tbody>\n",
       "</table>\n",
       "</div>"
      ],
      "text/plain": [
       "  Item_Identifier  Item_Weight Item_Fat_Content  Item_Visibility  \\\n",
       "0           FDA15         9.30          Low Fat         0.016047   \n",
       "1           DRC01         5.92          Regular         0.019278   \n",
       "2           FDN15        17.50          Low Fat         0.016760   \n",
       "3           FDX07        19.20          Regular         0.000000   \n",
       "4           NCD19         8.93          Low Fat         0.000000   \n",
       "\n",
       "               Item_Type  Item_MRP Outlet_Identifier  \\\n",
       "0                  Dairy  249.8092            OUT049   \n",
       "1            Soft Drinks   48.2692            OUT018   \n",
       "2                   Meat  141.6180            OUT049   \n",
       "3  Fruits and Vegetables  182.0950            OUT010   \n",
       "4              Household   53.8614            OUT013   \n",
       "\n",
       "   Outlet_Establishment_Year Outlet_Size Outlet_Location_Type  \\\n",
       "0                       1999      Medium               Tier 1   \n",
       "1                       2009      Medium               Tier 3   \n",
       "2                       1999      Medium               Tier 1   \n",
       "3                       1998         NaN               Tier 3   \n",
       "4                       1987        High               Tier 3   \n",
       "\n",
       "         Outlet_Type  Item_Outlet_Sales  \n",
       "0  Supermarket Type1          3735.1380  \n",
       "1  Supermarket Type2           443.4228  \n",
       "2  Supermarket Type1          2097.2700  \n",
       "3      Grocery Store           732.3800  \n",
       "4  Supermarket Type1           994.7052  "
      ]
     },
     "execution_count": 40,
     "metadata": {},
     "output_type": "execute_result"
    }
   ],
   "source": [
    "read_sample_from_data.head()"
   ]
  },
  {
   "cell_type": "code",
   "execution_count": 41,
   "metadata": {
    "colab": {
     "base_uri": "https://localhost:8080/",
     "height": 204
    },
    "executionInfo": {
     "elapsed": 377,
     "status": "ok",
     "timestamp": 1632837816202,
     "user": {
      "displayName": "014_Ramya_Neelakantan",
      "photoUrl": "https://lh3.googleusercontent.com/a-/AOh14Gidy_71hJWkX0zMvA4JVgsSLWKmMuPKlbQ_C1SE5w=s64",
      "userId": "02303944135448643340"
     },
     "user_tz": -330
    },
    "id": "ApFluHPzH3qB",
    "outputId": "8dc21823-3b26-474c-8e89-988be34457d9"
   },
   "outputs": [
    {
     "data": {
      "text/html": [
       "<div>\n",
       "<style scoped>\n",
       "    .dataframe tbody tr th:only-of-type {\n",
       "        vertical-align: middle;\n",
       "    }\n",
       "\n",
       "    .dataframe tbody tr th {\n",
       "        vertical-align: top;\n",
       "    }\n",
       "\n",
       "    .dataframe thead th {\n",
       "        text-align: right;\n",
       "    }\n",
       "</style>\n",
       "<table border=\"1\" class=\"dataframe\">\n",
       "  <thead>\n",
       "    <tr style=\"text-align: right;\">\n",
       "      <th></th>\n",
       "      <th>Item_Identifier</th>\n",
       "      <th>Item_Type</th>\n",
       "      <th>Item_MRP</th>\n",
       "      <th>Item_Outlet_Sales</th>\n",
       "    </tr>\n",
       "  </thead>\n",
       "  <tbody>\n",
       "    <tr>\n",
       "      <th>0</th>\n",
       "      <td>FDA15</td>\n",
       "      <td>Dairy</td>\n",
       "      <td>249.8092</td>\n",
       "      <td>3735.1380</td>\n",
       "    </tr>\n",
       "    <tr>\n",
       "      <th>1</th>\n",
       "      <td>DRC01</td>\n",
       "      <td>Soft Drinks</td>\n",
       "      <td>48.2692</td>\n",
       "      <td>443.4228</td>\n",
       "    </tr>\n",
       "    <tr>\n",
       "      <th>2</th>\n",
       "      <td>FDN15</td>\n",
       "      <td>Meat</td>\n",
       "      <td>141.6180</td>\n",
       "      <td>2097.2700</td>\n",
       "    </tr>\n",
       "    <tr>\n",
       "      <th>3</th>\n",
       "      <td>FDX07</td>\n",
       "      <td>Fruits and Vegetables</td>\n",
       "      <td>182.0950</td>\n",
       "      <td>732.3800</td>\n",
       "    </tr>\n",
       "    <tr>\n",
       "      <th>4</th>\n",
       "      <td>NCD19</td>\n",
       "      <td>Household</td>\n",
       "      <td>53.8614</td>\n",
       "      <td>994.7052</td>\n",
       "    </tr>\n",
       "  </tbody>\n",
       "</table>\n",
       "</div>"
      ],
      "text/plain": [
       "  Item_Identifier              Item_Type  Item_MRP  Item_Outlet_Sales\n",
       "0           FDA15                  Dairy  249.8092          3735.1380\n",
       "1           DRC01            Soft Drinks   48.2692           443.4228\n",
       "2           FDN15                   Meat  141.6180          2097.2700\n",
       "3           FDX07  Fruits and Vegetables  182.0950           732.3800\n",
       "4           NCD19              Household   53.8614           994.7052"
      ]
     },
     "execution_count": 41,
     "metadata": {},
     "output_type": "execute_result"
    }
   ],
   "source": [
    "# Read specific columns of a dataset\n",
    "l = ['Item_Identifier', 'Item_Type', 'Item_MRP', 'Item_Outlet_Sales']\n",
    "read_specific_cols = pd.read_csv('Files\\\\big_mart_sales.csv', usecols = l)\n",
    "read_specific_cols.head()"
   ]
  },
  {
   "cell_type": "code",
   "execution_count": 42,
   "metadata": {
    "colab": {
     "base_uri": "https://localhost:8080/"
    },
    "executionInfo": {
     "elapsed": 370,
     "status": "ok",
     "timestamp": 1632837823523,
     "user": {
      "displayName": "014_Ramya_Neelakantan",
      "photoUrl": "https://lh3.googleusercontent.com/a-/AOh14Gidy_71hJWkX0zMvA4JVgsSLWKmMuPKlbQ_C1SE5w=s64",
      "userId": "02303944135448643340"
     },
     "user_tz": -330
    },
    "id": "z52nOMUtH3qB",
    "outputId": "a6b1beab-7eda-4145-d498-46d1c9453557"
   },
   "outputs": [
    {
     "data": {
      "text/plain": [
       "(8523, 4)"
      ]
     },
     "execution_count": 42,
     "metadata": {},
     "output_type": "execute_result"
    }
   ],
   "source": [
    "read_specific_cols.shape"
   ]
  },
  {
   "cell_type": "markdown",
   "metadata": {
    "id": "3Ma_quyvJxHy"
   },
   "source": [
    "# Text Files "
   ]
  },
  {
   "cell_type": "markdown",
   "metadata": {
    "id": "i2L8pN4fKVPR"
   },
   "source": []
  },
  {
   "cell_type": "code",
   "execution_count": 44,
   "metadata": {
    "executionInfo": {
     "elapsed": 638,
     "status": "ok",
     "timestamp": 1632838437410,
     "user": {
      "displayName": "014_Ramya_Neelakantan",
      "photoUrl": "https://lh3.googleusercontent.com/a-/AOh14Gidy_71hJWkX0zMvA4JVgsSLWKmMuPKlbQ_C1SE5w=s64",
      "userId": "02303944135448643340"
     },
     "user_tz": -330
    },
    "id": "3fGLSjTwJ06U"
   },
   "outputs": [],
   "source": [
    "# .txt\n",
    "text_file = open('Files\\\\new_file.txt', 'r')"
   ]
  },
  {
   "cell_type": "code",
   "execution_count": 45,
   "metadata": {
    "colab": {
     "base_uri": "https://localhost:8080/",
     "height": 52
    },
    "executionInfo": {
     "elapsed": 373,
     "status": "ok",
     "timestamp": 1632838460265,
     "user": {
      "displayName": "014_Ramya_Neelakantan",
      "photoUrl": "https://lh3.googleusercontent.com/a-/AOh14Gidy_71hJWkX0zMvA4JVgsSLWKmMuPKlbQ_C1SE5w=s64",
      "userId": "02303944135448643340"
     },
     "user_tz": -330
    },
    "id": "3YR13y_WJ1LP",
    "outputId": "a4a2d759-b1f7-42b1-b585-e5610976d36b"
   },
   "outputs": [
    {
     "data": {
      "text/plain": [
       "'\"This is a new file\"\\n\"And it is a BRAND NEW DAY\"Welcome to Python courseWelcome to Python courseWelcome to Python course'"
      ]
     },
     "execution_count": 45,
     "metadata": {},
     "output_type": "execute_result"
    }
   ],
   "source": [
    "complete_text = text_file.read()\n",
    "complete_text"
   ]
  },
  {
   "cell_type": "code",
   "execution_count": 46,
   "metadata": {
    "colab": {
     "base_uri": "https://localhost:8080/",
     "height": 35
    },
    "executionInfo": {
     "elapsed": 363,
     "status": "ok",
     "timestamp": 1632838530946,
     "user": {
      "displayName": "014_Ramya_Neelakantan",
      "photoUrl": "https://lh3.googleusercontent.com/a-/AOh14Gidy_71hJWkX0zMvA4JVgsSLWKmMuPKlbQ_C1SE5w=s64",
      "userId": "02303944135448643340"
     },
     "user_tz": -330
    },
    "id": "uPstaX1pJ1Uo",
    "outputId": "d66b2a4d-a73f-4656-fffd-72fd2894e823"
   },
   "outputs": [
    {
     "data": {
      "text/plain": [
       "''"
      ]
     },
     "execution_count": 46,
     "metadata": {},
     "output_type": "execute_result"
    }
   ],
   "source": [
    "# File pointer moves to the end, so when you \n",
    "# write this command again, it gives ''.\n",
    "complete_text = text_file.read()\n",
    "complete_text"
   ]
  },
  {
   "cell_type": "code",
   "execution_count": null,
   "metadata": {
    "id": "YmEdcItxJ1Xn"
   },
   "outputs": [],
   "source": [
    "# To stop this from happening, close file everytime you finish reading a file"
   ]
  },
  {
   "cell_type": "code",
   "execution_count": 47,
   "metadata": {
    "colab": {
     "base_uri": "https://localhost:8080/"
    },
    "executionInfo": {
     "elapsed": 1067,
     "status": "ok",
     "timestamp": 1632838607761,
     "user": {
      "displayName": "014_Ramya_Neelakantan",
      "photoUrl": "https://lh3.googleusercontent.com/a-/AOh14Gidy_71hJWkX0zMvA4JVgsSLWKmMuPKlbQ_C1SE5w=s64",
      "userId": "02303944135448643340"
     },
     "user_tz": -330
    },
    "id": "QJsXcA0jf7KN",
    "outputId": "27ed94d9-1dab-4288-add7-69a332807678"
   },
   "outputs": [
    {
     "data": {
      "text/plain": [
       "0"
      ]
     },
     "execution_count": 47,
     "metadata": {},
     "output_type": "execute_result"
    }
   ],
   "source": [
    "# or:\n",
    "text_file.seek(0)"
   ]
  },
  {
   "cell_type": "code",
   "execution_count": 48,
   "metadata": {
    "colab": {
     "base_uri": "https://localhost:8080/",
     "height": 52
    },
    "executionInfo": {
     "elapsed": 2,
     "status": "ok",
     "timestamp": 1632838610076,
     "user": {
      "displayName": "014_Ramya_Neelakantan",
      "photoUrl": "https://lh3.googleusercontent.com/a-/AOh14Gidy_71hJWkX0zMvA4JVgsSLWKmMuPKlbQ_C1SE5w=s64",
      "userId": "02303944135448643340"
     },
     "user_tz": -330
    },
    "id": "NWB0kfrpf7Mo",
    "outputId": "1b2a3513-e038-4c86-8dc3-c5df707020a2"
   },
   "outputs": [
    {
     "data": {
      "text/plain": [
       "'\"This is a new file\"\\n\"And it is a BRAND NEW DAY\"Welcome to Python courseWelcome to Python courseWelcome to Python course'"
      ]
     },
     "execution_count": 48,
     "metadata": {},
     "output_type": "execute_result"
    }
   ],
   "source": [
    "complete_text = text_file.read()\n",
    "complete_text"
   ]
  },
  {
   "cell_type": "code",
   "execution_count": 49,
   "metadata": {
    "id": "I3Nba2yff7PN"
   },
   "outputs": [],
   "source": [
    "text_file.close() "
   ]
  },
  {
   "cell_type": "code",
   "execution_count": 51,
   "metadata": {
    "colab": {
     "base_uri": "https://localhost:8080/"
    },
    "executionInfo": {
     "elapsed": 636,
     "status": "ok",
     "timestamp": 1632838655170,
     "user": {
      "displayName": "014_Ramya_Neelakantan",
      "photoUrl": "https://lh3.googleusercontent.com/a-/AOh14Gidy_71hJWkX0zMvA4JVgsSLWKmMuPKlbQ_C1SE5w=s64",
      "userId": "02303944135448643340"
     },
     "user_tz": -330
    },
    "id": "cYx0Ejtuf7R0",
    "outputId": "b55a578f-057c-4a4f-8e86-9447b6574e4c"
   },
   "outputs": [
    {
     "name": "stdout",
     "output_type": "stream",
     "text": [
      "['\"This is a new file\"\\n', '\"And it is a BRAND NEW DAY\"Welcome to Python courseWelcome to Python courseWelcome to Python course']\n",
      "2\n"
     ]
    }
   ],
   "source": [
    "# Read file line by line\n",
    "text_file = open(\"Files\\\\new_file.txt\", \"r\")\n",
    "lines = text_file.readlines()\n",
    "\n",
    "print(lines)\n",
    "print(len(lines))"
   ]
  },
  {
   "cell_type": "code",
   "execution_count": 52,
   "metadata": {
    "colab": {
     "base_uri": "https://localhost:8080/"
    },
    "executionInfo": {
     "elapsed": 649,
     "status": "ok",
     "timestamp": 1632838699514,
     "user": {
      "displayName": "014_Ramya_Neelakantan",
      "photoUrl": "https://lh3.googleusercontent.com/a-/AOh14Gidy_71hJWkX0zMvA4JVgsSLWKmMuPKlbQ_C1SE5w=s64",
      "userId": "02303944135448643340"
     },
     "user_tz": -330
    },
    "id": "T4LQ4H7gf7hV",
    "outputId": "b2308bea-2040-4ea3-d7be-ef7cc66b3a4a"
   },
   "outputs": [
    {
     "name": "stdout",
     "output_type": "stream",
     "text": [
      "\"This is a new file\"\n",
      "\n",
      "\"And it is a BRAND NEW DAY\"Welcome to Python courseWelcome to Python courseWelcome to Python course\n"
     ]
    }
   ],
   "source": [
    "#or :\n",
    "for line in lines : \n",
    "    print(line)\n",
    "\n",
    "text_file.close()"
   ]
  },
  {
   "cell_type": "code",
   "execution_count": 53,
   "metadata": {
    "colab": {
     "base_uri": "https://localhost:8080/"
    },
    "executionInfo": {
     "elapsed": 352,
     "status": "ok",
     "timestamp": 1632838879293,
     "user": {
      "displayName": "014_Ramya_Neelakantan",
      "photoUrl": "https://lh3.googleusercontent.com/a-/AOh14Gidy_71hJWkX0zMvA4JVgsSLWKmMuPKlbQ_C1SE5w=s64",
      "userId": "02303944135448643340"
     },
     "user_tz": -330
    },
    "id": "ydPyPvzUf7iJ",
    "outputId": "15e12927-1f27-4ac0-b3a4-54e88ed2380e"
   },
   "outputs": [
    {
     "name": "stdout",
     "output_type": "stream",
     "text": [
      "\"This is a new file\"\n",
      "\"And it is a BRAND NEW DAY\"Welcome to Python courseWelcome to Python courseWelcome to Python course\n"
     ]
    }
   ],
   "source": [
    "# To autoclose files : \n",
    "\n",
    "with open('Files\\\\new_file.txt', 'r') as f :\n",
    "    complete_text = f.read()\n",
    "#File gets closed here\n",
    "    \n",
    "print(complete_text)"
   ]
  },
  {
   "cell_type": "code",
   "execution_count": 54,
   "metadata": {
    "colab": {
     "base_uri": "https://localhost:8080/",
     "height": 35
    },
    "executionInfo": {
     "elapsed": 636,
     "status": "ok",
     "timestamp": 1632839049205,
     "user": {
      "displayName": "014_Ramya_Neelakantan",
      "photoUrl": "https://lh3.googleusercontent.com/a-/AOh14Gidy_71hJWkX0zMvA4JVgsSLWKmMuPKlbQ_C1SE5w=s64",
      "userId": "02303944135448643340"
     },
     "user_tz": -330
    },
    "id": "JnI28_e4f7jR",
    "outputId": "e4eb4d81-e579-4df8-b06e-ad57bf766968"
   },
   "outputs": [
    {
     "data": {
      "text/plain": [
       "'This is a new file that has just been created. Like it?'"
      ]
     },
     "execution_count": 54,
     "metadata": {},
     "output_type": "execute_result"
    }
   ],
   "source": [
    "# To write in file : \n",
    "with open('Files\\\\new_file_written.txt', 'w+') as f :\n",
    "    f.write(\"This is a new file that has just been created. Like it?\")\n",
    "\n",
    "with open('Files\\\\new_file_written.txt', 'r') as f :   \n",
    "    text = f.read()\n",
    "text"
   ]
  },
  {
   "cell_type": "code",
   "execution_count": 55,
   "metadata": {
    "colab": {
     "base_uri": "https://localhost:8080/"
    },
    "executionInfo": {
     "elapsed": 657,
     "status": "ok",
     "timestamp": 1632839122457,
     "user": {
      "displayName": "014_Ramya_Neelakantan",
      "photoUrl": "https://lh3.googleusercontent.com/a-/AOh14Gidy_71hJWkX0zMvA4JVgsSLWKmMuPKlbQ_C1SE5w=s64",
      "userId": "02303944135448643340"
     },
     "user_tz": -330
    },
    "id": "xlqJe6cQgINp",
    "outputId": "90c0c472-ca50-498a-9480-e8f6c3f2abc1"
   },
   "outputs": [
    {
     "name": "stdout",
     "output_type": "stream",
     "text": [
      "['Line1 Line2 Line3']\n"
     ]
    }
   ],
   "source": [
    "my_file = open(\"Files\\\\list.txt\", \"w+\")\n",
    "lists = ['Line1 ', 'Line2 ', 'Line3']\n",
    "my_file.writelines(lists)\n",
    "\n",
    "my_file.seek(0)\n",
    "text = my_file.readlines()\n",
    "\n",
    "print(text)"
   ]
  },
  {
   "cell_type": "code",
   "execution_count": 56,
   "metadata": {
    "colab": {
     "base_uri": "https://localhost:8080/",
     "height": 52
    },
    "executionInfo": {
     "elapsed": 648,
     "status": "ok",
     "timestamp": 1632839153092,
     "user": {
      "displayName": "014_Ramya_Neelakantan",
      "photoUrl": "https://lh3.googleusercontent.com/a-/AOh14Gidy_71hJWkX0zMvA4JVgsSLWKmMuPKlbQ_C1SE5w=s64",
      "userId": "02303944135448643340"
     },
     "user_tz": -330
    },
    "id": "iyk7-0MmgIQB",
    "outputId": "4fe092b6-1f6a-4c4b-81a8-44e1a92cc8b3"
   },
   "outputs": [
    {
     "data": {
      "text/plain": [
       "'\"This is a new file\"\\n\"And it is a BRAND NEW DAY\"Welcome to Python courseWelcome to Python courseWelcome to Python courseWelcome to Python course'"
      ]
     },
     "execution_count": 56,
     "metadata": {},
     "output_type": "execute_result"
    }
   ],
   "source": [
    "# append text to file :\n",
    "my_file = open('Files\\\\new_file.txt', \"a+\")\n",
    "my_file.write('Welcome to Python course')\n",
    "my_file.seek(0)\n",
    "my_file.read()"
   ]
  },
  {
   "cell_type": "markdown",
   "metadata": {
    "id": "pZq8KH3AH3qB"
   },
   "source": [
    "## Excel Files : "
   ]
  },
  {
   "cell_type": "code",
   "execution_count": 57,
   "metadata": {
    "colab": {
     "base_uri": "https://localhost:8080/",
     "height": 309
    },
    "executionInfo": {
     "elapsed": 1071,
     "status": "ok",
     "timestamp": 1632839423419,
     "user": {
      "displayName": "014_Ramya_Neelakantan",
      "photoUrl": "https://lh3.googleusercontent.com/a-/AOh14Gidy_71hJWkX0zMvA4JVgsSLWKmMuPKlbQ_C1SE5w=s64",
      "userId": "02303944135448643340"
     },
     "user_tz": -330
    },
    "id": "QHTZv98oH3qB",
    "outputId": "353bdb01-a57e-47ea-bf5d-15295f4996e4"
   },
   "outputs": [
    {
     "data": {
      "text/html": [
       "<div>\n",
       "<style scoped>\n",
       "    .dataframe tbody tr th:only-of-type {\n",
       "        vertical-align: middle;\n",
       "    }\n",
       "\n",
       "    .dataframe tbody tr th {\n",
       "        vertical-align: top;\n",
       "    }\n",
       "\n",
       "    .dataframe thead th {\n",
       "        text-align: right;\n",
       "    }\n",
       "</style>\n",
       "<table border=\"1\" class=\"dataframe\">\n",
       "  <thead>\n",
       "    <tr style=\"text-align: right;\">\n",
       "      <th></th>\n",
       "      <th>Item_Identifier</th>\n",
       "      <th>Item_Weight</th>\n",
       "      <th>Item_Fat_Content</th>\n",
       "      <th>Item_Visibility</th>\n",
       "      <th>Item_Type</th>\n",
       "      <th>Item_MRP</th>\n",
       "      <th>Outlet_Identifier</th>\n",
       "      <th>Outlet_Establishment_Year</th>\n",
       "      <th>Outlet_Size</th>\n",
       "      <th>Outlet_Location_Type</th>\n",
       "      <th>Outlet_Type</th>\n",
       "      <th>Item_Outlet_Sales</th>\n",
       "    </tr>\n",
       "  </thead>\n",
       "  <tbody>\n",
       "    <tr>\n",
       "      <th>0</th>\n",
       "      <td>FDA15</td>\n",
       "      <td>9.30</td>\n",
       "      <td>Low Fat</td>\n",
       "      <td>0.016047</td>\n",
       "      <td>Dairy</td>\n",
       "      <td>249.8092</td>\n",
       "      <td>OUT049</td>\n",
       "      <td>1999</td>\n",
       "      <td>Medium</td>\n",
       "      <td>Tier 1</td>\n",
       "      <td>Supermarket Type1</td>\n",
       "      <td>3735.1380</td>\n",
       "    </tr>\n",
       "    <tr>\n",
       "      <th>1</th>\n",
       "      <td>DRC01</td>\n",
       "      <td>5.92</td>\n",
       "      <td>Regular</td>\n",
       "      <td>0.019278</td>\n",
       "      <td>Soft Drinks</td>\n",
       "      <td>48.2692</td>\n",
       "      <td>OUT018</td>\n",
       "      <td>2009</td>\n",
       "      <td>Medium</td>\n",
       "      <td>Tier 3</td>\n",
       "      <td>Supermarket Type2</td>\n",
       "      <td>443.4228</td>\n",
       "    </tr>\n",
       "    <tr>\n",
       "      <th>2</th>\n",
       "      <td>FDN15</td>\n",
       "      <td>17.50</td>\n",
       "      <td>Low Fat</td>\n",
       "      <td>0.016760</td>\n",
       "      <td>Meat</td>\n",
       "      <td>141.6180</td>\n",
       "      <td>OUT049</td>\n",
       "      <td>1999</td>\n",
       "      <td>Medium</td>\n",
       "      <td>Tier 1</td>\n",
       "      <td>Supermarket Type1</td>\n",
       "      <td>2097.2700</td>\n",
       "    </tr>\n",
       "    <tr>\n",
       "      <th>3</th>\n",
       "      <td>FDX07</td>\n",
       "      <td>19.20</td>\n",
       "      <td>Regular</td>\n",
       "      <td>0.000000</td>\n",
       "      <td>Fruits and Vegetables</td>\n",
       "      <td>182.0950</td>\n",
       "      <td>OUT010</td>\n",
       "      <td>1998</td>\n",
       "      <td>NaN</td>\n",
       "      <td>Tier 3</td>\n",
       "      <td>Grocery Store</td>\n",
       "      <td>732.3800</td>\n",
       "    </tr>\n",
       "    <tr>\n",
       "      <th>4</th>\n",
       "      <td>NCD19</td>\n",
       "      <td>8.93</td>\n",
       "      <td>Low Fat</td>\n",
       "      <td>0.000000</td>\n",
       "      <td>Household</td>\n",
       "      <td>53.8614</td>\n",
       "      <td>OUT013</td>\n",
       "      <td>1987</td>\n",
       "      <td>High</td>\n",
       "      <td>Tier 3</td>\n",
       "      <td>Supermarket Type1</td>\n",
       "      <td>994.7052</td>\n",
       "    </tr>\n",
       "  </tbody>\n",
       "</table>\n",
       "</div>"
      ],
      "text/plain": [
       "  Item_Identifier  Item_Weight Item_Fat_Content  Item_Visibility  \\\n",
       "0           FDA15         9.30          Low Fat         0.016047   \n",
       "1           DRC01         5.92          Regular         0.019278   \n",
       "2           FDN15        17.50          Low Fat         0.016760   \n",
       "3           FDX07        19.20          Regular         0.000000   \n",
       "4           NCD19         8.93          Low Fat         0.000000   \n",
       "\n",
       "               Item_Type  Item_MRP Outlet_Identifier  \\\n",
       "0                  Dairy  249.8092            OUT049   \n",
       "1            Soft Drinks   48.2692            OUT018   \n",
       "2                   Meat  141.6180            OUT049   \n",
       "3  Fruits and Vegetables  182.0950            OUT010   \n",
       "4              Household   53.8614            OUT013   \n",
       "\n",
       "   Outlet_Establishment_Year Outlet_Size Outlet_Location_Type  \\\n",
       "0                       1999      Medium               Tier 1   \n",
       "1                       2009      Medium               Tier 3   \n",
       "2                       1999      Medium               Tier 1   \n",
       "3                       1998         NaN               Tier 3   \n",
       "4                       1987        High               Tier 3   \n",
       "\n",
       "         Outlet_Type  Item_Outlet_Sales  \n",
       "0  Supermarket Type1          3735.1380  \n",
       "1  Supermarket Type2           443.4228  \n",
       "2  Supermarket Type1          2097.2700  \n",
       "3      Grocery Store           732.3800  \n",
       "4  Supermarket Type1           994.7052  "
      ]
     },
     "execution_count": 57,
     "metadata": {},
     "output_type": "execute_result"
    }
   ],
   "source": [
    "data = pd.read_excel('Files\\\\big_mart_sales.xlsx')\n",
    "data.head()"
   ]
  },
  {
   "cell_type": "code",
   "execution_count": null,
   "metadata": {
    "id": "t1iLd0plH3qC"
   },
   "outputs": [],
   "source": [
    "# Challenges : Multiple sheets, comments in top rows, read files in \n",
    "#              multiple directories"
   ]
  },
  {
   "cell_type": "code",
   "execution_count": 58,
   "metadata": {
    "executionInfo": {
     "elapsed": 818,
     "status": "ok",
     "timestamp": 1632839502345,
     "user": {
      "displayName": "014_Ramya_Neelakantan",
      "photoUrl": "https://lh3.googleusercontent.com/a-/AOh14Gidy_71hJWkX0zMvA4JVgsSLWKmMuPKlbQ_C1SE5w=s64",
      "userId": "02303944135448643340"
     },
     "user_tz": -330
    },
    "id": "hAL9FBzBH3qC"
   },
   "outputs": [],
   "source": [
    "data_with_multiple_sheets = pd.read_excel('Files\\\\big_mart_sales_with_multiple_sheets.xlsx')"
   ]
  },
  {
   "cell_type": "code",
   "execution_count": 59,
   "metadata": {
    "colab": {
     "base_uri": "https://localhost:8080/"
    },
    "executionInfo": {
     "elapsed": 389,
     "status": "ok",
     "timestamp": 1632839512950,
     "user": {
      "displayName": "014_Ramya_Neelakantan",
      "photoUrl": "https://lh3.googleusercontent.com/a-/AOh14Gidy_71hJWkX0zMvA4JVgsSLWKmMuPKlbQ_C1SE5w=s64",
      "userId": "02303944135448643340"
     },
     "user_tz": -330
    },
    "id": "LiP9mnrLH3qC",
    "outputId": "5e2be99b-a4ec-4031-a7eb-5f9693151698"
   },
   "outputs": [
    {
     "data": {
      "text/plain": [
       "array([1985], dtype=int64)"
      ]
     },
     "execution_count": 59,
     "metadata": {},
     "output_type": "execute_result"
    }
   ],
   "source": [
    "data_with_multiple_sheets.Outlet_Establishment_Year.unique()\n",
    "# This means only the first sheet has been read from multiple sheets"
   ]
  },
  {
   "cell_type": "code",
   "execution_count": 60,
   "metadata": {
    "executionInfo": {
     "elapsed": 674,
     "status": "ok",
     "timestamp": 1632839585826,
     "user": {
      "displayName": "014_Ramya_Neelakantan",
      "photoUrl": "https://lh3.googleusercontent.com/a-/AOh14Gidy_71hJWkX0zMvA4JVgsSLWKmMuPKlbQ_C1SE5w=s64",
      "userId": "02303944135448643340"
     },
     "user_tz": -330
    },
    "id": "7IWadtNgH3qC"
   },
   "outputs": [],
   "source": [
    "sheet_1985 = pd.read_excel('Files\\\\big_mart_sales_with_multiple_sheets.xlsx',\n",
    "                          sheet_name = '1985')"
   ]
  },
  {
   "cell_type": "code",
   "execution_count": 61,
   "metadata": {
    "colab": {
     "base_uri": "https://localhost:8080/",
     "height": 292
    },
    "executionInfo": {
     "elapsed": 3,
     "status": "ok",
     "timestamp": 1632839586245,
     "user": {
      "displayName": "014_Ramya_Neelakantan",
      "photoUrl": "https://lh3.googleusercontent.com/a-/AOh14Gidy_71hJWkX0zMvA4JVgsSLWKmMuPKlbQ_C1SE5w=s64",
      "userId": "02303944135448643340"
     },
     "user_tz": -330
    },
    "id": "bZ1gJ6TJH3qC",
    "outputId": "47bfe39c-59b4-4a74-ca1c-6233281c0081"
   },
   "outputs": [
    {
     "data": {
      "text/html": [
       "<div>\n",
       "<style scoped>\n",
       "    .dataframe tbody tr th:only-of-type {\n",
       "        vertical-align: middle;\n",
       "    }\n",
       "\n",
       "    .dataframe tbody tr th {\n",
       "        vertical-align: top;\n",
       "    }\n",
       "\n",
       "    .dataframe thead th {\n",
       "        text-align: right;\n",
       "    }\n",
       "</style>\n",
       "<table border=\"1\" class=\"dataframe\">\n",
       "  <thead>\n",
       "    <tr style=\"text-align: right;\">\n",
       "      <th></th>\n",
       "      <th>Item_Identifier</th>\n",
       "      <th>Item_Weight</th>\n",
       "      <th>Item_Fat_Content</th>\n",
       "      <th>Item_Visibility</th>\n",
       "      <th>Item_Type</th>\n",
       "      <th>Item_MRP</th>\n",
       "      <th>Outlet_Identifier</th>\n",
       "      <th>Outlet_Establishment_Year</th>\n",
       "      <th>Outlet_Size</th>\n",
       "      <th>Outlet_Location_Type</th>\n",
       "      <th>Outlet_Type</th>\n",
       "      <th>Item_Outlet_Sales</th>\n",
       "    </tr>\n",
       "  </thead>\n",
       "  <tbody>\n",
       "    <tr>\n",
       "      <th>0</th>\n",
       "      <td>FDP10</td>\n",
       "      <td>NaN</td>\n",
       "      <td>Low Fat</td>\n",
       "      <td>0.127470</td>\n",
       "      <td>Snack Foods</td>\n",
       "      <td>107.7622</td>\n",
       "      <td>OUT027</td>\n",
       "      <td>1985</td>\n",
       "      <td>Medium</td>\n",
       "      <td>Tier 3</td>\n",
       "      <td>Supermarket Type3</td>\n",
       "      <td>4022.7636</td>\n",
       "    </tr>\n",
       "    <tr>\n",
       "      <th>1</th>\n",
       "      <td>DRI11</td>\n",
       "      <td>NaN</td>\n",
       "      <td>Low Fat</td>\n",
       "      <td>0.034238</td>\n",
       "      <td>Hard Drinks</td>\n",
       "      <td>113.2834</td>\n",
       "      <td>OUT027</td>\n",
       "      <td>1985</td>\n",
       "      <td>Medium</td>\n",
       "      <td>Tier 3</td>\n",
       "      <td>Supermarket Type3</td>\n",
       "      <td>2303.6680</td>\n",
       "    </tr>\n",
       "    <tr>\n",
       "      <th>2</th>\n",
       "      <td>FDW12</td>\n",
       "      <td>NaN</td>\n",
       "      <td>Regular</td>\n",
       "      <td>0.035400</td>\n",
       "      <td>Baking Goods</td>\n",
       "      <td>144.5444</td>\n",
       "      <td>OUT027</td>\n",
       "      <td>1985</td>\n",
       "      <td>Medium</td>\n",
       "      <td>Tier 3</td>\n",
       "      <td>Supermarket Type3</td>\n",
       "      <td>4064.0432</td>\n",
       "    </tr>\n",
       "    <tr>\n",
       "      <th>3</th>\n",
       "      <td>FDC37</td>\n",
       "      <td>NaN</td>\n",
       "      <td>Low Fat</td>\n",
       "      <td>0.057557</td>\n",
       "      <td>Baking Goods</td>\n",
       "      <td>107.6938</td>\n",
       "      <td>OUT019</td>\n",
       "      <td>1985</td>\n",
       "      <td>Small</td>\n",
       "      <td>Tier 1</td>\n",
       "      <td>Grocery Store</td>\n",
       "      <td>214.3876</td>\n",
       "    </tr>\n",
       "    <tr>\n",
       "      <th>4</th>\n",
       "      <td>FDC14</td>\n",
       "      <td>NaN</td>\n",
       "      <td>Regular</td>\n",
       "      <td>0.072222</td>\n",
       "      <td>Canned</td>\n",
       "      <td>43.6454</td>\n",
       "      <td>OUT019</td>\n",
       "      <td>1985</td>\n",
       "      <td>Small</td>\n",
       "      <td>Tier 1</td>\n",
       "      <td>Grocery Store</td>\n",
       "      <td>125.8362</td>\n",
       "    </tr>\n",
       "  </tbody>\n",
       "</table>\n",
       "</div>"
      ],
      "text/plain": [
       "  Item_Identifier  Item_Weight Item_Fat_Content  Item_Visibility  \\\n",
       "0           FDP10          NaN          Low Fat         0.127470   \n",
       "1           DRI11          NaN          Low Fat         0.034238   \n",
       "2           FDW12          NaN          Regular         0.035400   \n",
       "3           FDC37          NaN          Low Fat         0.057557   \n",
       "4           FDC14          NaN          Regular         0.072222   \n",
       "\n",
       "      Item_Type  Item_MRP Outlet_Identifier  Outlet_Establishment_Year  \\\n",
       "0   Snack Foods  107.7622            OUT027                       1985   \n",
       "1   Hard Drinks  113.2834            OUT027                       1985   \n",
       "2  Baking Goods  144.5444            OUT027                       1985   \n",
       "3  Baking Goods  107.6938            OUT019                       1985   \n",
       "4        Canned   43.6454            OUT019                       1985   \n",
       "\n",
       "  Outlet_Size Outlet_Location_Type        Outlet_Type  Item_Outlet_Sales  \n",
       "0      Medium               Tier 3  Supermarket Type3          4022.7636  \n",
       "1      Medium               Tier 3  Supermarket Type3          2303.6680  \n",
       "2      Medium               Tier 3  Supermarket Type3          4064.0432  \n",
       "3       Small               Tier 1      Grocery Store           214.3876  \n",
       "4       Small               Tier 1      Grocery Store           125.8362  "
      ]
     },
     "execution_count": 61,
     "metadata": {},
     "output_type": "execute_result"
    }
   ],
   "source": [
    "sheet_1985.head()"
   ]
  },
  {
   "cell_type": "code",
   "execution_count": 62,
   "metadata": {
    "executionInfo": {
     "elapsed": 616,
     "status": "ok",
     "timestamp": 1632839587494,
     "user": {
      "displayName": "014_Ramya_Neelakantan",
      "photoUrl": "https://lh3.googleusercontent.com/a-/AOh14Gidy_71hJWkX0zMvA4JVgsSLWKmMuPKlbQ_C1SE5w=s64",
      "userId": "02303944135448643340"
     },
     "user_tz": -330
    },
    "id": "GPlSyBSTH3qC"
   },
   "outputs": [],
   "source": [
    "sheet_1987 = pd.read_excel('Files\\\\big_mart_sales_with_multiple_sheets.xlsx',\n",
    "                          sheet_name = '1987')\n",
    "sheet_1997 = pd.read_excel('Files\\\\big_mart_sales_with_multiple_sheets.xlsx',\n",
    "                          sheet_name = '1997')"
   ]
  },
  {
   "cell_type": "code",
   "execution_count": 63,
   "metadata": {
    "colab": {
     "base_uri": "https://localhost:8080/",
     "height": 592
    },
    "executionInfo": {
     "elapsed": 381,
     "status": "ok",
     "timestamp": 1632839751335,
     "user": {
      "displayName": "014_Ramya_Neelakantan",
      "photoUrl": "https://lh3.googleusercontent.com/a-/AOh14Gidy_71hJWkX0zMvA4JVgsSLWKmMuPKlbQ_C1SE5w=s64",
      "userId": "02303944135448643340"
     },
     "user_tz": -330
    },
    "id": "HbBm6yFMH3qD",
    "outputId": "b697b556-8677-4311-d215-b265d264e1f6"
   },
   "outputs": [
    {
     "data": {
      "text/html": [
       "<div>\n",
       "<style scoped>\n",
       "    .dataframe tbody tr th:only-of-type {\n",
       "        vertical-align: middle;\n",
       "    }\n",
       "\n",
       "    .dataframe tbody tr th {\n",
       "        vertical-align: top;\n",
       "    }\n",
       "\n",
       "    .dataframe thead th {\n",
       "        text-align: right;\n",
       "    }\n",
       "</style>\n",
       "<table border=\"1\" class=\"dataframe\">\n",
       "  <thead>\n",
       "    <tr style=\"text-align: right;\">\n",
       "      <th></th>\n",
       "      <th>Item_Identifier</th>\n",
       "      <th>Item_Weight</th>\n",
       "      <th>Item_Fat_Content</th>\n",
       "      <th>Item_Visibility</th>\n",
       "      <th>Item_Type</th>\n",
       "      <th>Item_MRP</th>\n",
       "      <th>Outlet_Identifier</th>\n",
       "      <th>Outlet_Establishment_Year</th>\n",
       "      <th>Outlet_Size</th>\n",
       "      <th>Outlet_Location_Type</th>\n",
       "      <th>Outlet_Type</th>\n",
       "      <th>Item_Outlet_Sales</th>\n",
       "    </tr>\n",
       "  </thead>\n",
       "  <tbody>\n",
       "    <tr>\n",
       "      <th>0</th>\n",
       "      <td>FDP10</td>\n",
       "      <td>NaN</td>\n",
       "      <td>Low Fat</td>\n",
       "      <td>0.127470</td>\n",
       "      <td>Snack Foods</td>\n",
       "      <td>107.7622</td>\n",
       "      <td>OUT027</td>\n",
       "      <td>1985</td>\n",
       "      <td>Medium</td>\n",
       "      <td>Tier 3</td>\n",
       "      <td>Supermarket Type3</td>\n",
       "      <td>4022.7636</td>\n",
       "    </tr>\n",
       "    <tr>\n",
       "      <th>1</th>\n",
       "      <td>DRI11</td>\n",
       "      <td>NaN</td>\n",
       "      <td>Low Fat</td>\n",
       "      <td>0.034238</td>\n",
       "      <td>Hard Drinks</td>\n",
       "      <td>113.2834</td>\n",
       "      <td>OUT027</td>\n",
       "      <td>1985</td>\n",
       "      <td>Medium</td>\n",
       "      <td>Tier 3</td>\n",
       "      <td>Supermarket Type3</td>\n",
       "      <td>2303.6680</td>\n",
       "    </tr>\n",
       "    <tr>\n",
       "      <th>2</th>\n",
       "      <td>FDW12</td>\n",
       "      <td>NaN</td>\n",
       "      <td>Regular</td>\n",
       "      <td>0.035400</td>\n",
       "      <td>Baking Goods</td>\n",
       "      <td>144.5444</td>\n",
       "      <td>OUT027</td>\n",
       "      <td>1985</td>\n",
       "      <td>Medium</td>\n",
       "      <td>Tier 3</td>\n",
       "      <td>Supermarket Type3</td>\n",
       "      <td>4064.0432</td>\n",
       "    </tr>\n",
       "    <tr>\n",
       "      <th>3</th>\n",
       "      <td>FDC37</td>\n",
       "      <td>NaN</td>\n",
       "      <td>Low Fat</td>\n",
       "      <td>0.057557</td>\n",
       "      <td>Baking Goods</td>\n",
       "      <td>107.6938</td>\n",
       "      <td>OUT019</td>\n",
       "      <td>1985</td>\n",
       "      <td>Small</td>\n",
       "      <td>Tier 1</td>\n",
       "      <td>Grocery Store</td>\n",
       "      <td>214.3876</td>\n",
       "    </tr>\n",
       "    <tr>\n",
       "      <th>4</th>\n",
       "      <td>FDC14</td>\n",
       "      <td>NaN</td>\n",
       "      <td>Regular</td>\n",
       "      <td>0.072222</td>\n",
       "      <td>Canned</td>\n",
       "      <td>43.6454</td>\n",
       "      <td>OUT019</td>\n",
       "      <td>1985</td>\n",
       "      <td>Small</td>\n",
       "      <td>Tier 1</td>\n",
       "      <td>Grocery Store</td>\n",
       "      <td>125.8362</td>\n",
       "    </tr>\n",
       "    <tr>\n",
       "      <th>...</th>\n",
       "      <td>...</td>\n",
       "      <td>...</td>\n",
       "      <td>...</td>\n",
       "      <td>...</td>\n",
       "      <td>...</td>\n",
       "      <td>...</td>\n",
       "      <td>...</td>\n",
       "      <td>...</td>\n",
       "      <td>...</td>\n",
       "      <td>...</td>\n",
       "      <td>...</td>\n",
       "      <td>...</td>\n",
       "    </tr>\n",
       "    <tr>\n",
       "      <th>925</th>\n",
       "      <td>FDC28</td>\n",
       "      <td>7.905</td>\n",
       "      <td>Low Fat</td>\n",
       "      <td>0.054987</td>\n",
       "      <td>Frozen Foods</td>\n",
       "      <td>108.6254</td>\n",
       "      <td>OUT046</td>\n",
       "      <td>1997</td>\n",
       "      <td>Small</td>\n",
       "      <td>Tier 1</td>\n",
       "      <td>Supermarket Type1</td>\n",
       "      <td>1844.9318</td>\n",
       "    </tr>\n",
       "    <tr>\n",
       "      <th>926</th>\n",
       "      <td>FDB17</td>\n",
       "      <td>13.150</td>\n",
       "      <td>Low Fat</td>\n",
       "      <td>0.036672</td>\n",
       "      <td>Frozen Foods</td>\n",
       "      <td>182.5976</td>\n",
       "      <td>OUT046</td>\n",
       "      <td>1997</td>\n",
       "      <td>Small</td>\n",
       "      <td>Tier 1</td>\n",
       "      <td>Supermarket Type1</td>\n",
       "      <td>4165.2448</td>\n",
       "    </tr>\n",
       "    <tr>\n",
       "      <th>927</th>\n",
       "      <td>FDT34</td>\n",
       "      <td>9.300</td>\n",
       "      <td>Low Fat</td>\n",
       "      <td>0.174350</td>\n",
       "      <td>Snack Foods</td>\n",
       "      <td>104.4964</td>\n",
       "      <td>OUT046</td>\n",
       "      <td>1997</td>\n",
       "      <td>Small</td>\n",
       "      <td>Tier 1</td>\n",
       "      <td>Supermarket Type1</td>\n",
       "      <td>2419.5172</td>\n",
       "    </tr>\n",
       "    <tr>\n",
       "      <th>928</th>\n",
       "      <td>FDF53</td>\n",
       "      <td>20.750</td>\n",
       "      <td>reg</td>\n",
       "      <td>0.083607</td>\n",
       "      <td>Frozen Foods</td>\n",
       "      <td>178.8318</td>\n",
       "      <td>OUT046</td>\n",
       "      <td>1997</td>\n",
       "      <td>Small</td>\n",
       "      <td>Tier 1</td>\n",
       "      <td>Supermarket Type1</td>\n",
       "      <td>3608.6360</td>\n",
       "    </tr>\n",
       "    <tr>\n",
       "      <th>929</th>\n",
       "      <td>DRG01</td>\n",
       "      <td>14.800</td>\n",
       "      <td>Low Fat</td>\n",
       "      <td>0.044878</td>\n",
       "      <td>Soft Drinks</td>\n",
       "      <td>75.4670</td>\n",
       "      <td>OUT046</td>\n",
       "      <td>1997</td>\n",
       "      <td>Small</td>\n",
       "      <td>Tier 1</td>\n",
       "      <td>Supermarket Type1</td>\n",
       "      <td>765.6700</td>\n",
       "    </tr>\n",
       "  </tbody>\n",
       "</table>\n",
       "<p>3325 rows × 12 columns</p>\n",
       "</div>"
      ],
      "text/plain": [
       "    Item_Identifier  Item_Weight Item_Fat_Content  Item_Visibility  \\\n",
       "0             FDP10          NaN          Low Fat         0.127470   \n",
       "1             DRI11          NaN          Low Fat         0.034238   \n",
       "2             FDW12          NaN          Regular         0.035400   \n",
       "3             FDC37          NaN          Low Fat         0.057557   \n",
       "4             FDC14          NaN          Regular         0.072222   \n",
       "..              ...          ...              ...              ...   \n",
       "925           FDC28        7.905          Low Fat         0.054987   \n",
       "926           FDB17       13.150          Low Fat         0.036672   \n",
       "927           FDT34        9.300          Low Fat         0.174350   \n",
       "928           FDF53       20.750              reg         0.083607   \n",
       "929           DRG01       14.800          Low Fat         0.044878   \n",
       "\n",
       "        Item_Type  Item_MRP Outlet_Identifier  Outlet_Establishment_Year  \\\n",
       "0     Snack Foods  107.7622            OUT027                       1985   \n",
       "1     Hard Drinks  113.2834            OUT027                       1985   \n",
       "2    Baking Goods  144.5444            OUT027                       1985   \n",
       "3    Baking Goods  107.6938            OUT019                       1985   \n",
       "4          Canned   43.6454            OUT019                       1985   \n",
       "..            ...       ...               ...                        ...   \n",
       "925  Frozen Foods  108.6254            OUT046                       1997   \n",
       "926  Frozen Foods  182.5976            OUT046                       1997   \n",
       "927   Snack Foods  104.4964            OUT046                       1997   \n",
       "928  Frozen Foods  178.8318            OUT046                       1997   \n",
       "929   Soft Drinks   75.4670            OUT046                       1997   \n",
       "\n",
       "    Outlet_Size Outlet_Location_Type        Outlet_Type  Item_Outlet_Sales  \n",
       "0        Medium               Tier 3  Supermarket Type3          4022.7636  \n",
       "1        Medium               Tier 3  Supermarket Type3          2303.6680  \n",
       "2        Medium               Tier 3  Supermarket Type3          4064.0432  \n",
       "3         Small               Tier 1      Grocery Store           214.3876  \n",
       "4         Small               Tier 1      Grocery Store           125.8362  \n",
       "..          ...                  ...                ...                ...  \n",
       "925       Small               Tier 1  Supermarket Type1          1844.9318  \n",
       "926       Small               Tier 1  Supermarket Type1          4165.2448  \n",
       "927       Small               Tier 1  Supermarket Type1          2419.5172  \n",
       "928       Small               Tier 1  Supermarket Type1          3608.6360  \n",
       "929       Small               Tier 1  Supermarket Type1           765.6700  \n",
       "\n",
       "[3325 rows x 12 columns]"
      ]
     },
     "execution_count": 63,
     "metadata": {},
     "output_type": "execute_result"
    }
   ],
   "source": [
    "# concatenate all sheets\n",
    "sheets = [sheet_1985, sheet_1987, sheet_1997]\n",
    "final_data = pd.concat(sheets)\n",
    "final_data"
   ]
  },
  {
   "cell_type": "code",
   "execution_count": 64,
   "metadata": {
    "colab": {
     "base_uri": "https://localhost:8080/"
    },
    "executionInfo": {
     "elapsed": 1,
     "status": "ok",
     "timestamp": 1632839632330,
     "user": {
      "displayName": "014_Ramya_Neelakantan",
      "photoUrl": "https://lh3.googleusercontent.com/a-/AOh14Gidy_71hJWkX0zMvA4JVgsSLWKmMuPKlbQ_C1SE5w=s64",
      "userId": "02303944135448643340"
     },
     "user_tz": -330
    },
    "id": "zP-3Q__YH3qD",
    "outputId": "459044a5-d1f8-43a2-b1c5-adf4a2cd7c90"
   },
   "outputs": [
    {
     "data": {
      "text/plain": [
       "array([1985, 1987, 1997], dtype=int64)"
      ]
     },
     "execution_count": 64,
     "metadata": {},
     "output_type": "execute_result"
    }
   ],
   "source": [
    "final_data.Outlet_Establishment_Year.unique()"
   ]
  },
  {
   "cell_type": "code",
   "execution_count": 65,
   "metadata": {
    "executionInfo": {
     "elapsed": 649,
     "status": "ok",
     "timestamp": 1632839681433,
     "user": {
      "displayName": "014_Ramya_Neelakantan",
      "photoUrl": "https://lh3.googleusercontent.com/a-/AOh14Gidy_71hJWkX0zMvA4JVgsSLWKmMuPKlbQ_C1SE5w=s64",
      "userId": "02303944135448643340"
     },
     "user_tz": -330
    },
    "id": "nSD2P07FH3qD"
   },
   "outputs": [],
   "source": [
    "# skiprows to skip the first few rows of the csv\n",
    "sheet_with_comments = pd.read_excel('Files\\\\big_mart_sales_with_multiple_sheets.xlsx',\n",
    "                                   skiprows = 3)"
   ]
  },
  {
   "cell_type": "code",
   "execution_count": 66,
   "metadata": {
    "colab": {
     "base_uri": "https://localhost:8080/",
     "height": 238
    },
    "executionInfo": {
     "elapsed": 7,
     "status": "ok",
     "timestamp": 1632839683005,
     "user": {
      "displayName": "014_Ramya_Neelakantan",
      "photoUrl": "https://lh3.googleusercontent.com/a-/AOh14Gidy_71hJWkX0zMvA4JVgsSLWKmMuPKlbQ_C1SE5w=s64",
      "userId": "02303944135448643340"
     },
     "user_tz": -330
    },
    "id": "ae2WttQwH3qD",
    "outputId": "79a7094f-92d0-4e11-a76d-db6a968c934f"
   },
   "outputs": [
    {
     "data": {
      "text/html": [
       "<div>\n",
       "<style scoped>\n",
       "    .dataframe tbody tr th:only-of-type {\n",
       "        vertical-align: middle;\n",
       "    }\n",
       "\n",
       "    .dataframe tbody tr th {\n",
       "        vertical-align: top;\n",
       "    }\n",
       "\n",
       "    .dataframe thead th {\n",
       "        text-align: right;\n",
       "    }\n",
       "</style>\n",
       "<table border=\"1\" class=\"dataframe\">\n",
       "  <thead>\n",
       "    <tr style=\"text-align: right;\">\n",
       "      <th></th>\n",
       "      <th>FDW12</th>\n",
       "      <th>Unnamed: 1</th>\n",
       "      <th>Regular</th>\n",
       "      <th>0.035399923</th>\n",
       "      <th>Baking Goods</th>\n",
       "      <th>144.5444</th>\n",
       "      <th>OUT027</th>\n",
       "      <th>1985</th>\n",
       "      <th>Medium</th>\n",
       "      <th>Tier 3</th>\n",
       "      <th>Supermarket Type3</th>\n",
       "      <th>4064.0432</th>\n",
       "    </tr>\n",
       "  </thead>\n",
       "  <tbody>\n",
       "    <tr>\n",
       "      <th>0</th>\n",
       "      <td>FDC37</td>\n",
       "      <td>NaN</td>\n",
       "      <td>Low Fat</td>\n",
       "      <td>0.057557</td>\n",
       "      <td>Baking Goods</td>\n",
       "      <td>107.6938</td>\n",
       "      <td>OUT019</td>\n",
       "      <td>1985</td>\n",
       "      <td>Small</td>\n",
       "      <td>Tier 1</td>\n",
       "      <td>Grocery Store</td>\n",
       "      <td>214.3876</td>\n",
       "    </tr>\n",
       "    <tr>\n",
       "      <th>1</th>\n",
       "      <td>FDC14</td>\n",
       "      <td>NaN</td>\n",
       "      <td>Regular</td>\n",
       "      <td>0.072222</td>\n",
       "      <td>Canned</td>\n",
       "      <td>43.6454</td>\n",
       "      <td>OUT019</td>\n",
       "      <td>1985</td>\n",
       "      <td>Small</td>\n",
       "      <td>Tier 1</td>\n",
       "      <td>Grocery Store</td>\n",
       "      <td>125.8362</td>\n",
       "    </tr>\n",
       "    <tr>\n",
       "      <th>2</th>\n",
       "      <td>FDV20</td>\n",
       "      <td>NaN</td>\n",
       "      <td>Regular</td>\n",
       "      <td>0.059512</td>\n",
       "      <td>Fruits and Vegetables</td>\n",
       "      <td>128.0678</td>\n",
       "      <td>OUT027</td>\n",
       "      <td>1985</td>\n",
       "      <td>Medium</td>\n",
       "      <td>Tier 3</td>\n",
       "      <td>Supermarket Type3</td>\n",
       "      <td>2797.6916</td>\n",
       "    </tr>\n",
       "    <tr>\n",
       "      <th>3</th>\n",
       "      <td>FDX10</td>\n",
       "      <td>NaN</td>\n",
       "      <td>Regular</td>\n",
       "      <td>0.123111</td>\n",
       "      <td>Snack Foods</td>\n",
       "      <td>36.9874</td>\n",
       "      <td>OUT027</td>\n",
       "      <td>1985</td>\n",
       "      <td>Medium</td>\n",
       "      <td>Tier 3</td>\n",
       "      <td>Supermarket Type3</td>\n",
       "      <td>388.1614</td>\n",
       "    </tr>\n",
       "    <tr>\n",
       "      <th>4</th>\n",
       "      <td>FDB34</td>\n",
       "      <td>NaN</td>\n",
       "      <td>Low Fat</td>\n",
       "      <td>0.026481</td>\n",
       "      <td>Snack Foods</td>\n",
       "      <td>87.6198</td>\n",
       "      <td>OUT027</td>\n",
       "      <td>1985</td>\n",
       "      <td>Medium</td>\n",
       "      <td>Tier 3</td>\n",
       "      <td>Supermarket Type3</td>\n",
       "      <td>2180.4950</td>\n",
       "    </tr>\n",
       "  </tbody>\n",
       "</table>\n",
       "</div>"
      ],
      "text/plain": [
       "   FDW12  Unnamed: 1  Regular  0.035399923           Baking Goods  144.5444  \\\n",
       "0  FDC37         NaN  Low Fat     0.057557           Baking Goods  107.6938   \n",
       "1  FDC14         NaN  Regular     0.072222                 Canned   43.6454   \n",
       "2  FDV20         NaN  Regular     0.059512  Fruits and Vegetables  128.0678   \n",
       "3  FDX10         NaN  Regular     0.123111            Snack Foods   36.9874   \n",
       "4  FDB34         NaN  Low Fat     0.026481            Snack Foods   87.6198   \n",
       "\n",
       "   OUT027  1985  Medium  Tier 3  Supermarket Type3  4064.0432  \n",
       "0  OUT019  1985   Small  Tier 1      Grocery Store   214.3876  \n",
       "1  OUT019  1985   Small  Tier 1      Grocery Store   125.8362  \n",
       "2  OUT027  1985  Medium  Tier 3  Supermarket Type3  2797.6916  \n",
       "3  OUT027  1985  Medium  Tier 3  Supermarket Type3   388.1614  \n",
       "4  OUT027  1985  Medium  Tier 3  Supermarket Type3  2180.4950  "
      ]
     },
     "execution_count": 66,
     "metadata": {},
     "output_type": "execute_result"
    }
   ],
   "source": [
    "sheet_with_comments.head()"
   ]
  },
  {
   "cell_type": "markdown",
   "metadata": {
    "id": "oSwsPA4QH3qD"
   },
   "source": [
    "## JSON"
   ]
  },
  {
   "cell_type": "code",
   "execution_count": 67,
   "metadata": {
    "colab": {
     "base_uri": "https://localhost:8080/",
     "height": 204
    },
    "executionInfo": {
     "elapsed": 369,
     "status": "ok",
     "timestamp": 1632839833837,
     "user": {
      "displayName": "014_Ramya_Neelakantan",
      "photoUrl": "https://lh3.googleusercontent.com/a-/AOh14Gidy_71hJWkX0zMvA4JVgsSLWKmMuPKlbQ_C1SE5w=s64",
      "userId": "02303944135448643340"
     },
     "user_tz": -330
    },
    "id": "mXB2LcAbH3qD",
    "outputId": "3ca51cfd-1e81-419a-c245-bf24659cc64c"
   },
   "outputs": [
    {
     "data": {
      "text/html": [
       "<div>\n",
       "<style scoped>\n",
       "    .dataframe tbody tr th:only-of-type {\n",
       "        vertical-align: middle;\n",
       "    }\n",
       "\n",
       "    .dataframe tbody tr th {\n",
       "        vertical-align: top;\n",
       "    }\n",
       "\n",
       "    .dataframe thead th {\n",
       "        text-align: right;\n",
       "    }\n",
       "</style>\n",
       "<table border=\"1\" class=\"dataframe\">\n",
       "  <thead>\n",
       "    <tr style=\"text-align: right;\">\n",
       "      <th></th>\n",
       "      <th>name</th>\n",
       "      <th>age</th>\n",
       "      <th>grade</th>\n",
       "    </tr>\n",
       "  </thead>\n",
       "  <tbody>\n",
       "    <tr>\n",
       "      <th>0</th>\n",
       "      <td>Andew</td>\n",
       "      <td>12</td>\n",
       "      <td>A</td>\n",
       "    </tr>\n",
       "    <tr>\n",
       "      <th>1</th>\n",
       "      <td>Bhuvan</td>\n",
       "      <td>18</td>\n",
       "      <td>B</td>\n",
       "    </tr>\n",
       "    <tr>\n",
       "      <th>2</th>\n",
       "      <td>Clinton</td>\n",
       "      <td>11</td>\n",
       "      <td>A</td>\n",
       "    </tr>\n",
       "    <tr>\n",
       "      <th>3</th>\n",
       "      <td>Drake</td>\n",
       "      <td>12</td>\n",
       "      <td>C</td>\n",
       "    </tr>\n",
       "    <tr>\n",
       "      <th>4</th>\n",
       "      <td>Eisha</td>\n",
       "      <td>13</td>\n",
       "      <td>B</td>\n",
       "    </tr>\n",
       "  </tbody>\n",
       "</table>\n",
       "</div>"
      ],
      "text/plain": [
       "      name  age grade\n",
       "0    Andew   12     A\n",
       "1   Bhuvan   18     B\n",
       "2  Clinton   11     A\n",
       "3    Drake   12     C\n",
       "4    Eisha   13     B"
      ]
     },
     "execution_count": 67,
     "metadata": {},
     "output_type": "execute_result"
    }
   ],
   "source": [
    "# In this, the entire data is 1 json file\n",
    "data = pd.read_json('Files\\\\simple.json')\n",
    "data.head()"
   ]
  },
  {
   "cell_type": "code",
   "execution_count": 68,
   "metadata": {
    "colab": {
     "base_uri": "https://localhost:8080/",
     "height": 204
    },
    "executionInfo": {
     "elapsed": 536,
     "status": "ok",
     "timestamp": 1632839891127,
     "user": {
      "displayName": "014_Ramya_Neelakantan",
      "photoUrl": "https://lh3.googleusercontent.com/a-/AOh14Gidy_71hJWkX0zMvA4JVgsSLWKmMuPKlbQ_C1SE5w=s64",
      "userId": "02303944135448643340"
     },
     "user_tz": -330
    },
    "id": "BVKiuyhpH3qD",
    "outputId": "cba7af89-8877-40c4-f616-44681acb0978"
   },
   "outputs": [
    {
     "data": {
      "text/html": [
       "<div>\n",
       "<style scoped>\n",
       "    .dataframe tbody tr th:only-of-type {\n",
       "        vertical-align: middle;\n",
       "    }\n",
       "\n",
       "    .dataframe tbody tr th {\n",
       "        vertical-align: top;\n",
       "    }\n",
       "\n",
       "    .dataframe thead th {\n",
       "        text-align: right;\n",
       "    }\n",
       "</style>\n",
       "<table border=\"1\" class=\"dataframe\">\n",
       "  <thead>\n",
       "    <tr style=\"text-align: right;\">\n",
       "      <th></th>\n",
       "      <th>name</th>\n",
       "      <th>age</th>\n",
       "      <th>grade</th>\n",
       "    </tr>\n",
       "  </thead>\n",
       "  <tbody>\n",
       "    <tr>\n",
       "      <th>0</th>\n",
       "      <td>Andew</td>\n",
       "      <td>12</td>\n",
       "      <td>A</td>\n",
       "    </tr>\n",
       "    <tr>\n",
       "      <th>1</th>\n",
       "      <td>Bhuvan</td>\n",
       "      <td>18</td>\n",
       "      <td>B</td>\n",
       "    </tr>\n",
       "    <tr>\n",
       "      <th>2</th>\n",
       "      <td>Clinton</td>\n",
       "      <td>11</td>\n",
       "      <td>A</td>\n",
       "    </tr>\n",
       "    <tr>\n",
       "      <th>3</th>\n",
       "      <td>Drake</td>\n",
       "      <td>12</td>\n",
       "      <td>C</td>\n",
       "    </tr>\n",
       "    <tr>\n",
       "      <th>4</th>\n",
       "      <td>Eisha</td>\n",
       "      <td>13</td>\n",
       "      <td>B</td>\n",
       "    </tr>\n",
       "  </tbody>\n",
       "</table>\n",
       "</div>"
      ],
      "text/plain": [
       "      name  age grade\n",
       "0    Andew   12     A\n",
       "1   Bhuvan   18     B\n",
       "2  Clinton   11     A\n",
       "3    Drake   12     C\n",
       "4    Eisha   13     B"
      ]
     },
     "execution_count": 68,
     "metadata": {},
     "output_type": "execute_result"
    }
   ],
   "source": [
    "# In this, each line is a separate json\n",
    "data_with_records = pd.read_json('Files\\\\simple_records.json', \n",
    "                                 lines = True)\n",
    "data_with_records.head()"
   ]
  },
  {
   "cell_type": "code",
   "execution_count": 70,
   "metadata": {
    "colab": {
     "base_uri": "https://localhost:8080/"
    },
    "executionInfo": {
     "elapsed": 3579,
     "status": "ok",
     "timestamp": 1632840219135,
     "user": {
      "displayName": "014_Ramya_Neelakantan",
      "photoUrl": "https://lh3.googleusercontent.com/a-/AOh14Gidy_71hJWkX0zMvA4JVgsSLWKmMuPKlbQ_C1SE5w=s64",
      "userId": "02303944135448643340"
     },
     "user_tz": -330
    },
    "id": "DRIhNbxf2p0-",
    "outputId": "087cbbb9-220d-4d9a-91b2-e96d884c367d"
   },
   "outputs": [
    {
     "name": "stdout",
     "output_type": "stream",
     "text": [
      "Collecting simplejson\n",
      "  Downloading simplejson-3.17.6-cp38-cp38-win_amd64.whl (75 kB)\n",
      "Installing collected packages: simplejson\n",
      "Successfully installed simplejson-3.17.6\n"
     ]
    }
   ],
   "source": [
    "!pip install simplejson"
   ]
  },
  {
   "cell_type": "code",
   "execution_count": 71,
   "metadata": {
    "executionInfo": {
     "elapsed": 476,
     "status": "ok",
     "timestamp": 1632840183697,
     "user": {
      "displayName": "014_Ramya_Neelakantan",
      "photoUrl": "https://lh3.googleusercontent.com/a-/AOh14Gidy_71hJWkX0zMvA4JVgsSLWKmMuPKlbQ_C1SE5w=s64",
      "userId": "02303944135448643340"
     },
     "user_tz": -330
    },
    "id": "VZ2a0RpYH3qE"
   },
   "outputs": [],
   "source": [
    "# Nested json files : \n",
    "# JSON module\n",
    "import simplejson as json\n",
    "import json"
   ]
  },
  {
   "cell_type": "code",
   "execution_count": 73,
   "metadata": {
    "colab": {
     "base_uri": "https://localhost:8080/"
    },
    "executionInfo": {
     "elapsed": 625,
     "status": "ok",
     "timestamp": 1632840185905,
     "user": {
      "displayName": "014_Ramya_Neelakantan",
      "photoUrl": "https://lh3.googleusercontent.com/a-/AOh14Gidy_71hJWkX0zMvA4JVgsSLWKmMuPKlbQ_C1SE5w=s64",
      "userId": "02303944135448643340"
     },
     "user_tz": -330
    },
    "id": "ko8kbu6LH3qE",
    "outputId": "3922d890-6c62-407e-ca35-80a0b8e260df"
   },
   "outputs": [
    {
     "name": "stdout",
     "output_type": "stream",
     "text": [
      "[{'student_roll_no': 101, 'details': {'name': 'Andew', 'age': 12, 'grade': 'A'}}, {'student_roll_no': 102, 'details': {'name': 'Bhuvan', 'age': 18, 'grade': 'B'}}, {'student_roll_no': 103, 'details': {'name': 'Clinton', 'age': 11, 'grade': 'A'}}, {'student_roll_no': 104, 'details': {'name': 'Drake', 'age': 12, 'grade': 'C'}}, {'student_roll_no': 105, 'details': {'name': 'Eisha', 'age': 13, 'grade': 'B'}}, {'student_roll_no': 106, 'details': {'name': 'Farhan', 'age': 22, 'grade': 'C'}}, {'student_roll_no': 107, 'details': {'name': 'Garima', 'age': 11, 'grade': 'A'}}, {'student_roll_no': 108, 'details': {'name': 'Himanshu', 'age': 19, 'grade': 'A'}}, {'student_roll_no': 109, 'details': {'name': 'Ishaan', 'age': 10, 'grade': 'D'}}, {'student_roll_no': 110, 'details': {'name': 'Jason', 'age': 9, 'grade': 'B'}}]\n"
     ]
    }
   ],
   "source": [
    "with open('Files\\\\nested.json') as f:\n",
    "    my_json_data = json.load(f)\n",
    "    \n",
    "print(my_json_data)"
   ]
  },
  {
   "cell_type": "code",
   "execution_count": 74,
   "metadata": {
    "colab": {
     "base_uri": "https://localhost:8080/"
    },
    "executionInfo": {
     "elapsed": 632,
     "status": "ok",
     "timestamp": 1632840357566,
     "user": {
      "displayName": "014_Ramya_Neelakantan",
      "photoUrl": "https://lh3.googleusercontent.com/a-/AOh14Gidy_71hJWkX0zMvA4JVgsSLWKmMuPKlbQ_C1SE5w=s64",
      "userId": "02303944135448643340"
     },
     "user_tz": -330
    },
    "id": "VnkwRJHYH3qE",
    "outputId": "9ec21ff6-0a2c-4c36-82d8-fc4bc7a2c46a"
   },
   "outputs": [
    {
     "name": "stdout",
     "output_type": "stream",
     "text": [
      "[{'details': {'age': 12, 'grade': 'A', 'name': 'Andew'},\n",
      "  'student_roll_no': 101},\n",
      " {'details': {'age': 18, 'grade': 'B', 'name': 'Bhuvan'},\n",
      "  'student_roll_no': 102},\n",
      " {'details': {'age': 11, 'grade': 'A', 'name': 'Clinton'},\n",
      "  'student_roll_no': 103},\n",
      " {'details': {'age': 12, 'grade': 'C', 'name': 'Drake'},\n",
      "  'student_roll_no': 104},\n",
      " {'details': {'age': 13, 'grade': 'B', 'name': 'Eisha'},\n",
      "  'student_roll_no': 105},\n",
      " {'details': {'age': 22, 'grade': 'C', 'name': 'Farhan'},\n",
      "  'student_roll_no': 106},\n",
      " {'details': {'age': 11, 'grade': 'A', 'name': 'Garima'},\n",
      "  'student_roll_no': 107},\n",
      " {'details': {'age': 19, 'grade': 'A', 'name': 'Himanshu'},\n",
      "  'student_roll_no': 108},\n",
      " {'details': {'age': 10, 'grade': 'D', 'name': 'Ishaan'},\n",
      "  'student_roll_no': 109},\n",
      " {'details': {'age': 9, 'grade': 'B', 'name': 'Jason'}, 'student_roll_no': 110}]\n"
     ]
    }
   ],
   "source": [
    "# present this in readable format (prettyprint): \n",
    "from pprint import pprint\n",
    "pprint(my_json_data)"
   ]
  },
  {
   "cell_type": "code",
   "execution_count": 75,
   "metadata": {
    "colab": {
     "base_uri": "https://localhost:8080/"
    },
    "executionInfo": {
     "elapsed": 650,
     "status": "ok",
     "timestamp": 1632840413991,
     "user": {
      "displayName": "014_Ramya_Neelakantan",
      "photoUrl": "https://lh3.googleusercontent.com/a-/AOh14Gidy_71hJWkX0zMvA4JVgsSLWKmMuPKlbQ_C1SE5w=s64",
      "userId": "02303944135448643340"
     },
     "user_tz": -330
    },
    "id": "dpyU1ivEH3qE",
    "outputId": "42ad8c70-45b7-4c5e-aeab-6de6730458bd"
   },
   "outputs": [
    {
     "data": {
      "text/plain": [
       "{'student_roll_no': 101, 'details': {'name': 'Andew', 'age': 12, 'grade': 'A'}}"
      ]
     },
     "execution_count": 75,
     "metadata": {},
     "output_type": "execute_result"
    }
   ],
   "source": [
    "# Create a new json file that contains the names\n",
    "# of people whose age is greater than 15\n",
    "\n",
    "data_0 = my_json_data[0]\n",
    "data_0"
   ]
  },
  {
   "cell_type": "code",
   "execution_count": 76,
   "metadata": {
    "executionInfo": {
     "elapsed": 662,
     "status": "ok",
     "timestamp": 1632840567607,
     "user": {
      "displayName": "014_Ramya_Neelakantan",
      "photoUrl": "https://lh3.googleusercontent.com/a-/AOh14Gidy_71hJWkX0zMvA4JVgsSLWKmMuPKlbQ_C1SE5w=s64",
      "userId": "02303944135448643340"
     },
     "user_tz": -330
    },
    "id": "D4djYATsH3qE"
   },
   "outputs": [],
   "source": [
    "dic1 = data_0['details']"
   ]
  },
  {
   "cell_type": "code",
   "execution_count": 77,
   "metadata": {
    "colab": {
     "base_uri": "https://localhost:8080/"
    },
    "executionInfo": {
     "elapsed": 644,
     "status": "ok",
     "timestamp": 1632840576996,
     "user": {
      "displayName": "014_Ramya_Neelakantan",
      "photoUrl": "https://lh3.googleusercontent.com/a-/AOh14Gidy_71hJWkX0zMvA4JVgsSLWKmMuPKlbQ_C1SE5w=s64",
      "userId": "02303944135448643340"
     },
     "user_tz": -330
    },
    "id": "6GDcXvsGH3qE",
    "outputId": "be606a53-c834-4839-daf1-7f2f6bd2263b"
   },
   "outputs": [
    {
     "data": {
      "text/plain": [
       "12"
      ]
     },
     "execution_count": 77,
     "metadata": {},
     "output_type": "execute_result"
    }
   ],
   "source": [
    "dic1['age']"
   ]
  },
  {
   "cell_type": "code",
   "execution_count": 78,
   "metadata": {
    "executionInfo": {
     "elapsed": 632,
     "status": "ok",
     "timestamp": 1632840893524,
     "user": {
      "displayName": "014_Ramya_Neelakantan",
      "photoUrl": "https://lh3.googleusercontent.com/a-/AOh14Gidy_71hJWkX0zMvA4JVgsSLWKmMuPKlbQ_C1SE5w=s64",
      "userId": "02303944135448643340"
     },
     "user_tz": -330
    },
    "id": "CqbbQUbIH3qE"
   },
   "outputs": [],
   "source": [
    "# Solution :\n",
    "filtered_data = []\n",
    "\n",
    "for data in my_json_data : \n",
    "    #print(data['details']['age'])\n",
    "    filtered_variable = {}\n",
    "    if data['details']['age'] > 15:\n",
    "        filtered_variable['age'] = data['details']['age']\n",
    "        filtered_variable['name'] = data['details']['name']\n",
    "        filtered_data.append(filtered_variable)\n",
    "\n",
    "\n",
    "# filtered var = {'name' : bdjsd,\n",
    "#                 'age' : 12\n",
    "#                }\n",
    "\n",
    "# filtered_data = [filtered_variable, d2, d3, d4]"
   ]
  },
  {
   "cell_type": "code",
   "execution_count": 79,
   "metadata": {
    "colab": {
     "base_uri": "https://localhost:8080/"
    },
    "executionInfo": {
     "elapsed": 628,
     "status": "ok",
     "timestamp": 1632840658139,
     "user": {
      "displayName": "014_Ramya_Neelakantan",
      "photoUrl": "https://lh3.googleusercontent.com/a-/AOh14Gidy_71hJWkX0zMvA4JVgsSLWKmMuPKlbQ_C1SE5w=s64",
      "userId": "02303944135448643340"
     },
     "user_tz": -330
    },
    "id": "dU2w4F_HH3qE",
    "outputId": "2b9eece4-f98d-4f9b-9b72-be3c0cad5db0"
   },
   "outputs": [
    {
     "data": {
      "text/plain": [
       "[{'age': 18, 'name': 'Bhuvan'},\n",
       " {'age': 22, 'name': 'Farhan'},\n",
       " {'age': 19, 'name': 'Himanshu'}]"
      ]
     },
     "execution_count": 79,
     "metadata": {},
     "output_type": "execute_result"
    }
   ],
   "source": [
    "filtered_data"
   ]
  },
  {
   "cell_type": "code",
   "execution_count": 80,
   "metadata": {
    "executionInfo": {
     "elapsed": 2,
     "status": "ok",
     "timestamp": 1632840704292,
     "user": {
      "displayName": "014_Ramya_Neelakantan",
      "photoUrl": "https://lh3.googleusercontent.com/a-/AOh14Gidy_71hJWkX0zMvA4JVgsSLWKmMuPKlbQ_C1SE5w=s64",
      "userId": "02303944135448643340"
     },
     "user_tz": -330
    },
    "id": "qbgI91WSH3qE"
   },
   "outputs": [],
   "source": [
    "# writing to a json file\n",
    "\n",
    "with open('Files\\\\filtered.json', 'w') as f:\n",
    "    json.dump(filtered_data, f)"
   ]
  },
  {
   "cell_type": "markdown",
   "metadata": {
    "id": "897aFYCtH3qE"
   },
   "source": [
    "## Subsetting and Modifying Data in Python"
   ]
  },
  {
   "cell_type": "code",
   "execution_count": null,
   "metadata": {
    "id": "65SxUU5uH3qE"
   },
   "outputs": [],
   "source": [
    "# Subsetting : position, label and value based subsetting\n",
    "# Modifying : Fill missing values, manipulating rows, cols etc."
   ]
  },
  {
   "cell_type": "code",
   "execution_count": null,
   "metadata": {
    "id": "bwmJT3pKH3qE"
   },
   "outputs": [],
   "source": [
    "data = pd.read_csv('datasets/big_mart_sales.csv')"
   ]
  },
  {
   "cell_type": "code",
   "execution_count": null,
   "metadata": {
    "id": "EaHw9mA8H3qF"
   },
   "outputs": [],
   "source": [
    "data.index"
   ]
  },
  {
   "cell_type": "code",
   "execution_count": null,
   "metadata": {
    "id": "Y17VJJc0H3qF"
   },
   "outputs": [],
   "source": [
    "data.shape"
   ]
  },
  {
   "cell_type": "code",
   "execution_count": null,
   "metadata": {
    "id": "iXXcHYOsH3qF"
   },
   "outputs": [],
   "source": [
    "data.columns"
   ]
  },
  {
   "cell_type": "code",
   "execution_count": null,
   "metadata": {
    "id": "zjPojWNAH3qF"
   },
   "outputs": [],
   "source": [
    "# how to get the first n rows based on positional index : \n",
    "data.head(7)"
   ]
  },
  {
   "cell_type": "code",
   "execution_count": null,
   "metadata": {
    "id": "8XKJpnGVH3qF"
   },
   "outputs": [],
   "source": [
    "# How to change the positional index of rows\n",
    "import random\n",
    "random_list = [random.randint(1,8523) for i in range(8523)]\n",
    "random_list"
   ]
  },
  {
   "cell_type": "code",
   "execution_count": null,
   "metadata": {
    "id": "OsWjnhtAH3qF"
   },
   "outputs": [],
   "source": [
    "# changing index of rows in dataframe\n",
    "# new index is treated as a label for the row : label based indexing\n",
    "data.index = random_list\n",
    "data.head()"
   ]
  },
  {
   "cell_type": "code",
   "execution_count": null,
   "metadata": {
    "id": "Tcp4JLhrH3qF"
   },
   "outputs": [],
   "source": [
    "# or\n",
    "# 1. Change index of dataframe\n",
    "# 2. Drop = True is used to drop the column that is set as the index. If set to false, we will have the column \n",
    "#    2 times in the dataframe\n",
    "# 3. Inplace = True is used to amke changes in the original dataframe. If it is false, it creates a copy and \n",
    "#    prints the right value only in tht cell \n",
    "\n",
    "data = pd.read_csv('datasets/big_mart_sales.csv')"
   ]
  },
  {
   "cell_type": "code",
   "execution_count": null,
   "metadata": {
    "id": "mh2CtC7pH3qF"
   },
   "outputs": [],
   "source": [
    "data.head()"
   ]
  },
  {
   "cell_type": "code",
   "execution_count": null,
   "metadata": {
    "id": "OSlG7m2EH3qF"
   },
   "outputs": [],
   "source": [
    "data.set_index('Outlet_Establishment_Year', drop = True, inplace = True)\n",
    "data.head()"
   ]
  },
  {
   "cell_type": "code",
   "execution_count": null,
   "metadata": {
    "id": "t81NiOXeH3qG"
   },
   "outputs": [],
   "source": [
    "data.index"
   ]
  },
  {
   "cell_type": "code",
   "execution_count": null,
   "metadata": {
    "id": "FhYYnrphH3qG"
   },
   "outputs": [],
   "source": [
    "data.reset_index(inplace = True)"
   ]
  },
  {
   "cell_type": "code",
   "execution_count": null,
   "metadata": {
    "id": "fj3tahPqH3qG"
   },
   "outputs": [],
   "source": [
    "# index can be categorical as well. \n",
    "data.set_index('Item_Identifier', drop = True, inplace = True)"
   ]
  },
  {
   "cell_type": "code",
   "execution_count": null,
   "metadata": {
    "id": "FbiGJsmRH3qG"
   },
   "outputs": [],
   "source": [
    "data.index"
   ]
  },
  {
   "cell_type": "code",
   "execution_count": null,
   "metadata": {
    "id": "i4mCbawNH3qG"
   },
   "outputs": [],
   "source": [
    "# How to subset data if the index is categorical?\n",
    "data.loc['FDA15']"
   ]
  },
  {
   "cell_type": "code",
   "execution_count": null,
   "metadata": {
    "id": "RSVIqJyxH3qG"
   },
   "outputs": [],
   "source": [
    "# Can we reset index ? \n",
    "data.reset_index(inplace = True)\n",
    "data.head()"
   ]
  },
  {
   "cell_type": "code",
   "execution_count": null,
   "metadata": {
    "id": "cOcqqlO9H3qG"
   },
   "outputs": [],
   "source": [
    "# How to subset data on the basis of a value of a column"
   ]
  },
  {
   "cell_type": "code",
   "execution_count": null,
   "metadata": {
    "id": "M6QUzsXLH3qG"
   },
   "outputs": [],
   "source": [
    "data.head()"
   ]
  },
  {
   "cell_type": "code",
   "execution_count": null,
   "metadata": {
    "id": "K5iWmxEKH3qG"
   },
   "outputs": [],
   "source": [
    "data[data['Item_Type'] == 'Dairy']"
   ]
  },
  {
   "cell_type": "code",
   "execution_count": null,
   "metadata": {
    "id": "49-c_LqRH3qG"
   },
   "outputs": [],
   "source": [
    "data['Item_Type'].unique()"
   ]
  },
  {
   "cell_type": "markdown",
   "metadata": {
    "id": "uAxGmjiHH3qG"
   },
   "source": [
    "### Subsetting based on position"
   ]
  },
  {
   "cell_type": "code",
   "execution_count": null,
   "metadata": {
    "id": "dvsjFCDXH3qG"
   },
   "outputs": [],
   "source": [
    "data = pd.read_csv('datasets/big_mart_sales.csv')"
   ]
  },
  {
   "cell_type": "code",
   "execution_count": null,
   "metadata": {
    "id": "aN3xQ7eHH3qG"
   },
   "outputs": [],
   "source": [
    "data.shape"
   ]
  },
  {
   "cell_type": "code",
   "execution_count": null,
   "metadata": {
    "id": "YkHBPDCxH3qH"
   },
   "outputs": [],
   "source": [
    "data.head(10)"
   ]
  },
  {
   "cell_type": "code",
   "execution_count": null,
   "metadata": {
    "id": "JVypBB3VH3qH"
   },
   "outputs": [],
   "source": [
    "data.tail(10)"
   ]
  },
  {
   "cell_type": "code",
   "execution_count": null,
   "metadata": {
    "id": "0gIXCQrsH3qH"
   },
   "outputs": [],
   "source": [
    "# Access rows in a particular range\n",
    "data[10:15]"
   ]
  },
  {
   "cell_type": "code",
   "execution_count": null,
   "metadata": {
    "id": "17vTex6GH3qH"
   },
   "outputs": [],
   "source": [
    "data[-10:-6]"
   ]
  },
  {
   "cell_type": "code",
   "execution_count": null,
   "metadata": {
    "id": "Vy4kQAH8H3qH"
   },
   "outputs": [],
   "source": [
    "# Select specific rows by position\n",
    "data.iloc[[1,5,2,4,6,14]]"
   ]
  },
  {
   "cell_type": "code",
   "execution_count": null,
   "metadata": {
    "id": "FGfI4yr-H3qH"
   },
   "outputs": [],
   "source": [
    "data.iloc[[1,4,5,2],[1,3,5]] # Row, Col"
   ]
  },
  {
   "cell_type": "code",
   "execution_count": null,
   "metadata": {
    "id": "Kdtg8kDUH3qH"
   },
   "outputs": [],
   "source": [
    "data.iloc[10:20:3,[1,2]]"
   ]
  },
  {
   "cell_type": "markdown",
   "metadata": {
    "id": "HH4OiYXzH3qH"
   },
   "source": [
    "### Subsetting based on labels"
   ]
  },
  {
   "cell_type": "code",
   "execution_count": null,
   "metadata": {
    "id": "8dBHQ_4eH3qH"
   },
   "outputs": [],
   "source": [
    "data.set_index('Item_Identifier', inplace = True, drop = True)"
   ]
  },
  {
   "cell_type": "code",
   "execution_count": null,
   "metadata": {
    "id": "XTRvROFPH3qH"
   },
   "outputs": [],
   "source": [
    "data.head()"
   ]
  },
  {
   "cell_type": "code",
   "execution_count": null,
   "metadata": {
    "id": "VasASOhSH3qH"
   },
   "outputs": [],
   "source": [
    "# How to select rows on the basis of this new index\n",
    "data.loc['FDA15']"
   ]
  },
  {
   "cell_type": "code",
   "execution_count": null,
   "metadata": {
    "id": "0IjeCtSDH3qH"
   },
   "outputs": [],
   "source": [
    "data.loc[['FDA15', 'FDN03']]"
   ]
  },
  {
   "cell_type": "code",
   "execution_count": null,
   "metadata": {
    "id": "D6pLjTgFH3qH"
   },
   "outputs": [],
   "source": [
    "# Select rows and cols\n",
    "data.loc[['FDA15', 'FDA03'], \"Item_Fat_Content\"]"
   ]
  },
  {
   "cell_type": "code",
   "execution_count": null,
   "metadata": {
    "id": "Tb-E_bJ8H3qH"
   },
   "outputs": [],
   "source": [
    "data.loc[['FDA15', 'FDA03'], [\"Item_Fat_Content\", 'Item_MRP']]"
   ]
  },
  {
   "cell_type": "code",
   "execution_count": null,
   "metadata": {
    "id": "g3WkEfLBH3qH"
   },
   "outputs": [],
   "source": [
    "# loc vs iloc\n",
    "sample_df = pd.DataFrame({\n",
    "    'gender' : ['M','F','M','M','F'],\n",
    "    'grade'  : ['A','A','B','B','A'],\n",
    "    'marks'  : [22,21,12,14,20],\n",
    "    'id'     : ['A101', 'A102', 'A103', 'A104', 'A105']\n",
    "})\n",
    "\n",
    "#index is positional by default\n",
    "sample_df"
   ]
  },
  {
   "cell_type": "code",
   "execution_count": null,
   "metadata": {
    "id": "E_wyEDeqH3qI"
   },
   "outputs": [],
   "source": [
    "#eg1\n",
    "sample_df.loc[2:4] # indexing based on labels (positions)"
   ]
  },
  {
   "cell_type": "code",
   "execution_count": null,
   "metadata": {
    "id": "QYsV6IgWH3qI"
   },
   "outputs": [],
   "source": [
    "sample_df.iloc[2:4] # indexing on the basis of index"
   ]
  },
  {
   "cell_type": "code",
   "execution_count": null,
   "metadata": {
    "id": "vru1UfolH3qI"
   },
   "outputs": [],
   "source": [
    "#eg2\n",
    "sample_df = sample_df.sort_values(by = ['marks'])\n",
    "sample_df"
   ]
  },
  {
   "cell_type": "code",
   "execution_count": null,
   "metadata": {
    "id": "v6-ovlBsH3qI"
   },
   "outputs": [],
   "source": [
    "sample_df.loc[2:4]"
   ]
  },
  {
   "cell_type": "code",
   "execution_count": null,
   "metadata": {
    "id": "kEr2CjMyH3qI"
   },
   "outputs": [],
   "source": [
    "sample_df.iloc[2:4] # iloc: index location "
   ]
  },
  {
   "cell_type": "code",
   "execution_count": null,
   "metadata": {
    "id": "v1v5m8rrH3qI"
   },
   "outputs": [],
   "source": [
    "#eg3\n",
    "sample_df.set_index('id', inplace = True)\n",
    "sample_df"
   ]
  },
  {
   "cell_type": "code",
   "execution_count": null,
   "metadata": {
    "id": "08tYAZNpH3qI"
   },
   "outputs": [],
   "source": [
    "sample_df.loc[2:4]"
   ]
  },
  {
   "cell_type": "code",
   "execution_count": null,
   "metadata": {
    "id": "p72nRD7kH3qI"
   },
   "outputs": [],
   "source": [
    "sample_df.loc['A103':'A102']"
   ]
  },
  {
   "cell_type": "code",
   "execution_count": null,
   "metadata": {
    "id": "pkbMzApyH3qI"
   },
   "outputs": [],
   "source": [
    "sample_df.iloc[2:4]"
   ]
  },
  {
   "cell_type": "markdown",
   "metadata": {
    "id": "M-i8lvVBH3qI"
   },
   "source": [
    "### Subsetting based on values"
   ]
  },
  {
   "cell_type": "code",
   "execution_count": null,
   "metadata": {
    "id": "0ltO7vdSH3qI"
   },
   "outputs": [],
   "source": [
    "data = pd.read_csv('datasets/big_mart_sales.csv')\n",
    "data.head()"
   ]
  },
  {
   "cell_type": "code",
   "execution_count": null,
   "metadata": {
    "id": "N3shGCcvH3qI"
   },
   "outputs": [],
   "source": [
    "# rows and cols based on a condition\n",
    "data[data.Outlet_Establishment_Year == 1987]"
   ]
  },
  {
   "cell_type": "code",
   "execution_count": null,
   "metadata": {
    "id": "hsz5u1CWH3qI"
   },
   "outputs": [],
   "source": [
    "data.loc[data.Outlet_Establishment_Year == 1987]"
   ]
  },
  {
   "cell_type": "code",
   "execution_count": null,
   "metadata": {
    "id": "U9YiBlOzH3qI"
   },
   "outputs": [],
   "source": [
    "# based on 2 conditions\n",
    "data[(data.Outlet_Establishment_Year == 2009) & (data.Outlet_Size == 'Medium')] #and"
   ]
  },
  {
   "cell_type": "code",
   "execution_count": null,
   "metadata": {
    "id": "Ux526HGiH3qJ"
   },
   "outputs": [],
   "source": [
    "data[(data.Outlet_Establishment_Year == 2009) | (data.Outlet_Size == 'Medium')] #or |, not !: "
   ]
  },
  {
   "cell_type": "code",
   "execution_count": null,
   "metadata": {
    "id": "js3mFn4zH3qJ"
   },
   "outputs": [],
   "source": [
    "data.loc[(data.Outlet_Establishment_Year == 2009) & (data.Outlet_Size == 'Medium')]"
   ]
  },
  {
   "cell_type": "code",
   "execution_count": null,
   "metadata": {
    "id": "3he_V5KfH3qJ"
   },
   "outputs": [],
   "source": [
    "# HOw to filter on a list of values\n",
    "# Get rows for which year is 1987-1989\n",
    "years = [1987, 1988, 1999]\n",
    "\n",
    "data.loc[data.Outlet_Establishment_Year.isin(years)]"
   ]
  },
  {
   "cell_type": "code",
   "execution_count": null,
   "metadata": {
    "id": "LuzmMA3xH3qJ"
   },
   "outputs": [],
   "source": [
    "# How to select specific columns from the data\n",
    "select_cols = ['Item_Identifier', 'Item_MRP', 'Outlet_Establishment_Year', 'Outlet_Size']\n",
    "data[select_cols]"
   ]
  },
  {
   "cell_type": "code",
   "execution_count": null,
   "metadata": {
    "id": "pafsBt3pH3qJ"
   },
   "outputs": [],
   "source": [
    "# Roes based on conditions and certain cols\n",
    "data[(data.Outlet_Establishment_Year == 1987) & (data.Outlet_Size == 'High')][select_cols]"
   ]
  },
  {
   "cell_type": "code",
   "execution_count": null,
   "metadata": {
    "id": "S_3iv7x8H3qJ"
   },
   "outputs": [],
   "source": [
    "# using loc\n",
    "data.loc[(data.Outlet_Establishment_Year == 1987) & (data.Outlet_Size == 'High'), select_cols]"
   ]
  },
  {
   "cell_type": "code",
   "execution_count": null,
   "metadata": {
    "id": "wMX4k39xH3qJ"
   },
   "outputs": [],
   "source": [
    "# cols with specific datatypes\n",
    "data.dtypes"
   ]
  },
  {
   "cell_type": "code",
   "execution_count": null,
   "metadata": {
    "id": "Ku6ATcIKH3qJ"
   },
   "outputs": [],
   "source": [
    "data.select_dtypes('object') #/ 'float64', 'int64', 'bool' etc. "
   ]
  },
  {
   "cell_type": "code",
   "execution_count": null,
   "metadata": {
    "id": "rhhhrlWfH3qJ"
   },
   "outputs": [],
   "source": [
    "# df.loc provides simpler syntax over normal [] utility\n",
    "# both have similar performance\n",
    "# loc works with both label and position based subsetting\n",
    "# df[] sometines has unwanted behaviour"
   ]
  },
  {
   "cell_type": "markdown",
   "metadata": {
    "id": "BHdF-sIrH3qJ"
   },
   "source": [
    "### Modifying data in Python"
   ]
  },
  {
   "cell_type": "code",
   "execution_count": null,
   "metadata": {
    "id": "UdIWJq_gH3qJ"
   },
   "outputs": [],
   "source": [
    "data.head()"
   ]
  },
  {
   "cell_type": "code",
   "execution_count": null,
   "metadata": {
    "id": "yt5W_-LHH3qJ"
   },
   "outputs": [],
   "source": [
    "# How to impute mmissing values using loc in any column\n",
    "data.isna().sum()"
   ]
  },
  {
   "cell_type": "code",
   "execution_count": null,
   "metadata": {
    "id": "rJFR6-DSH3qK"
   },
   "outputs": [],
   "source": [
    "# Select cols which have missing data using loc\n",
    "data.loc[data.Item_Weight.isna() == True]"
   ]
  },
  {
   "cell_type": "code",
   "execution_count": null,
   "metadata": {
    "id": "RXVjcH-OH3qK"
   },
   "outputs": [],
   "source": [
    "data.loc[(data.Item_Weight.isna() == True), 'Item_Weight'] = data.Item_Weight.mean() # LHS : rows with condition , col"
   ]
  },
  {
   "cell_type": "code",
   "execution_count": null,
   "metadata": {
    "id": "XzrKMuCjH3qK"
   },
   "outputs": [],
   "source": [
    "data.Outlet_Size.value_counts()"
   ]
  },
  {
   "cell_type": "code",
   "execution_count": null,
   "metadata": {
    "id": "xTaw9OLbH3qK"
   },
   "outputs": [],
   "source": [
    "data.loc[data.Outlet_Size.isna() == True, 'Outlet_Size'] = 'Medium'"
   ]
  },
  {
   "cell_type": "code",
   "execution_count": null,
   "metadata": {
    "id": "8zuIDyfvH3qK"
   },
   "outputs": [],
   "source": [
    "data.isna().sum()"
   ]
  },
  {
   "cell_type": "code",
   "execution_count": null,
   "metadata": {
    "id": "o-Ti6n3ZH3qK"
   },
   "outputs": [],
   "source": [
    "# or : data.Outlet_Size.fillna('Medium', inplace = True)"
   ]
  },
  {
   "cell_type": "code",
   "execution_count": null,
   "metadata": {
    "id": "AYZFet75H3qK"
   },
   "outputs": [],
   "source": [
    "# How to update the values of a column\n",
    "data.Item_Fat_Content.value_counts()"
   ]
  },
  {
   "cell_type": "code",
   "execution_count": null,
   "metadata": {
    "id": "xZ0xqNyfH3qK"
   },
   "outputs": [],
   "source": [
    "mapping = {\n",
    "    'Low Fat' : 'Low Fat',\n",
    "    'Regular' : 'Regular',\n",
    "    'LF'      : 'Low Fat',\n",
    "    'reg'     : 'Regular',\n",
    "    'low fat' : 'Low Fat'\n",
    "}"
   ]
  },
  {
   "cell_type": "code",
   "execution_count": null,
   "metadata": {
    "id": "kI2oNAeKH3qK"
   },
   "outputs": [],
   "source": [
    "data.Item_Fat_Content = data.Item_Fat_Content.map(mapping)"
   ]
  },
  {
   "cell_type": "code",
   "execution_count": null,
   "metadata": {
    "id": "hLqaVk7wH3qK"
   },
   "outputs": [],
   "source": [
    "data.Item_Fat_Content.value_counts()"
   ]
  },
  {
   "cell_type": "code",
   "execution_count": null,
   "metadata": {
    "id": "Ay-avGCQH3qK"
   },
   "outputs": [],
   "source": [
    "# How to create new col by modifying existing column\n",
    "data.Item_MRP # in rs. "
   ]
  },
  {
   "cell_type": "code",
   "execution_count": null,
   "metadata": {
    "id": "1NerZBQ0H3qK"
   },
   "outputs": [],
   "source": [
    "# Item_MRP in USD\n",
    "data['Item_MRP_in_USD'] = data.Item_MRP.apply(lambda x : x / 74)\n",
    "data.head()"
   ]
  },
  {
   "cell_type": "code",
   "execution_count": null,
   "metadata": {
    "id": "VFKeWJhGH3qK"
   },
   "outputs": [],
   "source": [
    "data[['Item_MRP', 'Item_MRP_in_USD']]"
   ]
  },
  {
   "cell_type": "code",
   "execution_count": null,
   "metadata": {
    "id": "cLmT7FbAH3qL"
   },
   "outputs": [],
   "source": [
    "# Functions inside apply functions\n",
    "def convert_GBP(price) :\n",
    "    price = price / 100\n",
    "    return price\n",
    "\n",
    "data['Item_MRP_in_GBP'] = data.Item_MRP.apply(convert_GBP)\n",
    "data.head()"
   ]
  },
  {
   "cell_type": "markdown",
   "metadata": {
    "id": "I-ZpcDMLH3qL"
   },
   "source": [
    "## One Hot Encoding : \n",
    "\n",
    "![ohe.png](attachment:ohe.png)"
   ]
  },
  {
   "cell_type": "code",
   "execution_count": null,
   "metadata": {
    "id": "bZWGhaqIH3qL"
   },
   "outputs": [],
   "source": [
    "data.head()"
   ]
  },
  {
   "cell_type": "code",
   "execution_count": null,
   "metadata": {
    "id": "NTNyNxcjH3qL"
   },
   "outputs": [],
   "source": [
    "# use get_dummies : \n",
    "data = pd.get_dummies(data)\n",
    "data.head()\n",
    "# 8523 rows, 1604 cols\n",
    "# data becomes heavy if there are too many categories. "
   ]
  },
  {
   "cell_type": "code",
   "execution_count": null,
   "metadata": {
    "id": "fmZ0hzY3H3qL"
   },
   "outputs": [],
   "source": [
    "data.missing().sum()"
   ]
  },
  {
   "cell_type": "code",
   "execution_count": null,
   "metadata": {
    "id": "Cq-tYlw_H3qL"
   },
   "outputs": [],
   "source": [
    "data.columns"
   ]
  },
  {
   "cell_type": "code",
   "execution_count": null,
   "metadata": {
    "id": "pFcT0urlH3qL"
   },
   "outputs": [],
   "source": []
  }
 ],
 "metadata": {
  "colab": {
   "name": "pandas.ipynb",
   "provenance": []
  },
  "kernelspec": {
   "display_name": "Python 3",
   "language": "python",
   "name": "python3"
  },
  "language_info": {
   "codemirror_mode": {
    "name": "ipython",
    "version": 3
   },
   "file_extension": ".py",
   "mimetype": "text/x-python",
   "name": "python",
   "nbconvert_exporter": "python",
   "pygments_lexer": "ipython3",
   "version": "3.8.8"
  }
 },
 "nbformat": 4,
 "nbformat_minor": 1
}
