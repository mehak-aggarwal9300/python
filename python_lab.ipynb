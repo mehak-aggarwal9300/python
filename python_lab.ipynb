{
  "nbformat": 4,
  "nbformat_minor": 0,
  "metadata": {
    "colab": {
      "name": "python_lab.ipynb",
      "provenance": [],
      "collapsed_sections": [],
      "authorship_tag": "ABX9TyNm8b01jZoKafzWeeB7+hGk",
      "include_colab_link": true
    },
    "kernelspec": {
      "name": "python3",
      "display_name": "Python 3"
    },
    "language_info": {
      "name": "python"
    }
  },
  "cells": [
    {
      "cell_type": "markdown",
      "metadata": {
        "id": "view-in-github",
        "colab_type": "text"
      },
      "source": [
        "<a href=\"https://colab.research.google.com/github/mehak-aggarwal9300/python/blob/main/python_lab.ipynb\" target=\"_parent\"><img src=\"https://colab.research.google.com/assets/colab-badge.svg\" alt=\"Open In Colab\"/></a>"
      ]
    },
    {
      "cell_type": "markdown",
      "metadata": {
        "id": "5kS-lemllcVf"
      },
      "source": [
        "Do H.W. \n",
        "\n",
        "1.\tThere are 5280 feet in a mile. Write a Python statement that calculates and prints the number of feet in 13 miles\n",
        "2.\t Write a Python statement that calculates and prints the number of \tseconds in 7 hours, 21 minutes and 37 seconds.\n",
        "3.\t The perimeter of a rectangle is 2w+2h, where w and h are the lengths of its sides. Write a Python statement that calculates and prints the length in inches of the perimeter of a rectangle with sides of length 4 \tand 7 inches.\n"
      ]
    },
    {
      "cell_type": "code",
      "metadata": {
        "colab": {
          "base_uri": "https://localhost:8080/"
        },
        "id": "ptK4ZfKhddmB",
        "outputId": "00a41cba-6567-435b-fc47-0c711f8e4570"
      },
      "source": [
        "#1\n",
        "feet_in_mile = 5280 \n",
        "num_feet = 13 \n",
        "amount = feet_in_mile * num_feet\n",
        "amount"
      ],
      "execution_count": null,
      "outputs": [
        {
          "output_type": "execute_result",
          "data": {
            "text/plain": [
              "68640"
            ]
          },
          "metadata": {},
          "execution_count": 3
        }
      ]
    },
    {
      "cell_type": "markdown",
      "source": [
        ""
      ],
      "metadata": {
        "id": "YMa0WwqhMYgr"
      }
    },
    {
      "cell_type": "code",
      "metadata": {
        "colab": {
          "base_uri": "https://localhost:8080/"
        },
        "id": "_xFNO2UohG-x",
        "outputId": "1175a4b6-1d16-4e56-a814-bb9c98048698"
      },
      "source": [
        "#2\n",
        "hours=7\n",
        "min=21\n",
        "sec=37\n",
        "sec=hours*60*60 + min*60 +sec\n",
        "sec"
      ],
      "execution_count": null,
      "outputs": [
        {
          "output_type": "execute_result",
          "data": {
            "text/plain": [
              "26497"
            ]
          },
          "metadata": {},
          "execution_count": 5
        }
      ]
    },
    {
      "cell_type": "code",
      "metadata": {
        "colab": {
          "base_uri": "https://localhost:8080/"
        },
        "id": "bq5jWYo9isUI",
        "outputId": "40c80f30-b12f-4e7d-f7cc-c4280d4ee5f3"
      },
      "source": [
        "x=52      \n",
        "\n",
        "# print(\"joe is \"+str(x)+\" years old\")  #only str can be concatanated\n",
        "print(\"joe is\",x,\"years old\") #without changing to str"
      ],
      "execution_count": null,
      "outputs": [
        {
          "output_type": "stream",
          "name": "stdout",
          "text": [
            "joe is 52 years old\n"
          ]
        }
      ]
    },
    {
      "cell_type": "code",
      "metadata": {
        "colab": {
          "base_uri": "https://localhost:8080/"
        },
        "id": "fumtg2GyuCq_",
        "outputId": "46c24685-f6ce-45ee-9df3-fc7c743330ed"
      },
      "source": [
        "#check\n",
        "\n",
        "principal = 10000 \n",
        "rate = .06 \n",
        "term = 5 \n",
        "totalinterest = 0 \n",
        "for year in range(term):\n",
        "   print(principal) \n",
        "   interest = principal * rate \n",
        "   print(interest) \n",
        "   principal = principal + interest \n",
        "   totalinterest = totalinterest + interest \n",
        "print(totalinterest) \n",
        "print(principal)"
      ],
      "execution_count": null,
      "outputs": [
        {
          "output_type": "stream",
          "name": "stdout",
          "text": [
            "10000\n",
            "600.0\n",
            "10600.0\n",
            "636.0\n",
            "11236.0\n",
            "674.16\n",
            "11910.16\n",
            "714.6096\n",
            "12624.7696\n",
            "757.486176\n",
            "3382.2557759999995\n",
            "13382.255776\n"
          ]
        }
      ]
    },
    {
      "cell_type": "code",
      "metadata": {
        "id": "Bc4szE-NxDkO"
      },
      "source": [
        "#Write a password guessing program to keep track of how many times the user has entered the password wrong. \n",
        "#If it is more than 3 times, print \"You have been denied access.\" and terminate the program. \n",
        "#If the password is correct, print \"You have successfully logged in.\" and terminate the program.\n",
        "\n",
        "\n"
      ],
      "execution_count": null,
      "outputs": []
    },
    {
      "cell_type": "code",
      "metadata": {
        "id": "tDfHxyIcxz20"
      },
      "source": [
        "#Write a program that asks for two numbers. \n",
        "#If the sum of the numbers is greater than 100, print \"That is a big number\" and terminate the program.\n",
        "\n"
      ],
      "execution_count": null,
      "outputs": []
    },
    {
      "cell_type": "code",
      "metadata": {
        "id": "WayiFiu6x_mt"
      },
      "source": [
        "#Write a Python program that accepts a word from the user and reverse it."
      ],
      "execution_count": null,
      "outputs": []
    },
    {
      "cell_type": "code",
      "metadata": {
        "id": "MDt5y0vVyHXf"
      },
      "source": [
        "#Write a python program to find those numbers which are divisible by 7 and multiples of 5, between 1500 and 2700."
      ],
      "execution_count": null,
      "outputs": []
    },
    {
      "cell_type": "markdown",
      "metadata": {
        "id": "8wZL8otUyVhS"
      },
      "source": [
        "\n",
        "1. Write a Python program to get the Fibonacci series between 0 to 50. \n",
        "2. Write a Python program which iterates the integers from 1 to 50. For multiples of three print \"Fizz\" instead of the number and for the multiples of five print \"Buzz\". For numbers which are multiples of both three and five print \"FizzBuzz“ \n",
        "3. Write a Python program to print alphabet pattern 'A'. \n",
        "4. Write a Python program to print alphabet pattern 'D‘. \n",
        "5. Write a Python program to check whether an alphabet is a vowel or consonant. \n",
        "6. Write a Python program to check a triangle is equilateral, isosceles or scalene. \n",
        "\n",
        "Note :An equilateral triangle is a triangle in which all three sides are equal.A scalene triangle is a triangle that has three unequal sides.\u000bAn isosceles triangle is a triangle with (at least) two equal sides.\n",
        "\n"
      ]
    },
    {
      "cell_type": "markdown",
      "metadata": {
        "id": "SN5g5xSVVg45"
      },
      "source": [
        "1.\tWap to output the grade of student based on percentage entered by student"
      ]
    },
    {
      "cell_type": "code",
      "metadata": {
        "colab": {
          "base_uri": "https://localhost:8080/"
        },
        "id": "PMNC03GcRf6G",
        "outputId": "21b3f195-f04a-4ac0-d428-0816ba92c31a"
      },
      "source": [
        "\n",
        "percent= int(input(\"Enter percentage:\"))\n",
        "if percent < 60: \n",
        "  grade ='F'\n",
        "elif percent >=60 and percent < 70: \n",
        "  grade='D'\n",
        "elif percent >= 70 and percent < 80:\n",
        "    grade='C'\n",
        "elif percent >= 80 and percent < 90: \n",
        "      grade='B'\n",
        "elif percent >= 90 and percent <= 100: \n",
        "        grade='A'\n",
        "        \n",
        "print(grade)"
      ],
      "execution_count": null,
      "outputs": [
        {
          "output_type": "stream",
          "name": "stdout",
          "text": [
            "Enter percentage:67\n",
            "D\n"
          ]
        }
      ]
    },
    {
      "cell_type": "code",
      "metadata": {
        "colab": {
          "base_uri": "https://localhost:8080/"
        },
        "id": "JQAFwtiQawGJ",
        "outputId": "90eb8d88-9410-41fc-b7d3-c5e251186fe0"
      },
      "source": [
        "# print(type({}) is set)\n",
        "print(type(10))"
      ],
      "execution_count": null,
      "outputs": [
        {
          "output_type": "stream",
          "name": "stdout",
          "text": [
            "<class 'int'>\n"
          ]
        }
      ]
    },
    {
      "cell_type": "code",
      "metadata": {
        "colab": {
          "base_uri": "https://localhost:8080/"
        },
        "id": "YlRBePx_dHlm",
        "outputId": "5faa4973-c6f4-4c45-aef4-c67e9d7f15cb"
      },
      "source": [
        "# aTuple = (1, 'Jhon', 1+3j)\n",
        "# print(type(aTuple[2:3]))\n",
        "# print(type([]) is list)\n",
        "# print(type(0xFF))\n",
        "# print(bool(0), bool(3.14159), bool(-3), bool(1.0+1j))\n",
        "type(range(5))\n"
      ],
      "execution_count": null,
      "outputs": [
        {
          "output_type": "execute_result",
          "data": {
            "text/plain": [
              "range"
            ]
          },
          "metadata": {},
          "execution_count": 6
        }
      ]
    },
    {
      "cell_type": "code",
      "metadata": {
        "colab": {
          "base_uri": "https://localhost:8080/"
        },
        "id": "-KXmsFJAeiyg",
        "outputId": "23139a36-21e0-453a-cc90-6215efe8740e"
      },
      "source": [
        "listOne = [20, 40, 60, 80]\n",
        "listTwo = [20, 40, 60, 80]\n",
        "\n",
        "print(listOne == listTwo)\n",
        "print(listOne is listTwo)"
      ],
      "execution_count": null,
      "outputs": [
        {
          "output_type": "stream",
          "name": "stdout",
          "text": [
            "True\n",
            "False\n"
          ]
        }
      ]
    },
    {
      "cell_type": "code",
      "metadata": {
        "colab": {
          "base_uri": "https://localhost:8080/"
        },
        "id": "3ibfaB1Niosx",
        "outputId": "a1c8757c-6d62-4c45-942b-37c19ddc91ba"
      },
      "source": [
        "sampleList = [\"Jon\", \"Kelly\", \"Jessa\"]\n",
        "sampleList.insert(2,\"Scott\")  #wrong\n",
        "print(sampleList)"
      ],
      "execution_count": null,
      "outputs": [
        {
          "output_type": "stream",
          "name": "stdout",
          "text": [
            "['Jon', 'Kelly', 'Scott', 'Jessa']\n"
          ]
        }
      ]
    },
    {
      "cell_type": "code",
      "metadata": {
        "colab": {
          "base_uri": "https://localhost:8080/"
        },
        "id": "AhB2j_pYjecN",
        "outputId": "6feebf2c-ac06-4acf-f223-712cef97f20c"
      },
      "source": [
        "sampleSet = {\"Jodi\", \"Eric\", \"Garry\"}\n",
        "sampleSet.add(\"Vicki\")\n",
        "print(sampleSet)"
      ],
      "execution_count": null,
      "outputs": [
        {
          "output_type": "stream",
          "name": "stdout",
          "text": [
            "{'Garry', 'Vicki', 'Jodi', 'Eric'}\n"
          ]
        }
      ]
    },
    {
      "cell_type": "code",
      "metadata": {
        "colab": {
          "base_uri": "https://localhost:8080/",
          "height": 195
        },
        "id": "aVpZXQ6IpZRQ",
        "outputId": "73a41c75-c06b-467d-b3c3-571366c11da7"
      },
      "source": [
        "def fun1(num):\n",
        "    return num + 25\n",
        "\n",
        "fun1(5)\n",
        "print(num)"
      ],
      "execution_count": null,
      "outputs": [
        {
          "output_type": "error",
          "ename": "NameError",
          "evalue": "ignored",
          "traceback": [
            "\u001b[0;31m---------------------------------------------------------------------------\u001b[0m",
            "\u001b[0;31mNameError\u001b[0m                                 Traceback (most recent call last)",
            "\u001b[0;32m<ipython-input-22-a0a88c5ec691>\u001b[0m in \u001b[0;36m<module>\u001b[0;34m()\u001b[0m\n\u001b[1;32m      3\u001b[0m \u001b[0;34m\u001b[0m\u001b[0m\n\u001b[1;32m      4\u001b[0m \u001b[0mfun1\u001b[0m\u001b[0;34m(\u001b[0m\u001b[0;36m5\u001b[0m\u001b[0;34m)\u001b[0m\u001b[0;34m\u001b[0m\u001b[0;34m\u001b[0m\u001b[0m\n\u001b[0;32m----> 5\u001b[0;31m \u001b[0mprint\u001b[0m\u001b[0;34m(\u001b[0m\u001b[0mnum\u001b[0m\u001b[0;34m)\u001b[0m\u001b[0;34m\u001b[0m\u001b[0;34m\u001b[0m\u001b[0m\n\u001b[0m",
            "\u001b[0;31mNameError\u001b[0m: name 'num' is not defined"
          ]
        }
      ]
    },
    {
      "cell_type": "code",
      "metadata": {
        "colab": {
          "base_uri": "https://localhost:8080/",
          "height": 35
        },
        "id": "Dljcv1wL3SWD",
        "outputId": "f33943d3-7da9-490c-bc40-9ed735cdaff6"
      },
      "source": [
        "list=[\"Python\",\"Java\",\"c\",\"C\",\"C++\"]\n",
        "min(list)"
      ],
      "execution_count": null,
      "outputs": [
        {
          "output_type": "execute_result",
          "data": {
            "application/vnd.google.colaboratory.intrinsic+json": {
              "type": "string"
            },
            "text/plain": [
              "'C'"
            ]
          },
          "metadata": {},
          "execution_count": 27
        }
      ]
    },
    {
      "cell_type": "code",
      "metadata": {
        "id": "F00FhOxw47cZ"
      },
      "source": [
        "l=[0,2,5,1]\n",
        "l2=l[:]"
      ],
      "execution_count": null,
      "outputs": []
    },
    {
      "cell_type": "code",
      "metadata": {
        "id": "lyE8bimq6IGC"
      },
      "source": [
        "d={\"a\":1}\n",
        "d[\"a\"]=5"
      ],
      "execution_count": null,
      "outputs": []
    },
    {
      "cell_type": "code",
      "metadata": {
        "colab": {
          "base_uri": "https://localhost:8080/"
        },
        "id": "ojXLUg2NqLFG",
        "outputId": "e36932ea-3134-47fe-8e7a-6aeec48279ab"
      },
      "source": [
        "def outerFun(a, b):\n",
        "    def innerFun(c, d):\n",
        "        return c + d\n",
        "    return innerFun(a, b)\n",
        "\n",
        "res = outerFun(5, 10)\n",
        "print(res)"
      ],
      "execution_count": null,
      "outputs": [
        {
          "output_type": "stream",
          "name": "stdout",
          "text": [
            "15\n"
          ]
        }
      ]
    },
    {
      "cell_type": "code",
      "metadata": {
        "id": "F5TSjfy0qTUH",
        "colab": {
          "base_uri": "https://localhost:8080/"
        },
        "outputId": "853c529e-6414-4dcb-83a3-0b7d8c8eb6cb"
      },
      "source": [
        "def display(**kwargs):\n",
        "    for i in kwargs:\n",
        "        print(i)\n",
        "display(emp=\"Kelly\", salary=9000)"
      ],
      "execution_count": null,
      "outputs": [
        {
          "output_type": "stream",
          "name": "stdout",
          "text": [
            "emp\n",
            "salary\n"
          ]
        }
      ]
    },
    {
      "cell_type": "code",
      "metadata": {
        "colab": {
          "base_uri": "https://localhost:8080/"
        },
        "id": "neUw0tcQe7IJ",
        "outputId": "69e7e361-1a66-4ed0-bff1-351ffed9d15c"
      },
      "source": [
        "for i in range(1, 6):\n",
        "    \n",
        "    if(i==4):\n",
        "      continue\n",
        "    print(i)\n",
        "else:\n",
        "    print(\"this is else block statement\" )"
      ],
      "execution_count": null,
      "outputs": [
        {
          "output_type": "stream",
          "name": "stdout",
          "text": [
            "1\n",
            "2\n",
            "3\n",
            "5\n",
            "this is else block statement\n"
          ]
        }
      ]
    },
    {
      "cell_type": "code",
      "metadata": {
        "colab": {
          "base_uri": "https://localhost:8080/"
        },
        "id": "_DzoKtZBfxfv",
        "outputId": "5f29df47-6098-4229-dd73-5ddd9b1a10f1"
      },
      "source": [
        "for i in range(10, 15, 1):\n",
        "  print( i, end=', ')"
      ],
      "execution_count": null,
      "outputs": [
        {
          "output_type": "stream",
          "name": "stdout",
          "text": [
            "10, 11, 12, 13, 14, "
          ]
        }
      ]
    },
    {
      "cell_type": "code",
      "metadata": {
        "colab": {
          "base_uri": "https://localhost:8080/",
          "height": 330
        },
        "id": "Rwa0v3JTbHo5",
        "outputId": "bd00e97e-ddba-4970-cd57-672412472b4d"
      },
      "source": [
        "x = 75\n",
        "def myfunc():\n",
        "  x = x + 1\n",
        "  print(x)\n",
        "\n",
        "myfunc()\n",
        "print(x)"
      ],
      "execution_count": null,
      "outputs": [
        {
          "output_type": "error",
          "ename": "UnboundLocalError",
          "evalue": "ignored",
          "traceback": [
            "\u001b[0;31m---------------------------------------------------------------------------\u001b[0m",
            "\u001b[0;31mUnboundLocalError\u001b[0m                         Traceback (most recent call last)",
            "\u001b[0;32m<ipython-input-4-ec86b9059e0c>\u001b[0m in \u001b[0;36m<module>\u001b[0;34m()\u001b[0m\n\u001b[1;32m      4\u001b[0m   \u001b[0mprint\u001b[0m\u001b[0;34m(\u001b[0m\u001b[0mx\u001b[0m\u001b[0;34m)\u001b[0m\u001b[0;34m\u001b[0m\u001b[0;34m\u001b[0m\u001b[0m\n\u001b[1;32m      5\u001b[0m \u001b[0;34m\u001b[0m\u001b[0m\n\u001b[0;32m----> 6\u001b[0;31m \u001b[0mmyfunc\u001b[0m\u001b[0;34m(\u001b[0m\u001b[0;34m)\u001b[0m\u001b[0;34m\u001b[0m\u001b[0;34m\u001b[0m\u001b[0m\n\u001b[0m\u001b[1;32m      7\u001b[0m \u001b[0mprint\u001b[0m\u001b[0;34m(\u001b[0m\u001b[0mx\u001b[0m\u001b[0;34m)\u001b[0m\u001b[0;34m\u001b[0m\u001b[0;34m\u001b[0m\u001b[0m\n",
            "\u001b[0;32m<ipython-input-4-ec86b9059e0c>\u001b[0m in \u001b[0;36mmyfunc\u001b[0;34m()\u001b[0m\n\u001b[1;32m      1\u001b[0m \u001b[0mx\u001b[0m \u001b[0;34m=\u001b[0m \u001b[0;36m75\u001b[0m\u001b[0;34m\u001b[0m\u001b[0;34m\u001b[0m\u001b[0m\n\u001b[1;32m      2\u001b[0m \u001b[0;32mdef\u001b[0m \u001b[0mmyfunc\u001b[0m\u001b[0;34m(\u001b[0m\u001b[0;34m)\u001b[0m\u001b[0;34m:\u001b[0m\u001b[0;34m\u001b[0m\u001b[0;34m\u001b[0m\u001b[0m\n\u001b[0;32m----> 3\u001b[0;31m   \u001b[0mx\u001b[0m \u001b[0;34m=\u001b[0m \u001b[0mx\u001b[0m \u001b[0;34m+\u001b[0m \u001b[0;36m1\u001b[0m\u001b[0;34m\u001b[0m\u001b[0;34m\u001b[0m\u001b[0m\n\u001b[0m\u001b[1;32m      4\u001b[0m   \u001b[0mprint\u001b[0m\u001b[0;34m(\u001b[0m\u001b[0mx\u001b[0m\u001b[0;34m)\u001b[0m\u001b[0;34m\u001b[0m\u001b[0;34m\u001b[0m\u001b[0m\n\u001b[1;32m      5\u001b[0m \u001b[0;34m\u001b[0m\u001b[0m\n",
            "\u001b[0;31mUnboundLocalError\u001b[0m: local variable 'x' referenced before assignment"
          ]
        }
      ]
    },
    {
      "cell_type": "markdown",
      "metadata": {
        "id": "dsgbNaGZYmpe"
      },
      "source": [
        "2. Wap to check whether the alphabet is a vowel or consonant"
      ]
    },
    {
      "cell_type": "code",
      "metadata": {
        "colab": {
          "base_uri": "https://localhost:8080/"
        },
        "id": "00MZows-R3MO",
        "outputId": "ca1179d8-9877-481d-e83c-16139227d8da"
      },
      "source": [
        "alphabet = input(\"Enter alphabet:\")\n",
        "alph = alphabet.lower()\n",
        "if alph in \"aeiou\":\n",
        "  print(\"vowel\")\n",
        "else: print(\"consonant\")"
      ],
      "execution_count": null,
      "outputs": [
        {
          "output_type": "stream",
          "name": "stdout",
          "text": [
            "Enter alphabet:i\n",
            "vowel\n"
          ]
        }
      ]
    },
    {
      "cell_type": "code",
      "metadata": {
        "id": "M-mBIc4FwjIV"
      },
      "source": [
        "#by using membership operator instead of logical operators \n",
        "\n",
        "if alph in \"aeiou\""
      ],
      "execution_count": null,
      "outputs": []
    },
    {
      "cell_type": "markdown",
      "metadata": {
        "id": "kdZJwbV4YwRZ"
      },
      "source": [
        "3.\twap to find out the numbers divisible by 5 and 7 between 1500 and 2700 both are included"
      ]
    },
    {
      "cell_type": "code",
      "metadata": {
        "colab": {
          "base_uri": "https://localhost:8080/"
        },
        "id": "ENQvDw5RYlkY",
        "outputId": "d56b2613-89de-448e-f017-6737809328b1"
      },
      "source": [
        "# print(2700//5 - 1500//5) by5\n",
        "# print(2700//7 - 1500//7) by7\n",
        "# print(2700//35 - 1500//35) by35\n",
        "\n",
        "for i in range(1500,2701):\n",
        "    if i%35 == 0:\n",
        "      print(i)\n"
      ],
      "execution_count": null,
      "outputs": [
        {
          "output_type": "stream",
          "name": "stdout",
          "text": [
            "1505\n",
            "1540\n",
            "1575\n",
            "1610\n",
            "1645\n",
            "1680\n",
            "1715\n",
            "1750\n",
            "1785\n",
            "1820\n",
            "1855\n",
            "1890\n",
            "1925\n",
            "1960\n",
            "1995\n",
            "2030\n",
            "2065\n",
            "2100\n",
            "2135\n",
            "2170\n",
            "2205\n",
            "2240\n",
            "2275\n",
            "2310\n",
            "2345\n",
            "2380\n",
            "2415\n",
            "2450\n",
            "2485\n",
            "2520\n",
            "2555\n",
            "2590\n",
            "2625\n",
            "2660\n",
            "2695\n"
          ]
        }
      ]
    },
    {
      "cell_type": "markdown",
      "metadata": {
        "id": "Uk8Dg7D4a2dQ"
      },
      "source": [
        "4.\tTake 5 numbers from user and return and print max min and avg of all the numbers"
      ]
    },
    {
      "cell_type": "code",
      "metadata": {
        "colab": {
          "base_uri": "https://localhost:8080/"
        },
        "id": "L9RMF4vba1oY",
        "outputId": "2d5a3ea8-3b33-4a15-89a5-d4cb8b881547"
      },
      "source": [
        "#way1\n",
        "\n",
        "import statistics as s\n",
        "num = int(input(\"Enter number of elements in list: \"))\n",
        "list1 = []\n",
        "4\n",
        "\n",
        "# iterating till num to append elements in list\n",
        "for i in range(1, num + 1):\n",
        "    ele = int(input(\"Enter elements: \"))\n",
        "    list1.append(ele)\n",
        "      \n",
        "# print maximum element\n",
        "print(\"Largest element is:\", max(list1))\n",
        "print(\"Smallest element is:\", min(list1))\n",
        "print(\"Mean is:\", s.mean(list1))\n",
        "\n",
        "\n"
      ],
      "execution_count": null,
      "outputs": [
        {
          "output_type": "stream",
          "name": "stdout",
          "text": [
            "Enter number of elements in list: 5\n",
            "Enter elements: 10\n",
            "Enter elements: 20\n",
            "Enter elements: 30\n",
            "Enter elements: 40\n",
            "Enter elements: 50\n",
            "Largest element is: 50\n",
            "Smallest element is: 10\n",
            "Mean is: 30\n"
          ]
        }
      ]
    },
    {
      "cell_type": "code",
      "metadata": {
        "colab": {
          "base_uri": "https://localhost:8080/"
        },
        "id": "Yx-PY3g-jHoI",
        "outputId": "8d09aaca-48a9-434d-db45-620ae8a9f6a8"
      },
      "source": [
        "#way2\n",
        "def myMax(list1):\n",
        "  \n",
        "    # Assume first number in list is largest\n",
        "    # initially and assign it to variable \"max\"\n",
        "    max = list1[0]\n",
        "    min = list1[0]\n",
        "    sum=0\n",
        "    for x in list1:\n",
        "        sum+=x\n",
        "        if x > max :\n",
        "             max = x\n",
        "        if x < min:\n",
        "          min = x\n",
        "    print(\"Mean is:\", sum/5)\n",
        "    print(\"Max:\", max)\n",
        "    print(\"Min: \",min)\n",
        "\n",
        "  \n",
        "  \n",
        "# Driver code\n",
        "list1 = [10, 20, 4, 45, 99]\n",
        "myMax(list1)\n",
        "# print(\"Largest element is:\", myMax(list1))"
      ],
      "execution_count": null,
      "outputs": [
        {
          "output_type": "stream",
          "name": "stdout",
          "text": [
            "Mean is: 35.6\n",
            "Max: 99\n",
            "Min:  4\n"
          ]
        }
      ]
    },
    {
      "cell_type": "code",
      "metadata": {
        "colab": {
          "base_uri": "https://localhost:8080/"
        },
        "id": "CxTKIgkLz5d8",
        "outputId": "9a71f1d3-a228-4f09-8704-7ed1a7671428"
      },
      "source": [
        "#ma'am 's way to input 5 no.s\n",
        "#it takes less time to convert string than to take 5 inputs\n",
        "#when u want to take multiple inputs from user without using for loop\n",
        "\n",
        "a,b,c,d,e= input(\"enter 5 numbers\").split()\n",
        "a,b,c,d,e= int(a),int(b),int(c),int(d),int(e)\n",
        "#convert into list \n",
        "list1=[a,b,c,d,e]\n",
        "list1"
      ],
      "execution_count": null,
      "outputs": [
        {
          "name": "stdout",
          "output_type": "stream",
          "text": [
            "enter 5 numbers1 2 3 4 5\n"
          ]
        },
        {
          "output_type": "execute_result",
          "data": {
            "text/plain": [
              "[1, 2, 3, 4, 5]"
            ]
          },
          "metadata": {},
          "execution_count": 14
        }
      ]
    },
    {
      "cell_type": "code",
      "metadata": {
        "id": "jAQBBT1HPIyY"
      },
      "source": [
        ""
      ],
      "execution_count": null,
      "outputs": []
    },
    {
      "cell_type": "markdown",
      "metadata": {
        "id": "1L8vv9lld-Ce"
      },
      "source": [
        "5.\twap to check a triangle is equilateral isosceles or scalene"
      ]
    },
    {
      "cell_type": "code",
      "metadata": {
        "id": "lUpp33-HPfu9"
      },
      "source": [
        ""
      ],
      "execution_count": null,
      "outputs": []
    },
    {
      "cell_type": "code",
      "metadata": {
        "id": "AJz0WNiNd9nu",
        "colab": {
          "base_uri": "https://localhost:8080/"
        },
        "outputId": "33d2e667-d366-4ace-90ee-92780dd8fda7"
      },
      "source": [
        "A = int(input(\"Enter side\"))\n",
        "B = int(input(\"Enter side\"))\n",
        "C = int(input(\"Enter side\"))\n",
        "\n",
        "if A == B and B == C:\n",
        "  print(\"equilateral\")\n",
        "elif A == B or B == C or A == C:\n",
        "  print(\"isosceles\")\n",
        "else: \n",
        "  print(\"scalene\")"
      ],
      "execution_count": null,
      "outputs": [
        {
          "output_type": "stream",
          "name": "stdout",
          "text": [
            "Enter side3\n",
            "Enter side4\n",
            "Enter side5\n",
            "scalene\n"
          ]
        }
      ]
    },
    {
      "cell_type": "markdown",
      "metadata": {
        "id": "N1lJg2OZBzR6"
      },
      "source": [
        "##30 September"
      ]
    },
    {
      "cell_type": "code",
      "metadata": {
        "colab": {
          "base_uri": "https://localhost:8080/"
        },
        "id": "wja4GkujBy5K",
        "outputId": "9ee15375-9872-4a93-a251-e674238caca4"
      },
      "source": [
        "#1. wap to add  2 matrices\n",
        "\n",
        "\n",
        "X = [[1,2,3],\n",
        "    [4 ,5,6],\n",
        "    [7 ,8,9]]\n",
        "  \n",
        "Y = [[9,8,7],\n",
        "    [6,5,4],\n",
        "    [3,2,1]]\n",
        " \n",
        "# rt = [[X[i][j] + Y[i][j]  for j in range(len(X[0]))\n",
        "#           ]\n",
        "#           for i in range(len(X))\n",
        "        #  ]\n",
        "result=[]\n",
        "for i in range(len(X)):\n",
        "    res = []  \n",
        "    for j in range(len(X[0])):\n",
        "        res.append(X[i][j] + Y[i][j])\n",
        "    result.append(res)\n",
        "for r in result:\n",
        "    print(r)"
      ],
      "execution_count": null,
      "outputs": [
        {
          "output_type": "stream",
          "name": "stdout",
          "text": [
            "[10, 10, 10]\n",
            "[10, 10, 10]\n",
            "[10, 10, 10]\n"
          ]
        }
      ]
    },
    {
      "cell_type": "code",
      "metadata": {
        "colab": {
          "base_uri": "https://localhost:8080/",
          "height": 53
        },
        "id": "HenhCrsDCvNX",
        "outputId": "99a0c8c3-7530-4906-832f-9bb1d253b7ab"
      },
      "source": [
        "#2. wap to accept a word from user and reverse it\n",
        "\n",
        "word=input(\"Enter a word\")\n",
        "w2=word[::-1]\n",
        "w2"
      ],
      "execution_count": null,
      "outputs": [
        {
          "name": "stdout",
          "output_type": "stream",
          "text": [
            "Enter a wordeverything is alright\n"
          ]
        },
        {
          "output_type": "execute_result",
          "data": {
            "application/vnd.google.colaboratory.intrinsic+json": {
              "type": "string"
            },
            "text/plain": [
              "'thgirla si gnihtyreve'"
            ]
          },
          "metadata": {},
          "execution_count": 13
        }
      ]
    },
    {
      "cell_type": "code",
      "metadata": {
        "colab": {
          "base_uri": "https://localhost:8080/"
        },
        "id": "UaXwc2-fIT8R",
        "outputId": "329bd938-9c0b-42e9-eeb4-9b8911debad1"
      },
      "source": [
        "#3. Wap to print this pattern\n",
        "# 1\n",
        "# 1 2\n",
        "# 1 2 3\n",
        "# 1 2 3 4 \n",
        "# 1 2 3 4 5\n",
        "def num(n):\n",
        "  for i in range(1,n+1):\n",
        "    for j in range(1,i+1):\n",
        "      print(j,end=\" \")\n",
        "    print(\"\")\n",
        "\n",
        "num(5)"
      ],
      "execution_count": null,
      "outputs": [
        {
          "output_type": "stream",
          "name": "stdout",
          "text": [
            "1 \n",
            "1 2 \n",
            "1 2 3 \n",
            "1 2 3 4 \n",
            "1 2 3 4 5 \n"
          ]
        }
      ]
    },
    {
      "cell_type": "code",
      "metadata": {
        "colab": {
          "base_uri": "https://localhost:8080/"
        },
        "id": "nKtyAph7DDkr",
        "outputId": "45e822f9-d576-4fd9-9715-28a2e438d438"
      },
      "source": [
        "# 4. Wap to print this pattern\n",
        "# 1\n",
        "# 2 2\n",
        "# 3 3 3 \n",
        "# 4 4 4 4\n",
        "# 5 5 5 5 5\n",
        "\n",
        "for i in range(0,6):\n",
        "  print(str(i)*i)\n"
      ],
      "execution_count": null,
      "outputs": [
        {
          "output_type": "stream",
          "name": "stdout",
          "text": [
            "\n",
            "1\n",
            "22\n",
            "333\n",
            "4444\n",
            "55555\n"
          ]
        }
      ]
    },
    {
      "cell_type": "code",
      "metadata": {
        "colab": {
          "base_uri": "https://localhost:8080/"
        },
        "id": "UaOaAbQFF7m9",
        "outputId": "39273e75-5aff-419e-f604-9c07d59bbe51"
      },
      "source": [
        "#5. Create a list of no.s and find sum,avg,max,min of the numbers\n",
        "\n",
        "\n",
        "lst = []\n",
        "n = int(input(\"Enter number of elements : \"))\n",
        " \n",
        "for i in range(0, n):\n",
        "    ele = int(input())\n",
        "    lst.append(ele) \n",
        "\n",
        "print(\"max: \",max(lst))\n",
        "print(\"min: \",min(lst))\n",
        "print(\"sum: \",sum(lst))\n",
        "print(\"average0: \",sum(lst)/len(lst))    "
      ],
      "execution_count": null,
      "outputs": [
        {
          "output_type": "stream",
          "name": "stdout",
          "text": [
            "Enter number of elements : 5\n",
            "10\n",
            "20\n",
            "3\n",
            "50\n",
            "40\n",
            "max:  50\n",
            "min:  3\n",
            "sum:  123\n",
            "average:  24.6\n"
          ]
        }
      ]
    },
    {
      "cell_type": "code",
      "metadata": {
        "colab": {
          "base_uri": "https://localhost:8080/"
        },
        "id": "ZlW5cmvjIKZ5",
        "outputId": "0b850a82-1aac-4ffc-a921-4c8e9c44f664"
      },
      "source": [
        "#6. Wap to count the occurrences of an element in list\n",
        "\n",
        "\n",
        "def countX(lst, x):\n",
        "    count = 0\n",
        "    for ele in lst:\n",
        "        if (ele == x):\n",
        "            count = count + 1\n",
        "    return count\n",
        " \n",
        "# Driver Code\n",
        "lst = [8, 6, 8, 10, 8, 20, 10, 8, 8]\n",
        "x = 8\n",
        "print(lst.count(x)) #or w/o user defined\n",
        "print('{} has occurred {} times'.format(x, countX(lst, x)))\n"
      ],
      "execution_count": null,
      "outputs": [
        {
          "output_type": "stream",
          "name": "stdout",
          "text": [
            "5\n",
            "8 has occurred 5 times\n"
          ]
        }
      ]
    },
    {
      "cell_type": "code",
      "metadata": {
        "colab": {
          "base_uri": "https://localhost:8080/"
        },
        "id": "SuasqSiTCHWV",
        "outputId": "8596c15c-1695-468d-9167-92c7ccecdafb"
      },
      "source": [
        "#WAP that takes a string as input and calculates the frequency of each character using dictionary get function\n",
        "\n",
        "def count(elements):\n",
        "\tif elements[-1] == '.':\n",
        "\t\telements = elements[0:len(elements) - 1]\n",
        "\n",
        "\tif elements in dictionary:\n",
        "\t\tdictionary[elements] += 1\n",
        "\n",
        "\telse:\n",
        "\t\tdictionary.update({elements: 1})\n",
        "\n",
        "Sentence = \"Apple Mango Orange Mango Guava Guava Mango\"\n",
        "\n",
        "dictionary = {}\n",
        "\n",
        "lst = Sentence.split()\n",
        "\n",
        "for elements in lst:\n",
        "\tcount(elements)\n",
        "\n",
        "for allKeys in dictionary:\n",
        "\tprint (\"Frequency of \", allKeys, end = \" \")\n",
        "\tprint (\":\", end = \" \")\n",
        "\tprint (dictionary[allKeys], end = \" \")\n",
        "\tprint()"
      ],
      "execution_count": null,
      "outputs": [
        {
          "output_type": "stream",
          "name": "stdout",
          "text": [
            "Frequency of  Apple : 1 \n",
            "Frequency of  Mango : 3 \n",
            "Frequency of  Orange : 1 \n",
            "Frequency of  Guava : 2 \n"
          ]
        }
      ]
    },
    {
      "cell_type": "code",
      "metadata": {
        "id": "eEKwIiffWAFc",
        "colab": {
          "base_uri": "https://localhost:8080/"
        },
        "outputId": "90035561-6cfa-4be9-fd59-06dbdb8dbaca"
      },
      "source": [
        "# better\n",
        "a=input(\"enter a string\\n\")\n",
        "dict={}\n",
        "for i in a:\n",
        "    dict[i]=dict.get(i,0)+1\n",
        "print(dict)"
      ],
      "execution_count": null,
      "outputs": [
        {
          "output_type": "stream",
          "name": "stdout",
          "text": [
            "enter a string\n",
            "Kanyakumari\n",
            "{'K': 1, 'a': 3, 'n': 1, 'y': 1, 'k': 1, 'u': 1, 'm': 1, 'r': 1, 'i': 1}\n"
          ]
        }
      ]
    },
    {
      "cell_type": "code",
      "metadata": {
        "colab": {
          "base_uri": "https://localhost:8080/"
        },
        "id": "WKSGcsYmNwfL",
        "outputId": "352016cc-6fe3-4dd0-e1da-a78db8f16a3b"
      },
      "source": [
        "#Wap to create a list of 20 numbers and divide that list into diff buckets having diff ranges\n",
        "# Bucket 1 ranges 0-20\n",
        "# Bucket 2  ranges 21-40\n",
        "# Bucket 3  ranges 41-60\n",
        "\n",
        "\n",
        "import random\n",
        "\n",
        "my_list=[]\n",
        "\n",
        "for i in range(0,20):\n",
        "  x=random.randint(0,60)\n",
        "  my_list.append(x)\n",
        "\n",
        "\n",
        "\n",
        "#correct this\n",
        "\n",
        "def divide_chunks(l, n):\n",
        "\t\n",
        "\t# looping till length l\n",
        "\tfor i in range(0, len(l), n):\n",
        "\t\tyield l[i:i + n]\n",
        "\n",
        "# How many elements each\n",
        "# list should have\n",
        "n = int(input(\"input bucket size\"))\n",
        "\n",
        "x = list(divide_chunks(my_list, n))\n",
        "print (x)\n",
        "\n",
        "\n"
      ],
      "execution_count": null,
      "outputs": [
        {
          "output_type": "stream",
          "name": "stdout",
          "text": [
            "input bucket size5\n",
            "[[41, 13, 45, 35, 15], [0, 1, 19, 24, 26], [55, 60, 20, 27, 44], [19, 39, 38, 0, 58]]\n"
          ]
        }
      ]
    },
    {
      "cell_type": "code",
      "metadata": {
        "colab": {
          "base_uri": "https://localhost:8080/"
        },
        "id": "29feFaYkSUfp",
        "outputId": "aef16472-7a05-4146-d138-e1d93aa450dd"
      },
      "source": [
        "l=[2,3,4,5,6]\n",
        "l[2:3]\n"
      ],
      "execution_count": null,
      "outputs": [
        {
          "output_type": "execute_result",
          "data": {
            "text/plain": [
              "[4]"
            ]
          },
          "metadata": {},
          "execution_count": 4
        }
      ]
    },
    {
      "cell_type": "code",
      "metadata": {
        "id": "xccRV1L-0mCa"
      },
      "source": [
        "#WAP to check validity of password inputted by users\n",
        "#atleast 1 lower case and 1 upper case \n",
        "#1 number between 1 to 9\n",
        "#minimum length 6 max length 16\n",
        "\n",
        "#WAP to change given string to new string where 1st and last character have been exchanged\n",
        "\n",
        "#WAP to input list from user which include duplicate values and you need to return a list of unique values from inputted list\n",
        "\n",
        "#WAP to pent only strings whose length is greater than equal to 5\n",
        "\n",
        "#WAP to create a dictionary in which the values are the square of keys"
      ],
      "execution_count": null,
      "outputs": []
    },
    {
      "cell_type": "code",
      "metadata": {
        "id": "TLvZL6pP6WEC"
      },
      "source": [
        "import re"
      ],
      "execution_count": null,
      "outputs": []
    },
    {
      "cell_type": "code",
      "metadata": {
        "colab": {
          "base_uri": "https://localhost:8080/",
          "height": 246
        },
        "id": "9Esv96kp1cOV",
        "outputId": "de6631a0-3727-4cdb-a8a9-4c9e2e3355ad"
      },
      "source": [
        "#Ques 1- Write a program to check the validity of a password inputted by the user Check\n",
        "# 1)It includes at least one upper case and Lowe case\n",
        "# 2) min length 6, max length 16\n",
        "# 3)must include one number from 0-9\n",
        "\n",
        "import re\n",
        "\n",
        "password =input('Enter password')\n",
        "\n",
        "reg=\"^(?=.*[a-z])(?=.*[A-Z])(?=.*[0,9])(?=.*\\d)(?=.*[@$!%*#?&])[A-Za-z\\d@$!#%*?&]{6,16}$\"\n",
        "p=reg.compile(reg)\n",
        "mat=reg.search(p,password)\n",
        "\n",
        "if mat: \n",
        "  print(\"Valid\")\n",
        "else: \n",
        "  print(\"Invalid\")"
      ],
      "execution_count": null,
      "outputs": [
        {
          "name": "stdout",
          "output_type": "stream",
          "text": [
            "Enter passwordMehak9\n"
          ]
        },
        {
          "output_type": "error",
          "ename": "AttributeError",
          "evalue": "ignored",
          "traceback": [
            "\u001b[0;31m---------------------------------------------------------------------------\u001b[0m",
            "\u001b[0;31mAttributeError\u001b[0m                            Traceback (most recent call last)",
            "\u001b[0;32m<ipython-input-7-8ba74f2fce86>\u001b[0m in \u001b[0;36m<module>\u001b[0;34m()\u001b[0m\n\u001b[1;32m      9\u001b[0m \u001b[0;34m\u001b[0m\u001b[0m\n\u001b[1;32m     10\u001b[0m \u001b[0mreg\u001b[0m\u001b[0;34m=\u001b[0m\u001b[0;34m\"^(?=.*[a-z])(?=.*[A-Z])(?=.*[0,9])(?=.*\\d)(?=.*[@$!%*#?&])[A-Za-z\\d@$!#%*?&]{6,16}$\"\u001b[0m\u001b[0;34m\u001b[0m\u001b[0;34m\u001b[0m\u001b[0m\n\u001b[0;32m---> 11\u001b[0;31m \u001b[0mp\u001b[0m\u001b[0;34m=\u001b[0m\u001b[0mreg\u001b[0m\u001b[0;34m.\u001b[0m\u001b[0mcompile\u001b[0m\u001b[0;34m(\u001b[0m\u001b[0mreg\u001b[0m\u001b[0;34m)\u001b[0m\u001b[0;34m\u001b[0m\u001b[0;34m\u001b[0m\u001b[0m\n\u001b[0m\u001b[1;32m     12\u001b[0m \u001b[0mmat\u001b[0m\u001b[0;34m=\u001b[0m\u001b[0mreg\u001b[0m\u001b[0;34m.\u001b[0m\u001b[0msearch\u001b[0m\u001b[0;34m(\u001b[0m\u001b[0mp\u001b[0m\u001b[0;34m,\u001b[0m\u001b[0mpassword\u001b[0m\u001b[0;34m)\u001b[0m\u001b[0;34m\u001b[0m\u001b[0;34m\u001b[0m\u001b[0m\n\u001b[1;32m     13\u001b[0m \u001b[0;34m\u001b[0m\u001b[0m\n",
            "\u001b[0;31mAttributeError\u001b[0m: 'str' object has no attribute 'compile'"
          ]
        }
      ]
    },
    {
      "cell_type": "code",
      "metadata": {
        "colab": {
          "base_uri": "https://localhost:8080/"
        },
        "id": "dA3cpIoq6wD9",
        "outputId": "d1bf6d48-1f4b-49de-c1f4-cb9a1dc5c785"
      },
      "source": [
        "#WAP to change given string to new string where 1st and last character have been exchanged\n",
        "\n",
        "\n",
        "def change_sring(str1):\n",
        "      return str1[-1:] + str1[1:-1] + str1[:1]\n",
        "\t  \n",
        "print(change_sring('mehak'))\n",
        "print(change_sring('12345'))\n"
      ],
      "execution_count": null,
      "outputs": [
        {
          "output_type": "stream",
          "name": "stdout",
          "text": [
            "keham\n",
            "52341\n"
          ]
        }
      ]
    },
    {
      "cell_type": "code",
      "metadata": {
        "colab": {
          "base_uri": "https://localhost:8080/"
        },
        "id": "Sbw51X7f7X53",
        "outputId": "2250ab0d-4b85-4b26-d495-479b770ea561"
      },
      "source": [
        "def unique_list(l):\n",
        "  x = []\n",
        "  for a in l:\n",
        "    if a not in x:\n",
        "      x.append(a)\n",
        "  return x\n",
        "\n",
        "print(unique_list([1,2,3,3,3,3,4,5])) \n"
      ],
      "execution_count": null,
      "outputs": [
        {
          "output_type": "stream",
          "name": "stdout",
          "text": [
            "[1, 2, 3, 4, 5]\n"
          ]
        }
      ]
    },
    {
      "cell_type": "code",
      "metadata": {
        "id": "rbba6KgL9zlf",
        "colab": {
          "base_uri": "https://localhost:8080/"
        },
        "outputId": "673d2afd-aace-4cc6-9888-34c8ac6f2b85"
      },
      "source": [
        "# tell all words >k\n",
        "\n",
        "def string(k,n):\n",
        "\ts = []\n",
        "\ttext = n.split(\" \")\n",
        "\tfor x in text:\n",
        "\t\tif len(x) > k:\n",
        "\t\t\ts.append(x)\n",
        "\treturn s\n",
        "k = 3\n",
        "n =input(\"enter string: \")\n",
        "print(string(k,n))"
      ],
      "execution_count": null,
      "outputs": [
        {
          "output_type": "stream",
          "name": "stdout",
          "text": [
            "enter string: na tum jano na hum\n",
            "['jano']\n"
          ]
        }
      ]
    },
    {
      "cell_type": "code",
      "metadata": {
        "id": "fV6uaveG90o2",
        "colab": {
          "base_uri": "https://localhost:8080/"
        },
        "outputId": "724796fa-22be-4dfd-ff59-bf5d7b0dff4e"
      },
      "source": [
        "# squares of numbers uptil n\n",
        "n = int(input(\"enter the Number: \"))\n",
        "d = {}\n",
        "\n",
        "for x in range(1,n+1):\n",
        "    d[x] = x**2\n",
        "    \n",
        "print(\"Dictionary = \", d)"
      ],
      "execution_count": null,
      "outputs": [
        {
          "output_type": "stream",
          "name": "stdout",
          "text": [
            "enter the Number: 8\n",
            "Dictionary =  {1: 1, 2: 4, 3: 9, 4: 16, 5: 25, 6: 36, 7: 49, 8: 64}\n"
          ]
        }
      ]
    },
    {
      "cell_type": "markdown",
      "metadata": {
        "id": "3D3vls7NAwHK"
      },
      "source": [
        "wap to create a form having username password and make sure the password have certain condition: 1 upper case letter, 1 lower case letter and 1 digit"
      ]
    },
    {
      "cell_type": "code",
      "metadata": {
        "id": "V95ucAQ1CNik"
      },
      "source": [
        "import tkinter #goto jupyter"
      ],
      "execution_count": null,
      "outputs": []
    },
    {
      "cell_type": "code",
      "metadata": {
        "colab": {
          "base_uri": "https://localhost:8080/",
          "height": 346
        },
        "id": "ifEmBpfaA1Cd",
        "outputId": "6945470e-e621-4e75-85c8-fc3383334397"
      },
      "source": [
        "from tkinter import * \n",
        "top = tkinter.Tk(className='Tk')\n",
        "L1 = Label(top, text=\"User Name\") \n",
        "L1.pack( side = LEFT) \n",
        "E1 = Entry(top, bd =5) \n",
        "E1.pack(side = RIGHT) \n",
        "X=E1.get() \n",
        "top.mainloop()"
      ],
      "execution_count": null,
      "outputs": [
        {
          "output_type": "error",
          "ename": "TclError",
          "evalue": "ignored",
          "traceback": [
            "\u001b[0;31m---------------------------------------------------------------------------\u001b[0m",
            "\u001b[0;31mTclError\u001b[0m                                  Traceback (most recent call last)",
            "\u001b[0;32m<ipython-input-6-9fe08dcb8387>\u001b[0m in \u001b[0;36m<module>\u001b[0;34m()\u001b[0m\n\u001b[1;32m      1\u001b[0m \u001b[0;32mfrom\u001b[0m \u001b[0mtkinter\u001b[0m \u001b[0;32mimport\u001b[0m \u001b[0;34m*\u001b[0m\u001b[0;34m\u001b[0m\u001b[0;34m\u001b[0m\u001b[0m\n\u001b[0;32m----> 2\u001b[0;31m \u001b[0mtop\u001b[0m \u001b[0;34m=\u001b[0m \u001b[0mtkinter\u001b[0m\u001b[0;34m.\u001b[0m\u001b[0mTk\u001b[0m\u001b[0;34m(\u001b[0m\u001b[0mclassName\u001b[0m\u001b[0;34m=\u001b[0m\u001b[0;34m'Tk'\u001b[0m\u001b[0;34m)\u001b[0m\u001b[0;34m\u001b[0m\u001b[0;34m\u001b[0m\u001b[0m\n\u001b[0m\u001b[1;32m      3\u001b[0m \u001b[0mL1\u001b[0m \u001b[0;34m=\u001b[0m \u001b[0mLabel\u001b[0m\u001b[0;34m(\u001b[0m\u001b[0mtop\u001b[0m\u001b[0;34m,\u001b[0m \u001b[0mtext\u001b[0m\u001b[0;34m=\u001b[0m\u001b[0;34m\"User Name\"\u001b[0m\u001b[0;34m)\u001b[0m\u001b[0;34m\u001b[0m\u001b[0;34m\u001b[0m\u001b[0m\n\u001b[1;32m      4\u001b[0m \u001b[0mL1\u001b[0m\u001b[0;34m.\u001b[0m\u001b[0mpack\u001b[0m\u001b[0;34m(\u001b[0m \u001b[0mside\u001b[0m \u001b[0;34m=\u001b[0m \u001b[0mLEFT\u001b[0m\u001b[0;34m)\u001b[0m\u001b[0;34m\u001b[0m\u001b[0;34m\u001b[0m\u001b[0m\n\u001b[1;32m      5\u001b[0m \u001b[0mE1\u001b[0m \u001b[0;34m=\u001b[0m \u001b[0mEntry\u001b[0m\u001b[0;34m(\u001b[0m\u001b[0mtop\u001b[0m\u001b[0;34m,\u001b[0m \u001b[0mbd\u001b[0m \u001b[0;34m=\u001b[0m\u001b[0;36m5\u001b[0m\u001b[0;34m)\u001b[0m\u001b[0;34m\u001b[0m\u001b[0;34m\u001b[0m\u001b[0m\n",
            "\u001b[0;32m/usr/lib/python3.7/tkinter/__init__.py\u001b[0m in \u001b[0;36m__init__\u001b[0;34m(self, screenName, baseName, className, useTk, sync, use)\u001b[0m\n\u001b[1;32m   2021\u001b[0m                 \u001b[0mbaseName\u001b[0m \u001b[0;34m=\u001b[0m \u001b[0mbaseName\u001b[0m \u001b[0;34m+\u001b[0m \u001b[0mext\u001b[0m\u001b[0;34m\u001b[0m\u001b[0;34m\u001b[0m\u001b[0m\n\u001b[1;32m   2022\u001b[0m         \u001b[0minteractive\u001b[0m \u001b[0;34m=\u001b[0m \u001b[0;36m0\u001b[0m\u001b[0;34m\u001b[0m\u001b[0;34m\u001b[0m\u001b[0m\n\u001b[0;32m-> 2023\u001b[0;31m         \u001b[0mself\u001b[0m\u001b[0;34m.\u001b[0m\u001b[0mtk\u001b[0m \u001b[0;34m=\u001b[0m \u001b[0m_tkinter\u001b[0m\u001b[0;34m.\u001b[0m\u001b[0mcreate\u001b[0m\u001b[0;34m(\u001b[0m\u001b[0mscreenName\u001b[0m\u001b[0;34m,\u001b[0m \u001b[0mbaseName\u001b[0m\u001b[0;34m,\u001b[0m \u001b[0mclassName\u001b[0m\u001b[0;34m,\u001b[0m \u001b[0minteractive\u001b[0m\u001b[0;34m,\u001b[0m \u001b[0mwantobjects\u001b[0m\u001b[0;34m,\u001b[0m \u001b[0museTk\u001b[0m\u001b[0;34m,\u001b[0m \u001b[0msync\u001b[0m\u001b[0;34m,\u001b[0m \u001b[0muse\u001b[0m\u001b[0;34m)\u001b[0m\u001b[0;34m\u001b[0m\u001b[0;34m\u001b[0m\u001b[0m\n\u001b[0m\u001b[1;32m   2024\u001b[0m         \u001b[0;32mif\u001b[0m \u001b[0museTk\u001b[0m\u001b[0;34m:\u001b[0m\u001b[0;34m\u001b[0m\u001b[0;34m\u001b[0m\u001b[0m\n\u001b[1;32m   2025\u001b[0m             \u001b[0mself\u001b[0m\u001b[0;34m.\u001b[0m\u001b[0m_loadtk\u001b[0m\u001b[0;34m(\u001b[0m\u001b[0;34m)\u001b[0m\u001b[0;34m\u001b[0m\u001b[0;34m\u001b[0m\u001b[0m\n",
            "\u001b[0;31mTclError\u001b[0m: no display name and no $DISPLAY environment variable"
          ]
        }
      ]
    },
    {
      "cell_type": "code",
      "source": [
        "import numpy as np \n",
        "a=np.array([[0,1,2],[2,3,4]])\n",
        "b=np.array([4,5,6]) \n",
        "print(np.add(a,b)) \n",
        "print(np.subtract(a,b)) \n",
        "print(np.multiply(a,b)) \n",
        "print(np.divide(a,b)) \n",
        "print(np.dot(a,b))"
      ],
      "metadata": {
        "colab": {
          "base_uri": "https://localhost:8080/"
        },
        "id": "0DUIl3fMNotn",
        "outputId": "f2f3dd52-7516-4020-a201-24110d5d6f95"
      },
      "execution_count": null,
      "outputs": [
        {
          "output_type": "stream",
          "name": "stdout",
          "text": [
            "[[ 4  6  8]\n",
            " [ 6  8 10]]\n",
            "[[-4 -4 -4]\n",
            " [-2 -2 -2]]\n",
            "[[ 0  5 12]\n",
            " [ 8 15 24]]\n",
            "[[0.         0.2        0.33333333]\n",
            " [0.5        0.6        0.66666667]]\n",
            "[17 47]\n"
          ]
        }
      ]
    },
    {
      "cell_type": "code",
      "source": [
        "import numpy as np \n",
        "a = np.array([[3,7,5],[8,4,3],[2,4,9]]) \n",
        "print(a)\n",
        "print(np.ptp(a)) #7 \n",
        "print(np.ptp(a,axis=1))#[4,5,7] \n",
        "print(np.ptp(a,axis=0))"
      ],
      "metadata": {
        "colab": {
          "base_uri": "https://localhost:8080/"
        },
        "id": "WGQV5i3ZQ_Bm",
        "outputId": "9186270b-a954-417e-fda5-5030ab3688f6"
      },
      "execution_count": null,
      "outputs": [
        {
          "output_type": "stream",
          "name": "stdout",
          "text": [
            "[[3 7 5]\n",
            " [8 4 3]\n",
            " [2 4 9]]\n",
            "7\n",
            "[4 5 7]\n",
            "[6 3 6]\n"
          ]
        }
      ]
    },
    {
      "cell_type": "code",
      "source": [
        "import numpy as np \n",
        "a= np.array([[30,65,70],[80,95,10],[50,90,60]]) \n",
        "print(np.median(a)) \n",
        "print(np.median(a, axis=0)) \n",
        "print(np.median(a,axis=1))"
      ],
      "metadata": {
        "colab": {
          "base_uri": "https://localhost:8080/"
        },
        "id": "tsfDjnCpSH9j",
        "outputId": "984674d4-c0f6-4d94-b596-286bde0a63ad"
      },
      "execution_count": null,
      "outputs": [
        {
          "output_type": "stream",
          "name": "stdout",
          "text": [
            "65.0\n",
            "[50. 90. 60.]\n",
            "[65. 80. 60.]\n"
          ]
        }
      ]
    },
    {
      "cell_type": "code",
      "source": [
        "import pandas as pd \n",
        "import numpy as np \n",
        "data = np.array(['a','b','c','d']) \n",
        "s = pd.Series(data,index=[100,101,102,103]) \n",
        "print( s)"
      ],
      "metadata": {
        "colab": {
          "base_uri": "https://localhost:8080/"
        },
        "id": "n57-3AYoTCys",
        "outputId": "0bbe9957-5444-46ec-b2e7-853253448b97"
      },
      "execution_count": null,
      "outputs": [
        {
          "output_type": "stream",
          "name": "stdout",
          "text": [
            "100    a\n",
            "101    b\n",
            "102    c\n",
            "103    d\n",
            "dtype: object\n"
          ]
        }
      ]
    },
    {
      "cell_type": "code",
      "source": [
        "import numpy as np \n",
        "x = np.linspace(10,20,5) \n",
        "print (x)"
      ],
      "metadata": {
        "colab": {
          "base_uri": "https://localhost:8080/"
        },
        "id": "5YCuGI40cIXN",
        "outputId": "001075ce-230f-4d6b-f5be-8b50260d4e8f"
      },
      "execution_count": null,
      "outputs": [
        {
          "output_type": "stream",
          "name": "stdout",
          "text": [
            "[10.  12.5 15.  17.5 20. ]\n"
          ]
        }
      ]
    },
    {
      "cell_type": "code",
      "source": [
        "a ={} \n",
        "a.fromkeys(['a', 'b', 'c', 'd'], 98) \n",
        "print (a)"
      ],
      "metadata": {
        "colab": {
          "base_uri": "https://localhost:8080/"
        },
        "id": "pAkBv93bcSHZ",
        "outputId": "b55270db-a75b-45af-fc9a-2d91d442d9b2"
      },
      "execution_count": null,
      "outputs": [
        {
          "output_type": "stream",
          "name": "stdout",
          "text": [
            "{}\n"
          ]
        }
      ]
    },
    {
      "cell_type": "code",
      "source": [
        "test = {1:'A', 2:'B', 3:'C'} \n",
        "del test[1] \n",
        "test[1] = 'D' \n",
        "del test[2] \n",
        "print(len(test))"
      ],
      "metadata": {
        "colab": {
          "base_uri": "https://localhost:8080/"
        },
        "id": "ZRQkKnMRcbH2",
        "outputId": "96e7f78e-e778-4ba9-db2b-fb78a3ae6b67"
      },
      "execution_count": null,
      "outputs": [
        {
          "output_type": "stream",
          "name": "stdout",
          "text": [
            "2\n"
          ]
        }
      ]
    },
    {
      "cell_type": "code",
      "source": [
        "print(\"Hello World\"[::-1]) "
      ],
      "metadata": {
        "colab": {
          "base_uri": "https://localhost:8080/"
        },
        "id": "LABSOCt9dEgl",
        "outputId": "41ea55ef-d6c7-4c83-e92f-b21118569686"
      },
      "execution_count": null,
      "outputs": [
        {
          "output_type": "stream",
          "name": "stdout",
          "text": [
            "dlroW olleH\n"
          ]
        }
      ]
    },
    {
      "cell_type": "code",
      "source": [
        "#  returns a list containing strings,\\n\n",
        "print(type(f.readlines())"
      ],
      "metadata": {
        "colab": {
          "base_uri": "https://localhost:8080/",
          "height": 130
        },
        "id": "OxBI3deXdWTZ",
        "outputId": "43474a80-bf06-44a4-f34b-1e22ec0a5fe2"
      },
      "execution_count": null,
      "outputs": [
        {
          "output_type": "error",
          "ename": "SyntaxError",
          "evalue": "ignored",
          "traceback": [
            "\u001b[0;36m  File \u001b[0;32m\"<ipython-input-16-553d7d4c04d1>\"\u001b[0;36m, line \u001b[0;32m1\u001b[0m\n\u001b[0;31m    print(type(f.readlines())\u001b[0m\n\u001b[0m                             ^\u001b[0m\n\u001b[0;31mSyntaxError\u001b[0m\u001b[0;31m:\u001b[0m unexpected EOF while parsing\n"
          ]
        }
      ]
    },
    {
      "cell_type": "code",
      "source": [
        "import numpy as np \n",
        "a = np.array([[3,7,5],[8,4,3],[2,4,9]]) \n",
        "print(np.ptp(a))"
      ],
      "metadata": {
        "colab": {
          "base_uri": "https://localhost:8080/"
        },
        "id": "NNxeb66OdpX0",
        "outputId": "93693202-f41e-42d0-eb79-f4e6218f3d2d"
      },
      "execution_count": null,
      "outputs": [
        {
          "output_type": "stream",
          "name": "stdout",
          "text": [
            "7\n"
          ]
        }
      ]
    },
    {
      "cell_type": "code",
      "source": [
        "import numpy as np \n",
        "a = np.array([[1,2,3],[4,5,6]]) \n",
        "b = a.reshape(3,3) \n",
        "print (b)"
      ],
      "metadata": {
        "colab": {
          "base_uri": "https://localhost:8080/",
          "height": 217
        },
        "id": "Qv9luEU0d3kE",
        "outputId": "760e0836-19b0-4f22-af42-a1064937184b"
      },
      "execution_count": null,
      "outputs": [
        {
          "output_type": "error",
          "ename": "ValueError",
          "evalue": "ignored",
          "traceback": [
            "\u001b[0;31m---------------------------------------------------------------------------\u001b[0m",
            "\u001b[0;31mValueError\u001b[0m                                Traceback (most recent call last)",
            "\u001b[0;32m<ipython-input-18-75e1cbb66c81>\u001b[0m in \u001b[0;36m<module>\u001b[0;34m()\u001b[0m\n\u001b[1;32m      1\u001b[0m \u001b[0;32mimport\u001b[0m \u001b[0mnumpy\u001b[0m \u001b[0;32mas\u001b[0m \u001b[0mnp\u001b[0m\u001b[0;34m\u001b[0m\u001b[0;34m\u001b[0m\u001b[0m\n\u001b[1;32m      2\u001b[0m \u001b[0ma\u001b[0m \u001b[0;34m=\u001b[0m \u001b[0mnp\u001b[0m\u001b[0;34m.\u001b[0m\u001b[0marray\u001b[0m\u001b[0;34m(\u001b[0m\u001b[0;34m[\u001b[0m\u001b[0;34m[\u001b[0m\u001b[0;36m1\u001b[0m\u001b[0;34m,\u001b[0m\u001b[0;36m2\u001b[0m\u001b[0;34m,\u001b[0m\u001b[0;36m3\u001b[0m\u001b[0;34m]\u001b[0m\u001b[0;34m,\u001b[0m\u001b[0;34m[\u001b[0m\u001b[0;36m4\u001b[0m\u001b[0;34m,\u001b[0m\u001b[0;36m5\u001b[0m\u001b[0;34m,\u001b[0m\u001b[0;36m6\u001b[0m\u001b[0;34m]\u001b[0m\u001b[0;34m]\u001b[0m\u001b[0;34m)\u001b[0m\u001b[0;34m\u001b[0m\u001b[0;34m\u001b[0m\u001b[0m\n\u001b[0;32m----> 3\u001b[0;31m \u001b[0mb\u001b[0m \u001b[0;34m=\u001b[0m \u001b[0ma\u001b[0m\u001b[0;34m.\u001b[0m\u001b[0mreshape\u001b[0m\u001b[0;34m(\u001b[0m\u001b[0;36m3\u001b[0m\u001b[0;34m,\u001b[0m\u001b[0;36m3\u001b[0m\u001b[0;34m)\u001b[0m\u001b[0;34m\u001b[0m\u001b[0;34m\u001b[0m\u001b[0m\n\u001b[0m\u001b[1;32m      4\u001b[0m \u001b[0mprint\u001b[0m \u001b[0;34m(\u001b[0m\u001b[0mb\u001b[0m\u001b[0;34m)\u001b[0m\u001b[0;34m\u001b[0m\u001b[0;34m\u001b[0m\u001b[0m\n",
            "\u001b[0;31mValueError\u001b[0m: cannot reshape array of size 6 into shape (3,3)"
          ]
        }
      ]
    },
    {
      "cell_type": "code",
      "source": [
        "import numpy as np \n",
        "a=[[1,1],[2,2]] \n",
        "print(np.sum(a,axis=0))"
      ],
      "metadata": {
        "colab": {
          "base_uri": "https://localhost:8080/"
        },
        "id": "C9Z6_7-peDev",
        "outputId": "6dd51640-fd1c-4b82-8f94-c44d02053fc5"
      },
      "execution_count": null,
      "outputs": [
        {
          "output_type": "stream",
          "name": "stdout",
          "text": [
            "[3 3]\n"
          ]
        }
      ]
    }
  ]
}