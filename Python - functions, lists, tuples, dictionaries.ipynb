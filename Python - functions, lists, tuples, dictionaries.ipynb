{
 "cells": [
  {
   "cell_type": "markdown",
   "id": "ae0764eb",
   "metadata": {},
   "source": [
    "## Functions\n",
    "\n",
    "- type()\n",
    "- typeconversion: int(\"1234\"), str(), float()\n",
    "- Type coercion: rules for automatic type conversion. 59/60.0 makes it float\n",
    "- dot notation: math.sin(1.5), \n",
    "\n",
    "<b>user defined functions</b>\n",
    "```\n",
    "def fname(parameters):\n",
    "   ---------- \n",
    "   ----------\n",
    "```\n",
    "<!-- &emsp; for four spaces  -->\n",
    "<br>\n",
    "function should be created before it is called\n",
    "    \n",
    "    \n"
   ]
  },
  {
   "cell_type": "code",
   "execution_count": 4,
   "id": "2adaac33",
   "metadata": {},
   "outputs": [
    {
     "name": "stdout",
     "output_type": "stream",
     "text": [
      "wayne wayne\n",
      "12 12\n",
      "13.2 13.2\n",
      "hahahaha hahahaha\n",
      "25 25\n"
     ]
    }
   ],
   "source": [
    "import math\n",
    "\n",
    "def printtwice(bruce):\n",
    "    print(bruce,bruce)\n",
    "\n",
    "printtwice(\"wayne\")\n",
    "printtwice(12)\n",
    "printtwice(13.2)\n",
    "printtwice(\"ha\"*4)\n",
    "printtwice(pow(5,2))\n"
   ]
  },
  {
   "cell_type": "code",
   "execution_count": 7,
   "id": "b2487c2a",
   "metadata": {},
   "outputs": [
    {
     "name": "stdout",
     "output_type": "stream",
     "text": [
      "123123\n",
      "123123\n"
     ]
    }
   ],
   "source": [
    "# local variable\n",
    "def printtwice(bruce):\n",
    "    cat=bruce+bruce\n",
    "    print(cat)\n",
    "#     return cat\n",
    "    \n",
    "printtwice(\"123\")\n",
    "# cat=printtwice(\"123\")\n",
    "print(cat)"
   ]
  },
  {
   "cell_type": "markdown",
   "id": "6e280947",
   "metadata": {},
   "source": [
    "### Arbitrary Arguments, *args\n",
    "If you do not know how many arguments that will be passed into your function, add a * before the parameter name in the function definition.\n",
    "\n",
    "This way the function will receive a tuple of arguments, and can access the items accordingly:"
   ]
  },
  {
   "cell_type": "code",
   "execution_count": 12,
   "id": "fc83a7c7",
   "metadata": {},
   "outputs": [
    {
     "name": "stdout",
     "output_type": "stream",
     "text": [
      "The youngest child is Ares\n"
     ]
    }
   ],
   "source": [
    "def my_function(*kids):\n",
    "  print(\"The youngest child is \" + kids[len(kids)-1])\n",
    "\n",
    "my_function(\"Emil\", \"Tobias\", \"Linus\",\"Ares\")"
   ]
  },
  {
   "cell_type": "markdown",
   "id": "7d3190cd",
   "metadata": {},
   "source": [
    "### Arbitrary Keyword Arguments, **kwargs\n",
    "If you do not know how many keyword arguments that will be passed into your function, add two asterisk: ** before the parameter name in the function definition.\n",
    "\n",
    "This way the function will receive a dictionary of arguments, and can access the items accordingly:"
   ]
  },
  {
   "cell_type": "code",
   "execution_count": 13,
   "id": "8f5a5aa4",
   "metadata": {},
   "outputs": [
    {
     "name": "stdout",
     "output_type": "stream",
     "text": [
      "His last name is Refsnes\n"
     ]
    }
   ],
   "source": [
    "def my_function(**kid):\n",
    "  print(\"His last name is \" + kid[\"lname\"])\n",
    "\n",
    "my_function(fname = \"Tobias\", lname = \"Refsnes\")"
   ]
  },
  {
   "cell_type": "markdown",
   "id": "72f9f106",
   "metadata": {},
   "source": [
    "### Default Parameter Value\n",
    "```json\n",
    "def func(country =\"India\"):\n",
    "    print(\"I am from \"+ country)\n",
    "```\n",
    "    \n",
    "### Passing a List as an Argument\n",
    "You can send any data types of argument to a function (string, number, list, dictionary etc.), and it will be treated as the same data type inside the function.\n",
    "\n",
    "E.g. if you send a List as an argument, it will still be a List when it reaches the function"
   ]
  },
  {
   "cell_type": "code",
   "execution_count": 17,
   "id": "ffc72eb7",
   "metadata": {},
   "outputs": [
    {
     "name": "stdout",
     "output_type": "stream",
     "text": [
      "apple\n",
      "banana\n",
      "cherry\n"
     ]
    }
   ],
   "source": [
    "def my_function(food):\n",
    "  for x in food:\n",
    "    print(x)\n",
    "\n",
    "fruits = [\"apple\", \"banana\", \"cherry\"]\n",
    "\n",
    "my_function(fruits)"
   ]
  },
  {
   "cell_type": "code",
   "execution_count": null,
   "id": "83fa9f8a",
   "metadata": {},
   "outputs": [],
   "source": [
    "def myfunction():\n",
    "  pass"
   ]
  },
  {
   "cell_type": "markdown",
   "id": "3d1b54ad",
   "metadata": {},
   "source": [
    "The pass Statement\n",
    ":function definitions cannot be empty, but if you for some reason have a function definition with no content, put in the pass statement to avoid getting an error."
   ]
  },
  {
   "cell_type": "markdown",
   "id": "fabaa77a",
   "metadata": {},
   "source": [
    "## Bhatak gaye markdown mei"
   ]
  },
  {
   "cell_type": "markdown",
   "id": "0c7a6d33",
   "metadata": {},
   "source": [
    "<!-- Here's a simple footnote,[^1] and here's a longer one.[^bignote]\n",
    "\n",
    "[^1]: This is the first footnote.\n",
    "\n",
    "[^bignote]: Here's one with multiple paragraphs and code.\n",
    "\n",
    "    Indent paragraphs to include them in the footnote.\n",
    "\n",
    "    `{ my code }`\n",
    "\n",
    "    Add as many paragraphs as you like. -->"
   ]
  },
  {
   "cell_type": "markdown",
   "id": "29f065a4",
   "metadata": {},
   "source": [
    "- [x] Learning how to make task list in markdown\n",
    "- [ ] Learning python\n",
    "- [x] Bhatak gaye"
   ]
  },
  {
   "cell_type": "markdown",
   "id": "280bf24d",
   "metadata": {},
   "source": [
    "I need to highlight these <mark>very important words </mark>.\n",
    "`http://www.example.com`\n",
    "http://www.example.com"
   ]
  },
  {
   "cell_type": "markdown",
   "id": "1ce1e16c",
   "metadata": {},
   "source": [
    "## Recursion"
   ]
  },
  {
   "cell_type": "code",
   "execution_count": 18,
   "id": "487b0879",
   "metadata": {},
   "outputs": [
    {
     "name": "stdout",
     "output_type": "stream",
     "text": [
      "6\n",
      "5\n",
      "4\n",
      "3\n",
      "2\n",
      "1\n",
      "Blastoff!\n"
     ]
    }
   ],
   "source": [
    "def countdown(n):\n",
    "    if(n==0):\n",
    "        print(\"Blastoff!\")\n",
    "    else:\n",
    "        print(n)\n",
    "        countdown(n-1)\n",
    "        \n",
    "countdown(6)"
   ]
  },
  {
   "cell_type": "code",
   "execution_count": 23,
   "id": "b33d601f",
   "metadata": {},
   "outputs": [
    {
     "name": "stdout",
     "output_type": "stream",
     "text": [
      "Fibonacci series:\n",
      "0\n",
      "1\n",
      "1\n",
      "2\n",
      "3\n",
      "5\n",
      "8\n",
      "13\n",
      "21\n",
      "34\n"
     ]
    }
   ],
   "source": [
    "# Program to print the fibonacci series upto n_terms\n",
    "# not good for optimization :)\n",
    "\n",
    "# Recursive function\n",
    "def recursive_fibonacci(n):\n",
    "    if(n<= 1):\n",
    "        return n\n",
    "    else:\n",
    "        return(recursive_fibonacci(n-1) + recursive_fibonacci(n-2))\n",
    "\n",
    "n_terms = 10\n",
    "# check if the number of terms is valid\n",
    "if n_terms <= 0:\n",
    "    print(\"Invalid input ! Please input a positive value\")\n",
    "else:\n",
    "    print(\"Fibonacci series:\")\n",
    "    for i in range(n_terms):\n",
    "        print(recursive_fibonacci(i))\n"
   ]
  },
  {
   "cell_type": "code",
   "execution_count": 41,
   "id": "14e261ac",
   "metadata": {},
   "outputs": [
    {
     "name": "stdout",
     "output_type": "stream",
     "text": [
      "3.141592653589793\n"
     ]
    }
   ],
   "source": [
    "from math import pi\n",
    "  \n",
    "# pi = 'global pi variable'\n",
    "  \n",
    "def outer():\n",
    "#     pi = 'outer pi variable'\n",
    "    def inner():\n",
    "#         pi = 'inner pi variable'\n",
    "        print(pi)\n",
    "    inner()\n",
    "  \n",
    "outer()"
   ]
  },
  {
   "attachments": {},
   "cell_type": "markdown",
   "id": "d636449c",
   "metadata": {},
   "source": [
    "1. Write a Python function to find the Max of three numbers. \n",
    "2. Write a Python function to sum all the numbers in a list. \n",
    "3. Write a Python function to multiply all the numbers in a list. \n",
    "4. Write a Python function to reverse a string. \n",
    "5. Write a Python function to calculate the factorial of a number (non-negative integer). The function accept the number as an argument. \n",
    "6. Write a Python function to check whether a number is in a given range. \n",
    "7. Write a Python function that takes a number as a parameter and check the number is prime or not. \n",
    "8. Write a Python function that checks whether a passed string is palindrome or not.\n",
    "9. Write a Python function to check whether a number is perfect or not. According to Wikipedia : In number theory, a perfect number is a positive integer that is equal to the sum of its proper positive divisors, that is, the sum of its positive divisors excluding the number itself (also known as its aliquot sum). Equivalently, a perfect number is a number that is half the sum of all of its positive divisors (including itself).\u000b",
    "Example : The first perfect number is 6, because 1, 2, and 3 are its proper positive divisors, and 1 + 2 + 3 = 6. Equivalently, the number 6 is equal to half the sum of all its positive divisors: ( 1 + 2 + 3 + 6 ) / 2 = 6. The next perfect number is 28 = 1 + 2 + 4 + 7 + 14. This is followed by the perfect numbers 496 and 8128.\n"
   ]
  },
  {
   "cell_type": "code",
   "execution_count": 26,
   "id": "9cacfefb",
   "metadata": {},
   "outputs": [
    {
     "name": "stdout",
     "output_type": "stream",
     "text": [
      "7\n"
     ]
    }
   ],
   "source": [
    "#1\n",
    "def Max(one,two,three):\n",
    "    m=max(one,two)\n",
    "    m=max(m,three)\n",
    "    return m\n",
    "\n",
    "m=Max(6,7,3)\n",
    "print(m)\n"
   ]
  },
  {
   "cell_type": "code",
   "execution_count": 27,
   "id": "53feb770",
   "metadata": {},
   "outputs": [
    {
     "name": "stdout",
     "output_type": "stream",
     "text": [
      "9\n"
     ]
    }
   ],
   "source": [
    "#2\n",
    "def slist(s):\n",
    "    sum=0\n",
    "    for num in s:\n",
    "        sum+=num\n",
    "    return sum\n",
    "\n",
    "w=slist([2,3,4])\n",
    "print(w)"
   ]
  },
  {
   "cell_type": "code",
   "execution_count": 29,
   "id": "8152162f",
   "metadata": {},
   "outputs": [
    {
     "name": "stdout",
     "output_type": "stream",
     "text": [
      "24\n"
     ]
    }
   ],
   "source": [
    "#3\n",
    "def slist(s):\n",
    "    prod=1\n",
    "    for num in s:\n",
    "        prod*=num\n",
    "    return prod\n",
    "\n",
    "w=slist([2,3,4])\n",
    "print(w)"
   ]
  },
  {
   "cell_type": "code",
   "execution_count": 31,
   "id": "7ab0b293",
   "metadata": {},
   "outputs": [
    {
     "name": "stdout",
     "output_type": "stream",
     "text": [
      "kahem\n",
      "lawragga\n"
     ]
    }
   ],
   "source": [
    "#4\n",
    "def strrev(s):\n",
    "    if(len(s)==1):\n",
    "        return s\n",
    "    ans=strrev(s[1:])+s[0]\n",
    "    return ans\n",
    "\n",
    "ans=strrev(\"mehak\")\n",
    "print(ans)\n",
    "\n",
    "ans=strrev(\"aggarwal\")\n",
    "print(ans)\n"
   ]
  },
  {
   "cell_type": "code",
   "execution_count": 35,
   "id": "b1d5d76b",
   "metadata": {},
   "outputs": [
    {
     "name": "stdout",
     "output_type": "stream",
     "text": [
      "Enter num-4\n",
      "Exception\n"
     ]
    }
   ],
   "source": [
    "#5\n",
    "def fact(num):\n",
    "    if(num==0):\n",
    "        return 0\n",
    "    if(num==1):\n",
    "        return 1\n",
    "    f=1\n",
    "    f*=fact(num-1)*num\n",
    "    return f\n",
    "\n",
    "num=int(input(\"Enter num\"))\n",
    "try:\n",
    "    if(num<0):\n",
    "        raise ValueError(\"negative num\")\n",
    "    print(fact(num))\n",
    "except ValueError:\n",
    "    print(\"Exception\")"
   ]
  },
  {
   "cell_type": "markdown",
   "id": "9be951f8",
   "metadata": {},
   "source": [
    "## Lists\n",
    "- ordered(order will not change, new items are placed at the end of list)\n",
    "- mutable( changeable )\n",
    "- allow duplicate values\n",
    "- indexed - start at index 0"
   ]
  },
  {
   "cell_type": "code",
   "execution_count": 106,
   "id": "4cf1e81c",
   "metadata": {},
   "outputs": [
    {
     "name": "stdout",
     "output_type": "stream",
     "text": [
      "apple\n",
      "banana\n",
      "cherry\n",
      "\n",
      "way2:\n",
      "\n",
      "apple\n",
      "banana\n",
      "cherry\n",
      "3\n"
     ]
    }
   ],
   "source": [
    "thislist = [\"apple\", \"banana\", \"cherry\"]\n",
    "for i in range(len(thislist)):\n",
    "  print(thislist[i])\n",
    "\n",
    "print(\"\\nway2:\\n\")\n",
    "for x in thislist:\n",
    "  print(x)\n",
    "\n",
    "print(len(thislist))"
   ]
  },
  {
   "cell_type": "code",
   "execution_count": 108,
   "id": "d6f239d1",
   "metadata": {},
   "outputs": [
    {
     "ename": "SyntaxError",
     "evalue": "invalid syntax (<ipython-input-108-5d1f27f0886e>, line 2)",
     "output_type": "error",
     "traceback": [
      "\u001b[1;36m  File \u001b[1;32m\"<ipython-input-108-5d1f27f0886e>\"\u001b[1;36m, line \u001b[1;32m2\u001b[0m\n\u001b[1;33m    thislist = [\"apple\", \"banana\", \"cherry\"]\"Files and Exceptions.ipynb\"\u001b[0m\n\u001b[1;37m                                            ^\u001b[0m\n\u001b[1;31mSyntaxError\u001b[0m\u001b[1;31m:\u001b[0m invalid syntax\n"
     ]
    }
   ],
   "source": [
    "# List comprehension\n",
    "thislist = [\"apple\", \"banana\", \"cherry\"]\n",
    "[print(x) for x in thislist]"
   ]
  },
  {
   "cell_type": "code",
   "execution_count": 64,
   "id": "9b1d9bca",
   "metadata": {},
   "outputs": [
    {
     "data": {
      "text/plain": [
       "[]"
      ]
     },
     "execution_count": 64,
     "metadata": {},
     "output_type": "execute_result"
    }
   ],
   "source": [
    "abc=[]\n",
    "abc #empty list"
   ]
  },
  {
   "cell_type": "code",
   "execution_count": 45,
   "id": "247758a9",
   "metadata": {},
   "outputs": [
    {
     "name": "stdout",
     "output_type": "stream",
     "text": [
      "['abc', 34, True, 40, 'male']\n",
      "<class 'list'>\n"
     ]
    }
   ],
   "source": [
    "# different data types\n",
    "list1 = [\"abc\", 34, True, 40, \"male\"]\n",
    "print(list1)\n",
    "print(type(list1))"
   ]
  },
  {
   "cell_type": "code",
   "execution_count": 67,
   "id": "d7e293f4",
   "metadata": {},
   "outputs": [
    {
     "name": "stdout",
     "output_type": "stream",
     "text": [
      "['apple', 'banana', 'cherry']\n",
      "banana\n",
      "['apple', 'kiwi', 'cherry']\n"
     ]
    }
   ],
   "source": [
    "# list constructor \n",
    "thislist = list((\"apple\", \"banana\", \"cherry\")) # note the double round-brackets\n",
    "print(thislist)\n",
    "print(thislist[1]) #access\n",
    "thislist[1]='kiwi' #assignment\n",
    "print(thislist)"
   ]
  },
  {
   "cell_type": "code",
   "execution_count": 55,
   "id": "e51da3f6",
   "metadata": {},
   "outputs": [
    {
     "data": {
      "text/plain": [
       "['mehak', 2, True, [2, 3, 4, 5]]"
      ]
     },
     "execution_count": 55,
     "metadata": {},
     "output_type": "execute_result"
    }
   ],
   "source": [
    "#nested list\n",
    "l=['mehak',2,True,list((range(2,6)))]\n",
    "l"
   ]
  },
  {
   "cell_type": "code",
   "execution_count": 69,
   "id": "6e548567",
   "metadata": {},
   "outputs": [
    {
     "data": {
      "text/plain": [
       "[2, 3, 4, 5]"
      ]
     },
     "execution_count": 69,
     "metadata": {},
     "output_type": "execute_result"
    }
   ],
   "source": [
    "l[-1]"
   ]
  },
  {
   "cell_type": "code",
   "execution_count": 70,
   "id": "f84d92aa",
   "metadata": {},
   "outputs": [
    {
     "data": {
      "text/plain": [
       "True"
      ]
     },
     "execution_count": 70,
     "metadata": {},
     "output_type": "execute_result"
    }
   ],
   "source": [
    "l[-2]"
   ]
  },
  {
   "cell_type": "code",
   "execution_count": 87,
   "id": "e62890c4",
   "metadata": {},
   "outputs": [
    {
     "data": {
      "text/plain": [
       "[[1, 2, 3], [4, 5, 6], [7, 8, 9]]"
      ]
     },
     "execution_count": 87,
     "metadata": {},
     "output_type": "execute_result"
    }
   ],
   "source": [
    "matrix = [[1, 2, 3], [4, 5, 6], [7, 8, 9]]\n",
    "matrix"
   ]
  },
  {
   "cell_type": "code",
   "execution_count": 63,
   "id": "e44bd4e0",
   "metadata": {},
   "outputs": [
    {
     "name": "stdout",
     "output_type": "stream",
     "text": [
      "['apple', 'banana', 'cherry'] ['mehak', 2, True, [2, 3, 4, 5]] ['abc', 34, True, 40, 'male']\n"
     ]
    }
   ],
   "source": [
    "print(thislist,l,list1)"
   ]
  },
  {
   "cell_type": "code",
   "execution_count": 154,
   "id": "6f8e0010",
   "metadata": {},
   "outputs": [
    {
     "ename": "TypeError",
     "evalue": "'list' object is not callable",
     "output_type": "error",
     "traceback": [
      "\u001b[1;31m---------------------------------------------------------------------------\u001b[0m",
      "\u001b[1;31mTypeError\u001b[0m                                 Traceback (most recent call last)",
      "\u001b[1;32m<ipython-input-154-a0a024886f55>\u001b[0m in \u001b[0;36m<module>\u001b[1;34m\u001b[0m\n\u001b[1;32m----> 1\u001b[1;33m \u001b[0mlist\u001b[0m\u001b[1;33m(\u001b[0m\u001b[1;33m(\u001b[0m\u001b[0mrange\u001b[0m\u001b[1;33m(\u001b[0m\u001b[1;36m10\u001b[0m\u001b[1;33m)\u001b[0m\u001b[1;33m)\u001b[0m\u001b[1;33m)\u001b[0m\u001b[1;33m\u001b[0m\u001b[1;33m\u001b[0m\u001b[0m\n\u001b[0m",
      "\u001b[1;31mTypeError\u001b[0m: 'list' object is not callable"
     ]
    }
   ],
   "source": [
    "list((range(10)))"
   ]
  },
  {
   "cell_type": "code",
   "execution_count": 53,
   "id": "9edefa28",
   "metadata": {},
   "outputs": [
    {
     "data": {
      "text/plain": [
       "[1, 2, 3, 4]"
      ]
     },
     "execution_count": 53,
     "metadata": {},
     "output_type": "execute_result"
    }
   ],
   "source": [
    "list((range(1,5))) #to create list of consecutive integers"
   ]
  },
  {
   "cell_type": "code",
   "execution_count": 62,
   "id": "f6d66886",
   "metadata": {},
   "outputs": [
    {
     "data": {
      "text/plain": [
       "[1, 3, 5, 7, 9]"
      ]
     },
     "execution_count": 62,
     "metadata": {},
     "output_type": "execute_result"
    }
   ],
   "source": [
    "list((range(1,10,2)))\n",
    "# list((range(1,10,-2)))\n",
    "# list((range(1,10,0)))\n",
    "\n",
    "#  third argument is step size"
   ]
  },
  {
   "cell_type": "code",
   "execution_count": 76,
   "id": "6a9b34ef",
   "metadata": {},
   "outputs": [
    {
     "data": {
      "text/plain": [
       "False"
      ]
     },
     "execution_count": 76,
     "metadata": {},
     "output_type": "execute_result"
    }
   ],
   "source": [
    "# list membership\n",
    "horsemen = ['war', 'famine', 'pestilence', 'death']\n",
    "\n",
    "# 'pestilence' in horsemen\n",
    "'non-sense' in horsemen"
   ]
  },
  {
   "cell_type": "code",
   "execution_count": 135,
   "id": "31e9ce1c",
   "metadata": {},
   "outputs": [
    {
     "name": "stdout",
     "output_type": "stream",
     "text": [
      "2\n"
     ]
    }
   ],
   "source": [
    "# count\n",
    "fruits = ['apple', \"cherry\",'banana', 'cherry']\n",
    "\n",
    "x = fruits.count(\"cherry\")\n",
    "print(x)"
   ]
  },
  {
   "cell_type": "code",
   "execution_count": 92,
   "id": "01d1ffe8",
   "metadata": {},
   "outputs": [
    {
     "name": "stdout",
     "output_type": "stream",
     "text": [
      "['apple', 'banana', 'watermelon', 'cherry']\n"
     ]
    }
   ],
   "source": [
    "# insert at any loc\n",
    "thislist = [\"apple\", \"banana\", \"cherry\"]\n",
    "thislist.insert(2, \"watermelon\")\n",
    "print(thislist)"
   ]
  },
  {
   "cell_type": "code",
   "execution_count": 93,
   "id": "39cf9484",
   "metadata": {},
   "outputs": [
    {
     "name": "stdout",
     "output_type": "stream",
     "text": [
      "['apple', 'banana', 'cherry', 'orange']\n"
     ]
    }
   ],
   "source": [
    "# append at last\n",
    "thislist = [\"apple\", \"banana\", \"cherry\"]\n",
    "thislist.append(\"orange\")\n",
    "print(thislist)"
   ]
  },
  {
   "cell_type": "code",
   "execution_count": 94,
   "id": "17965f4a",
   "metadata": {},
   "outputs": [
    {
     "name": "stdout",
     "output_type": "stream",
     "text": [
      "['apple', 'banana', 'cherry', 'mango', 'pineapple', 'papaya']\n"
     ]
    }
   ],
   "source": [
    "# extend: append elements from another list\n",
    "thislist = [\"apple\", \"banana\", \"cherry\"]\n",
    "tropical = [\"mango\", \"pineapple\", \"papaya\"]\n",
    "thislist.extend(tropical)\n",
    "print(thislist)"
   ]
  },
  {
   "cell_type": "code",
   "execution_count": 98,
   "id": "bdb15df8",
   "metadata": {},
   "outputs": [
    {
     "name": "stdout",
     "output_type": "stream",
     "text": [
      "['apple', 'banana', 'cherry']\n"
     ]
    }
   ],
   "source": [
    "# remove specific item\n",
    "thislist = [\"apple\", \"banana\", \"cherry\",\"guava\"]\n",
    "thislist.remove(\"guava\")\n",
    "print(thislist)"
   ]
  },
  {
   "cell_type": "code",
   "execution_count": 102,
   "id": "77c18894",
   "metadata": {},
   "outputs": [
    {
     "name": "stdout",
     "output_type": "stream",
     "text": [
      "['apple', 'cherry']\n",
      "['apple']\n"
     ]
    },
    {
     "ename": "NameError",
     "evalue": "name 'thislist' is not defined",
     "output_type": "error",
     "traceback": [
      "\u001b[1;31m---------------------------------------------------------------------------\u001b[0m",
      "\u001b[1;31mNameError\u001b[0m                                 Traceback (most recent call last)",
      "\u001b[1;32m<ipython-input-102-669317b0e325>\u001b[0m in \u001b[0;36m<module>\u001b[1;34m\u001b[0m\n\u001b[0;32m      5\u001b[0m \u001b[0mprint\u001b[0m\u001b[1;33m(\u001b[0m\u001b[0mthislist\u001b[0m\u001b[1;33m)\u001b[0m\u001b[1;33m\u001b[0m\u001b[1;33m\u001b[0m\u001b[0m\n\u001b[0;32m      6\u001b[0m \u001b[1;32mdel\u001b[0m \u001b[0mthislist\u001b[0m\u001b[1;33m\u001b[0m\u001b[1;33m\u001b[0m\u001b[0m\n\u001b[1;32m----> 7\u001b[1;33m \u001b[0mprint\u001b[0m\u001b[1;33m(\u001b[0m\u001b[0mthislist\u001b[0m\u001b[1;33m)\u001b[0m\u001b[1;33m\u001b[0m\u001b[1;33m\u001b[0m\u001b[0m\n\u001b[0m",
      "\u001b[1;31mNameError\u001b[0m: name 'thislist' is not defined"
     ]
    }
   ],
   "source": [
    "# pop,pop index, del\n",
    "\n",
    "thislist = [\"apple\", \"banana\", \"cherry\"]\n",
    "thislist.pop(1)\n",
    "print(thislist)\n",
    "thislist.pop()\n",
    "print(thislist)\n",
    "del thislist\n",
    "print(thislist)"
   ]
  },
  {
   "cell_type": "code",
   "execution_count": 103,
   "id": "e0a5357c",
   "metadata": {},
   "outputs": [
    {
     "name": "stdout",
     "output_type": "stream",
     "text": [
      "[]\n"
     ]
    }
   ],
   "source": [
    "thislist = [\"apple\", \"banana\", \"cherry\"]\n",
    "thislist.clear()\n",
    "print(thislist)"
   ]
  },
  {
   "cell_type": "code",
   "execution_count": 133,
   "id": "3728833d",
   "metadata": {},
   "outputs": [
    {
     "name": "stdout",
     "output_type": "stream",
     "text": [
      "[4, 5, 6, 1, 2, 3]\n",
      "[1, 2, 3, 4, 5, 6]\n"
     ]
    }
   ],
   "source": [
    "a=[1,2,3]\n",
    "b=[4,5,6]\n",
    "c=a+b #joining 2 lists\n",
    "# b.append(a) #wrong\n",
    "\n",
    "for x in a:\n",
    "    b.append(x)\n",
    "print(b)\n",
    "print(c)"
   ]
  },
  {
   "cell_type": "code",
   "execution_count": 78,
   "id": "b8a93beb",
   "metadata": {},
   "outputs": [
    {
     "data": {
      "text/plain": [
       "[1, 2, 3, 1, 2, 3, 1, 2, 3]"
      ]
     },
     "execution_count": 78,
     "metadata": {},
     "output_type": "execute_result"
    }
   ],
   "source": [
    "[1,2,3]*3"
   ]
  },
  {
   "attachments": {},
   "cell_type": "markdown",
   "id": "3e512aea",
   "metadata": {},
   "source": [
    "### Slicing in list\n",
    "Taking any slice of a list creates a new list. \n"
   ]
  },
  {
   "cell_type": "code",
   "execution_count": 153,
   "id": "5335e36f",
   "metadata": {},
   "outputs": [
    {
     "name": "stdout",
     "output_type": "stream",
     "text": [
      "list2 before:  ['a', 'b', 'c', 'd', 'e', 'f']\n",
      "['a', 'x', 'y', 'd', 'e', 'f']\n",
      "['a', 'd', 'e', 'f']\n",
      "['a', 'd', 'e']\n",
      "list2 also changed:  ['a', 'd', 'e']\n"
     ]
    }
   ],
   "source": [
    "list1 = ['a', 'b', 'c', 'd', 'e', 'f']\n",
    "list2=list1\n",
    "print(\"list2 before: \",list2) #aliasing\n",
    "list1[1:3] = ['x', 'y']\n",
    "print(list1)\n",
    "del list1[1:3]\n",
    "print(list1)\n",
    "del list1[-1]\n",
    "print(list1)\n",
    "\n",
    "print(\"list2 also changed: \",list2)"
   ]
  },
  {
   "cell_type": "code",
   "execution_count": 131,
   "id": "b3f22571",
   "metadata": {},
   "outputs": [
    {
     "name": "stdout",
     "output_type": "stream",
     "text": [
      "list2 before:  ['apple', 'banana', 'cherry']\n",
      "['apple', 'x', 'y']\n",
      "['apple']\n",
      "[]\n",
      "list2 after:  ['apple', 'banana', 'cherry']\n"
     ]
    },
    {
     "ename": "TypeError",
     "evalue": "'list' object is not callable",
     "output_type": "error",
     "traceback": [
      "\u001b[1;31m---------------------------------------------------------------------------\u001b[0m",
      "\u001b[1;31mTypeError\u001b[0m                                 Traceback (most recent call last)",
      "\u001b[1;32m<ipython-input-131-42dac6502b54>\u001b[0m in \u001b[0;36m<module>\u001b[1;34m\u001b[0m\n\u001b[0;32m     15\u001b[0m \u001b[1;31m# Make a copy of a list with the list() method\u001b[0m\u001b[1;33m\u001b[0m\u001b[1;33m\u001b[0m\u001b[1;33m\u001b[0m\u001b[0m\n\u001b[0;32m     16\u001b[0m \u001b[0mthislist\u001b[0m \u001b[1;33m=\u001b[0m \u001b[1;33m[\u001b[0m\u001b[1;34m\"apple\"\u001b[0m\u001b[1;33m,\u001b[0m \u001b[1;34m\"banana\"\u001b[0m\u001b[1;33m,\u001b[0m \u001b[1;34m\"cherry\"\u001b[0m\u001b[1;33m]\u001b[0m\u001b[1;33m\u001b[0m\u001b[1;33m\u001b[0m\u001b[0m\n\u001b[1;32m---> 17\u001b[1;33m \u001b[0mmylist\u001b[0m \u001b[1;33m=\u001b[0m \u001b[0mlist\u001b[0m\u001b[1;33m(\u001b[0m\u001b[1;33m(\u001b[0m\u001b[0mthislist\u001b[0m\u001b[1;33m)\u001b[0m\u001b[1;33m)\u001b[0m\u001b[1;33m\u001b[0m\u001b[1;33m\u001b[0m\u001b[0m\n\u001b[0m\u001b[0;32m     18\u001b[0m \u001b[0mprint\u001b[0m\u001b[1;33m(\u001b[0m\u001b[0mmylist\u001b[0m\u001b[1;33m)\u001b[0m\u001b[1;33m\u001b[0m\u001b[1;33m\u001b[0m\u001b[0m\n",
      "\u001b[1;31mTypeError\u001b[0m: 'list' object is not callable"
     ]
    }
   ],
   "source": [
    "# Make a copy of a list with the copy() method\n",
    "\n",
    "list1 = [\"apple\", \"banana\", \"cherry\"]\n",
    "list2 = list1.copy()\n",
    "print(\"list2 before: \",list2) \n",
    "list1[1:3] = ['x', 'y']\n",
    "print(list1)\n",
    "del list1[1:3]\n",
    "print(list1)\n",
    "del list1[-1]\n",
    "print(list1)\n",
    "\n",
    "print(\"list2 after: \",list2)\n",
    "\n",
    "# Make a copy of a list with the list() method\n",
    "# thislist = [\"apple\", \"banana\", \"cherry\"]\n",
    "# mylist = list((thislist)) #check error hai kuch\n",
    "# print(mylist)"
   ]
  },
  {
   "attachments": {},
   "cell_type": "markdown",
   "id": "ddb99c06",
   "metadata": {},
   "source": [
    "### Aliasing vs Cloning\n",
    "Aliasing: Since variables refer to objects, if we assign one variable to another, both variables refer to the same object.\n",
    "<b>Changes made with one alias affect the other.</b>\n",
    "\n",
    "Cloning: If we want to modify a list and also keep a copy of the original, we need to be able to make a copy of the list itself, not just the reference. \n",
    "eg - b=a[:]\n",
    "\n",
    "\n",
    "### Sorting\n",
    "sort() <br>\n",
    "By default the sort() method is <b>case sensitive</b>, resulting in all capital letters being sorted before lower case letters"
   ]
  },
  {
   "cell_type": "code",
   "execution_count": 134,
   "id": "11cf13da",
   "metadata": {},
   "outputs": [
    {
     "name": "stdout",
     "output_type": "stream",
     "text": [
      "['orange', 'mango', 'kiwi', 'pineapple', 'banana']\n",
      "['banana', 'pineapple', 'kiwi', 'mango', 'orange']\n"
     ]
    }
   ],
   "source": [
    "thislist = [\"orange\", \"mango\", \"kiwi\", \"pineapple\", \"banana\"]\n",
    "# thislist = [100, 50, 65, 82, 23]\n",
    "\n",
    "# thislist.sort()\n",
    "# thislist.sort(reverse = True) #descending\n",
    "# thislist.sort(key=str.lower) #case-insensitive sort\n",
    "\n",
    "print(thislist)\n",
    "\n",
    "# reverse a list\n",
    "thislist.reverse()\n",
    "\n",
    "# Sort the list based on how close the number is to 50:\n",
    "def myfunc(n):\n",
    "    return abs(n - 50)\n",
    "\n",
    "# thislist.sort(key = myfunc)\n",
    "print(thislist)\n"
   ]
  },
  {
   "cell_type": "code",
   "execution_count": 88,
   "id": "9574dbb2",
   "metadata": {},
   "outputs": [
    {
     "ename": "AttributeError",
     "evalue": "module 'string' has no attribute 'split'",
     "output_type": "error",
     "traceback": [
      "\u001b[1;31m---------------------------------------------------------------------------\u001b[0m",
      "\u001b[1;31mAttributeError\u001b[0m                            Traceback (most recent call last)",
      "\u001b[1;32m<ipython-input-88-e7bdc4357178>\u001b[0m in \u001b[0;36m<module>\u001b[1;34m\u001b[0m\n\u001b[0;32m      1\u001b[0m \u001b[1;32mimport\u001b[0m \u001b[0mstring\u001b[0m\u001b[1;33m\u001b[0m\u001b[1;33m\u001b[0m\u001b[0m\n\u001b[0;32m      2\u001b[0m \u001b[0msong\u001b[0m \u001b[1;33m=\u001b[0m \u001b[1;34m\"The rain in Spain...\"\u001b[0m\u001b[1;33m\u001b[0m\u001b[1;33m\u001b[0m\u001b[0m\n\u001b[1;32m----> 3\u001b[1;33m \u001b[0mstring\u001b[0m\u001b[1;33m.\u001b[0m\u001b[0msplit\u001b[0m\u001b[1;33m(\u001b[0m\u001b[0msong\u001b[0m\u001b[1;33m)\u001b[0m\u001b[1;33m\u001b[0m\u001b[1;33m\u001b[0m\u001b[0m\n\u001b[0m",
      "\u001b[1;31mAttributeError\u001b[0m: module 'string' has no attribute 'split'"
     ]
    }
   ],
   "source": [
    "import string\n",
    "song = \"The rain in Spain...\"\n",
    "string.split(song)\n",
    "string.split(song, 'ai') #'ai' is used as delimiter, it doesn't appear in list"
   ]
  },
  {
   "attachments": {},
   "cell_type": "markdown",
   "id": "9b57a956",
   "metadata": {},
   "source": [
    "The join function is the inverse of split. It takes a list of strings and concatenates the elements with a space between each pair.\n"
   ]
  },
  {
   "cell_type": "code",
   "execution_count": 91,
   "id": "1fd8f4c2",
   "metadata": {},
   "outputs": [
    {
     "ename": "AttributeError",
     "evalue": "module 'string' has no attribute 'join'",
     "output_type": "error",
     "traceback": [
      "\u001b[1;31m---------------------------------------------------------------------------\u001b[0m",
      "\u001b[1;31mAttributeError\u001b[0m                            Traceback (most recent call last)",
      "\u001b[1;32m<ipython-input-91-5a42b770be3e>\u001b[0m in \u001b[0;36m<module>\u001b[1;34m\u001b[0m\n\u001b[0;32m      1\u001b[0m \u001b[0mlist\u001b[0m \u001b[1;33m=\u001b[0m \u001b[1;33m[\u001b[0m\u001b[1;34m'The'\u001b[0m\u001b[1;33m,\u001b[0m \u001b[1;34m'rain'\u001b[0m\u001b[1;33m,\u001b[0m \u001b[1;34m'in'\u001b[0m\u001b[1;33m,\u001b[0m \u001b[1;34m'Spain...'\u001b[0m\u001b[1;33m]\u001b[0m\u001b[1;33m\u001b[0m\u001b[1;33m\u001b[0m\u001b[0m\n\u001b[1;32m----> 2\u001b[1;33m \u001b[0mstring\u001b[0m\u001b[1;33m.\u001b[0m\u001b[0mjoin\u001b[0m\u001b[1;33m(\u001b[0m\u001b[0mlist\u001b[0m\u001b[1;33m)\u001b[0m\u001b[1;33m\u001b[0m\u001b[1;33m\u001b[0m\u001b[0m\n\u001b[0m\u001b[0;32m      3\u001b[0m \u001b[0mstring\u001b[0m\u001b[1;33m.\u001b[0m\u001b[0mjoin\u001b[0m\u001b[1;33m(\u001b[0m\u001b[0mlist\u001b[0m\u001b[1;33m,\u001b[0m \u001b[1;34m'_'\u001b[0m\u001b[1;33m)\u001b[0m\u001b[1;33m\u001b[0m\u001b[1;33m\u001b[0m\u001b[0m\n",
      "\u001b[1;31mAttributeError\u001b[0m: module 'string' has no attribute 'join'"
     ]
    }
   ],
   "source": [
    "list = ['The', 'rain', 'in', 'Spain...']\n",
    "string.join(list)\n",
    "string.join(list, '_')\n"
   ]
  },
  {
   "cell_type": "markdown",
   "id": "fa0ba15b",
   "metadata": {},
   "source": [
    "### List Comprehension\n",
    "List comprehension offers a shorter syntax when you want to create a new list based on the values of an existing list.\n",
    "\n",
    "```\n",
    "newlist = [expression for item in iterable if condition == True]\n",
    "```"
   ]
  },
  {
   "cell_type": "code",
   "execution_count": 116,
   "id": "f82863a6",
   "metadata": {},
   "outputs": [
    {
     "name": "stdout",
     "output_type": "stream",
     "text": [
      "['apple', 'orange', 'cherry', 'kiwi', 'mango']\n"
     ]
    }
   ],
   "source": [
    "# you want a new list, containing only the fruits with the letter \"a\" in the name.\n",
    "\n",
    "fruits = [\"apple\", \"banana\", \"cherry\", \"kiwi\", \"mango\"]\n",
    "\n",
    "# newlist = [x for x in fruits if \"a\" in x]\n",
    "# newlist = [x.upper() for x in fruits]\n",
    "newlist = ['hello' for x in fruits]\n",
    "\n",
    "# Return \"orange\" instead of \"banana\"\n",
    "newlist = [x if x != \"banana\" else \"orange\" for x in fruits]\n",
    "print(newlist)"
   ]
  },
  {
   "cell_type": "code",
   "execution_count": 112,
   "id": "d6991435",
   "metadata": {},
   "outputs": [
    {
     "data": {
      "text/plain": [
       "[0, 1, 2, 3, 4, 5, 6, 7, 8, 9]"
      ]
     },
     "execution_count": 112,
     "metadata": {},
     "output_type": "execute_result"
    }
   ],
   "source": [
    "newlist = [x for x in range(10) if x < 5]\n",
    "newlist"
   ]
  },
  {
   "cell_type": "markdown",
   "id": "d0557416",
   "metadata": {},
   "source": [
    "Questions\n",
    "1. Creation of list and changing value of any one element, also display the length of list.\n",
    "2. Create a list and append two elements in it.\n",
    "3. Create a list and sort it.\n",
    "4. Create a list of numbers and print sum of all the elements.\n",
    "5. Program to compare elements of list.\n",
    "6. Program to  find maximum and minimum of list.\n",
    "7. Count the occurrence of element in list.\n",
    "8. Reverse a list.\n",
    "9. Write a loop that traverses the previous list and prints the length of each element. What happens if you send an integer to len?\n",
    "10. Describe the relationship between string.join(string.split(song)) and song. Are they the same for all strings? When would they be different? (song is a string)\n"
   ]
  },
  {
   "cell_type": "markdown",
   "id": "e8f2126c",
   "metadata": {},
   "source": [
    "## Tuples\n",
    "    ()\n",
    "- ordered(order will not change, new items are placed at the end of list)\n",
    "- unmutable( unchangeable )\n",
    "- allow duplicate values\n",
    "- indexed - start at index 0\n",
    "\n",
    "Tuples are unchangeable, meaning that you cannot change, add, or remove items once the tuple is created.\n",
    "<br><b>But there is a workaround. ;)) </b>\n",
    "    <br> \n",
    "You can convert the tuple into a list, change the list, and convert the list back into a tuple."
   ]
  },
  {
   "cell_type": "code",
   "execution_count": 1,
   "id": "8d058639",
   "metadata": {},
   "outputs": [
    {
     "name": "stdout",
     "output_type": "stream",
     "text": [
      "('apple', 'kiwi', 'cherry')\n"
     ]
    }
   ],
   "source": [
    "x = (\"apple\", \"banana\", \"cherry\")\n",
    "y = list(x)\n",
    "y[1] = \"kiwi\"\n",
    "x = tuple(y)\n",
    "\n",
    "print(x)"
   ]
  },
  {
   "cell_type": "code",
   "execution_count": 143,
   "id": "209b3264",
   "metadata": {},
   "outputs": [
    {
     "name": "stdout",
     "output_type": "stream",
     "text": [
      "('apple', 'banana', 'cherry', 'apple')\n",
      "4\n",
      "<class 'tuple'>\n"
     ]
    }
   ],
   "source": [
    "# thistuple = (\"apple\", \"banana\", \"cherry\",\"apple\")*2\n",
    "thistuple = tuple((\"apple\", \"banana\", \"cherry\",\"apple\")) #createby contructor\n",
    "\n",
    "print(thistuple)\n",
    "print(len(thistuple))\n",
    "print(type(thistuple))"
   ]
  },
  {
   "cell_type": "code",
   "execution_count": 9,
   "id": "b09cbb55",
   "metadata": {},
   "outputs": [
    {
     "name": "stdout",
     "output_type": "stream",
     "text": [
      "mehak\n",
      "('mehak',)\n"
     ]
    }
   ],
   "source": [
    "#  create tuple with one item\n",
    "\n",
    "t = (\"mehak\") #tuple not formed\n",
    "print(t)\n",
    "\n",
    "t = (\"mehak\",)\n",
    "print(t)\n"
   ]
  },
  {
   "cell_type": "code",
   "execution_count": 12,
   "id": "96369837",
   "metadata": {},
   "outputs": [
    {
     "name": "stdout",
     "output_type": "stream",
     "text": [
      "('A', 'mehak', 'mehak', 1, 2, 3)\n"
     ]
    }
   ],
   "source": [
    "# join two tuples\n",
    "\n",
    "\n",
    "tuple1 = ('A',) + t[:]*2\n",
    "tuple2 = (1,2,3)\n",
    "t3=tuple1+tuple2\n",
    "print(t3)"
   ]
  },
  {
   "cell_type": "code",
   "execution_count": 148,
   "id": "3597acd6",
   "metadata": {},
   "outputs": [
    {
     "name": "stdout",
     "output_type": "stream",
     "text": [
      "('abc', 34, True, 40, 'male')\n",
      "34\n",
      "True\n",
      "(True, 40)\n",
      "yes, member!\n"
     ]
    }
   ],
   "source": [
    "tuple1 = (\"abc\", 34, True, 40, \"male\")\n",
    "print(tuple1)\n",
    "print(tuple1[1])\n",
    "print(tuple1[-3])\n",
    "print(tuple1[2:4])\n",
    "\n",
    "if \"abc\" in tuple1:\n",
    "    print(\"yes, member!\")"
   ]
  },
  {
   "cell_type": "markdown",
   "id": "d847fbb2",
   "metadata": {},
   "source": [
    " Add tuple to a tuple.\n",
    " You are allowed to add tuples to tuples, so if you want to add one item, (or many), create a new tuple with the item(s), and add it to the existing tuple:"
   ]
  },
  {
   "cell_type": "code",
   "execution_count": 7,
   "id": "2bbcb819",
   "metadata": {},
   "outputs": [
    {
     "name": "stdout",
     "output_type": "stream",
     "text": [
      "('apple', 'banana', 'cherry', 'orange')\n",
      "apple\n",
      "banana\n",
      "cherry\n",
      "orange\n",
      "\n",
      "way2\n",
      "\n",
      "apple\n",
      "banana\n",
      "cherry\n",
      "orange\n"
     ]
    }
   ],
   "source": [
    "# appending in tuple is allowed\n",
    "\n",
    "thistuple = (\"apple\", \"banana\", \"cherry\")\n",
    "y = (\"orange\",)\n",
    "thistuple += y\n",
    "\n",
    "print(thistuple)\n",
    "\n",
    "for x in thistuple:\n",
    "    print(x)\n",
    "    \n",
    "print(\"\\nway2\\n\")\n",
    "for i in range(len(thistuple)):\n",
    "    print(thistuple[i])"
   ]
  },
  {
   "cell_type": "code",
   "execution_count": 3,
   "id": "8ba014d2",
   "metadata": {},
   "outputs": [
    {
     "ename": "NameError",
     "evalue": "name 'thistuple' is not defined",
     "output_type": "error",
     "traceback": [
      "\u001b[1;31m---------------------------------------------------------------------------\u001b[0m",
      "\u001b[1;31mNameError\u001b[0m                                 Traceback (most recent call last)",
      "\u001b[1;32m<ipython-input-3-1b2a0eaf3667>\u001b[0m in \u001b[0;36m<module>\u001b[1;34m\u001b[0m\n\u001b[0;32m      1\u001b[0m \u001b[1;31m# deleting a tuple\u001b[0m\u001b[1;33m\u001b[0m\u001b[1;33m\u001b[0m\u001b[1;33m\u001b[0m\u001b[0m\n\u001b[0;32m      2\u001b[0m \u001b[1;32mdel\u001b[0m \u001b[0mthistuple\u001b[0m\u001b[1;33m\u001b[0m\u001b[1;33m\u001b[0m\u001b[0m\n\u001b[1;32m----> 3\u001b[1;33m \u001b[0mprint\u001b[0m\u001b[1;33m(\u001b[0m\u001b[0mthistuple\u001b[0m\u001b[1;33m)\u001b[0m \u001b[1;31m#this will raise an error because the tuple no longer exists\u001b[0m\u001b[1;33m\u001b[0m\u001b[1;33m\u001b[0m\u001b[0m\n\u001b[0m",
      "\u001b[1;31mNameError\u001b[0m: name 'thistuple' is not defined"
     ]
    }
   ],
   "source": [
    "# deleting a tuple\n",
    "del thistuple\n",
    "print(thistuple) #this will raise an error because the tuple no longer exists\n"
   ]
  },
  {
   "cell_type": "code",
   "execution_count": 5,
   "id": "09e80aef",
   "metadata": {},
   "outputs": [
    {
     "name": "stdout",
     "output_type": "stream",
     "text": [
      "apple\n",
      "['banana', 'cherrystrawberry']\n",
      "raspberry\n"
     ]
    }
   ],
   "source": [
    "# unpacking a tuple\n",
    "fruits = (\"apple\", \"banana\", \"cherry\"\"strawberry\", \"raspberry\")\n",
    "\n",
    "(green, *yellow, red) = fruits\n",
    "\n",
    "print(green)\n",
    "print(yellow)\n",
    "print(red)"
   ]
  },
  {
   "cell_type": "markdown",
   "id": "635ef7cb",
   "metadata": {},
   "source": [
    "## Dictionaries\n",
    "{}\n",
    "- key:value pairs\n",
    "- ordered(from python 3.7)(order will not change, new items are placed at the end of list)\n",
    "- mutable( changeable )\n",
    "- duplicate keys not allowed\n",
    "- they use any immutable type as index, we use keys to look up corresponding values\n",
    "\n",
    "doubt: whenever 'mutable' tab aliasing hoti hai?"
   ]
  },
  {
   "cell_type": "code",
   "execution_count": 53,
   "id": "cdfa8b7d",
   "metadata": {},
   "outputs": [
    {
     "name": "stdout",
     "output_type": "stream",
     "text": [
      "{'brand': 'Ford', 'model': 'Mustang', 'year': 2020}\n",
      "3\n",
      "<class 'dict'>\n",
      "Mustang\n"
     ]
    }
   ],
   "source": [
    "thisdict = {\n",
    "  \"brand\": \"Ford\",\n",
    "  \"model\": \"Mustang\",\n",
    "  \"year\": 2020\n",
    "}\n",
    "print(thisdict)\n",
    "print(len(thisdict))\n",
    "print(type(thisdict))\n",
    "\n",
    "#accessing items\n",
    "# x = thisdict[\"model\"] \n",
    "x = thisdict.get(\"model\")\n",
    "print(x)"
   ]
  },
  {
   "cell_type": "code",
   "execution_count": 44,
   "id": "f6786737",
   "metadata": {},
   "outputs": [
    {
     "name": "stdout",
     "output_type": "stream",
     "text": [
      "brand\n",
      "model\n",
      "year\n",
      "Ford\n",
      "Mustang\n",
      "2020\n"
     ]
    }
   ],
   "source": [
    "for x in thisdict: #print all keynames one by one\n",
    "    print(x)\n",
    "    \n",
    "for x in thisdict: #print all values one by one\n",
    "  print(thisdict[x])"
   ]
  },
  {
   "cell_type": "code",
   "execution_count": 47,
   "id": "2cfedc5e",
   "metadata": {},
   "outputs": [
    {
     "name": "stdout",
     "output_type": "stream",
     "text": [
      "brand Ford\n",
      "model Mustang\n",
      "year 2020\n"
     ]
    }
   ],
   "source": [
    "for x,y in thisdict.items():\n",
    "    print(x,y)"
   ]
  },
  {
   "cell_type": "code",
   "execution_count": 39,
   "id": "4da1478b",
   "metadata": {},
   "outputs": [
    {
     "name": "stdout",
     "output_type": "stream",
     "text": [
      "yes, member!\n"
     ]
    }
   ],
   "source": [
    "# The values in dictionary items can be of any data type\n",
    "thisdict = {\n",
    "  \"brand\": \"Ford\",\n",
    "  \"electric\": False,\n",
    "  \"year\": 1964,\n",
    "  \"colors\": [\"red\", \"white\", \"blue\"]\n",
    "}\n",
    "\n",
    "# member check\n",
    "if 'electric' in thisdict:\n",
    "    print(\"yes, member!\")"
   ]
  },
  {
   "cell_type": "code",
   "execution_count": 55,
   "id": "3fcbc287",
   "metadata": {},
   "outputs": [
    {
     "ename": "AttributeError",
     "evalue": "'dict' object has no attribute 'has_key'",
     "output_type": "error",
     "traceback": [
      "\u001b[1;31m---------------------------------------------------------------------------\u001b[0m",
      "\u001b[1;31mAttributeError\u001b[0m                            Traceback (most recent call last)",
      "\u001b[1;32m<ipython-input-55-9f801c3b0fa1>\u001b[0m in \u001b[0;36m<module>\u001b[1;34m\u001b[0m\n\u001b[1;32m----> 1\u001b[1;33m \u001b[0mthisdict\u001b[0m\u001b[1;33m.\u001b[0m\u001b[0mhas_key\u001b[0m\u001b[1;33m(\u001b[0m\u001b[1;34m'brand'\u001b[0m\u001b[1;33m)\u001b[0m\u001b[1;33m\u001b[0m\u001b[1;33m\u001b[0m\u001b[0m\n\u001b[0m",
      "\u001b[1;31mAttributeError\u001b[0m: 'dict' object has no attribute 'has_key'"
     ]
    }
   ],
   "source": [
    "thisdict.has_key('brand') #???"
   ]
  },
  {
   "cell_type": "code",
   "execution_count": 34,
   "id": "97a78afd",
   "metadata": {},
   "outputs": [
    {
     "name": "stdout",
     "output_type": "stream",
     "text": [
      "dict_keys(['brand', 'model', 'year'])\n",
      "dict_keys(['brand', 'model', 'year', 'color'])\n"
     ]
    }
   ],
   "source": [
    "# Get a list of the keys:\n",
    "\n",
    "# The list of the keys is a view of the dictionary, meaning that\n",
    "# any changes done to the dictionary will be reflected in the keys list.\n",
    "\n",
    "thisdict = {\n",
    "  \"brand\": \"Ford\",\n",
    "  \"model\": \"Mustang\",\n",
    "  \"year\": 2020\n",
    "}\n",
    "x=thisdict.keys()\n",
    "print(x) #before the change\n",
    "\n",
    "# thisdict[\"color\"] = \"white\" #add dict item\n",
    "# or by update()\n",
    "thisdict.update({\"color\": \"red\"})\n",
    "\n",
    "print(x) #after the change"
   ]
  },
  {
   "cell_type": "code",
   "execution_count": 46,
   "id": "62e15e7c",
   "metadata": {},
   "outputs": [
    {
     "name": "stdout",
     "output_type": "stream",
     "text": [
      "Ford\n",
      "Mustang\n",
      "2020\n"
     ]
    }
   ],
   "source": [
    "# list of values\n",
    "\n",
    "# The list of the values is also view of the dictionary, \n",
    "# any changes will reflect in x\n",
    "\n",
    "thisdict.values()  #also a view\n",
    "\n",
    "for x in thisdict.values(): #similarly for thisdict.keys()\n",
    "    print(x)"
   ]
  },
  {
   "cell_type": "code",
   "execution_count": 28,
   "id": "67c0d07e",
   "metadata": {},
   "outputs": [
    {
     "data": {
      "text/plain": [
       "dict_items([('brand', 'Ford'), ('electric', False), ('year', 1964), ('colors', ['red', 'white', 'blue'])])"
      ]
     },
     "execution_count": 28,
     "metadata": {},
     "output_type": "execute_result"
    }
   ],
   "source": [
    "# return each item in a dictionary, as tuples in a list\n",
    "\n",
    "thisdict.items() #also a view"
   ]
  },
  {
   "cell_type": "code",
   "execution_count": 33,
   "id": "65cd3d6d",
   "metadata": {},
   "outputs": [
    {
     "name": "stdout",
     "output_type": "stream",
     "text": [
      "{'brand': 'Ford', 'electric': False, 'year': 2020, 'colors': ['red', 'white', 'blue']}\n"
     ]
    }
   ],
   "source": [
    "# thisdict[\"year\"]=1956\n",
    "thisdict.update({\"year\": 2020})\n",
    "\n",
    "print(thisdict)"
   ]
  },
  {
   "cell_type": "code",
   "execution_count": 37,
   "id": "0c9e6cff",
   "metadata": {},
   "outputs": [
    {
     "name": "stdout",
     "output_type": "stream",
     "text": [
      "{'brand': 'Ford'}\n"
     ]
    }
   ],
   "source": [
    "thisdict.popitem()\n",
    "del thisdict[\"model\"] #removes key:value pair\n",
    "print(thisdict)"
   ]
  },
  {
   "cell_type": "code",
   "execution_count": 38,
   "id": "aebb01f9",
   "metadata": {
    "scrolled": true
   },
   "outputs": [
    {
     "ename": "NameError",
     "evalue": "name 'thisdict' is not defined",
     "output_type": "error",
     "traceback": [
      "\u001b[1;31m---------------------------------------------------------------------------\u001b[0m",
      "\u001b[1;31mNameError\u001b[0m                                 Traceback (most recent call last)",
      "\u001b[1;32m<ipython-input-38-ca8d2a7bbcb9>\u001b[0m in \u001b[0;36m<module>\u001b[1;34m\u001b[0m\n\u001b[0;32m      1\u001b[0m \u001b[1;31m# delete dictionary\u001b[0m\u001b[1;33m\u001b[0m\u001b[1;33m\u001b[0m\u001b[1;33m\u001b[0m\u001b[0m\n\u001b[0;32m      2\u001b[0m \u001b[1;32mdel\u001b[0m \u001b[0mthisdict\u001b[0m\u001b[1;33m\u001b[0m\u001b[1;33m\u001b[0m\u001b[0m\n\u001b[1;32m----> 3\u001b[1;33m \u001b[0mprint\u001b[0m\u001b[1;33m(\u001b[0m\u001b[0mthisdict\u001b[0m\u001b[1;33m)\u001b[0m \u001b[1;31m#shows error\u001b[0m\u001b[1;33m\u001b[0m\u001b[1;33m\u001b[0m\u001b[0m\n\u001b[0m",
      "\u001b[1;31mNameError\u001b[0m: name 'thisdict' is not defined"
     ]
    }
   ],
   "source": [
    "# delete dictionary \n",
    "del thisdict\n",
    "print(thisdict) #shows error"
   ]
  },
  {
   "cell_type": "code",
   "execution_count": 40,
   "id": "d2c3d843",
   "metadata": {},
   "outputs": [
    {
     "name": "stdout",
     "output_type": "stream",
     "text": [
      "{}\n"
     ]
    }
   ],
   "source": [
    "thisdict = {\n",
    "  \"brand\": \"Ford\",\n",
    "  \"model\": \"Mustang\",\n",
    "  \"year\": 1964\n",
    "}\n",
    "thisdict.clear()\n",
    "print(thisdict)"
   ]
  },
  {
   "cell_type": "markdown",
   "id": "777a717d",
   "metadata": {},
   "source": [
    "### copy a dictionary\n",
    "You cannot copy a dictionary simply by typing dict2 = dict1, because: dict2 will only be a reference to dict1, and changes made in dict1 will automatically also be made in dict2.\n",
    "- using copy()\n",
    "- using dict()\n"
   ]
  },
  {
   "cell_type": "code",
   "execution_count": 49,
   "id": "13bccac0",
   "metadata": {},
   "outputs": [
    {
     "name": "stdout",
     "output_type": "stream",
     "text": [
      "{'brand': 'Ford', 'model': 'Mustang', 'year': 1964}\n"
     ]
    }
   ],
   "source": [
    "thisdict = {\n",
    "  \"brand\": \"Ford\",\n",
    "  \"model\": \"Mustang\",\n",
    "  \"year\": 1964\n",
    "}\n",
    "mydict = thisdict.copy()\n",
    "# mydict = dict(thisdict)\n",
    "\n",
    "print(mydict)"
   ]
  },
  {
   "cell_type": "code",
   "execution_count": 50,
   "id": "4ce7b165",
   "metadata": {},
   "outputs": [],
   "source": [
    "# nested dict\n",
    "child1 = {\n",
    "  \"name\" : \"Emil\",\n",
    "  \"year\" : 2004\n",
    "}\n",
    "child2 = {\n",
    "  \"name\" : \"Tobias\",\n",
    "  \"year\" : 2007\n",
    "}\n",
    "child3 = {\n",
    "  \"name\" : \"Linus\",\n",
    "  \"year\" : 2011\n",
    "}\n",
    "\n",
    "myfamily = {\n",
    "  \"child1\" : child1,\n",
    "  \"child2\" : child2,\n",
    "  \"child3\" : child3\n",
    "}"
   ]
  },
  {
   "cell_type": "code",
   "execution_count": 60,
   "id": "2ba52ff1",
   "metadata": {},
   "outputs": [
    {
     "name": "stdout",
     "output_type": "stream",
     "text": [
      "2\n",
      "0\n"
     ]
    }
   ],
   "source": [
    "# Sparse matrix\n",
    "\n",
    "matrix = {(0,3):1,(2,1):2,(4,3):3}\n",
    "print(matrix[2,1])\n",
    "\n",
    "# for zeroes\n",
    "print(matrix.get((1,3),0))"
   ]
  },
  {
   "cell_type": "code",
   "execution_count": 68,
   "id": "caf4731d",
   "metadata": {},
   "outputs": [
    {
     "name": "stdout",
     "output_type": "stream",
     "text": [
      "{'m': 1, 'i': 4, 's': 4, 'p': 2}\n",
      "[('i', 4), ('m', 1), ('p', 2), ('s', 4)]\n"
     ]
    }
   ],
   "source": [
    "# Counting letters\n",
    "letterCounts={}\n",
    "\n",
    "for letter in \"mississippi\":\n",
    "    letterCounts[letter] = letterCounts.get(letter,0)+1\n",
    "\n",
    "print(letterCounts)\n",
    "letterItems = list((letterCounts.items()))\n",
    "letterItems.sort()\n",
    "print(letterItems)"
   ]
  }
 ],
 "metadata": {
  "kernelspec": {
   "display_name": "Python 3",
   "language": "python",
   "name": "python3"
  },
  "language_info": {
   "codemirror_mode": {
    "name": "ipython",
    "version": 3
   },
   "file_extension": ".py",
   "mimetype": "text/x-python",
   "name": "python",
   "nbconvert_exporter": "python",
   "pygments_lexer": "ipython3",
   "version": "3.8.8"
  }
 },
 "nbformat": 4,
 "nbformat_minor": 5
}
