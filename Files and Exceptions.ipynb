{
 "cells": [
  {
   "cell_type": "code",
   "execution_count": 1,
   "id": "8ea55e7a",
   "metadata": {},
   "outputs": [
    {
     "name": "stdout",
     "output_type": "stream",
     "text": [
      "Second element = 2\n",
      "An error occurred\n"
     ]
    }
   ],
   "source": [
    "a = [1, 2, 3]\n",
    "try:\n",
    "    print (\"Second element = %d\" %(a[1]))\n",
    " \n",
    "    # Throws error since there are only 3 elements in array\n",
    "    print (\"Fourth element = %d\" %(a[3]))\n",
    " \n",
    "except:\n",
    "    print (\"An error occurred\")"
   ]
  },
  {
   "attachments": {},
   "cell_type": "markdown",
   "id": "1ac1b21d",
   "metadata": {},
   "source": [
    " The try statement executes the statements in the ﬁrst block. If no exceptions occur, it ignores the except statement. If an exception of type IOError occurs, it executes the statements in the except branch and then continues.\n",
    "\n",
    "- IOError: if the file can’t be opened\n",
    "- KeyboardInterrupt: when an unrequired key is pressed by the user\n",
    "- ValueError: when built-in function receives a wrong argument\n",
    "- EOFError: if End-Of-File is hit without reading any data\n",
    "- ImportError: if it is unable to find the module\n",
    "- IndexError: sequence index out of range\n",
    "- NameError: when a local/global variable is not found\n",
    "- ZeroDivisionError: \n",
    "- TypeError: an operation is applied to an appropriate type, but of inappropriate vale\n",
    "- FileNotFoundError"
   ]
  },
  {
   "cell_type": "code",
   "execution_count": 24,
   "id": "8c93a585",
   "metadata": {},
   "outputs": [
    {
     "name": "stdout",
     "output_type": "stream",
     "text": [
      "Enter name:mehak\n",
      "There is no file named mehak\n"
     ]
    }
   ],
   "source": [
    "filename = input('Enter name:')\n",
    "\n",
    "try:\n",
    "    f=open(filename,\"r\")\n",
    "    \n",
    "except IOError:\n",
    "    print(\"There is no file named\",filename)"
   ]
  },
  {
   "cell_type": "code",
   "execution_count": 12,
   "id": "13ba8855",
   "metadata": {},
   "outputs": [
    {
     "name": "stdout",
     "output_type": "stream",
     "text": [
      "Pick a number:17\n",
      "An exception\n"
     ]
    }
   ],
   "source": [
    "\n",
    "def inputNumber():\n",
    "    x=int(input('Pick a number:'))\n",
    "    if(x==17):\n",
    "        raise ValueError('17 is a bad number')\n",
    "    return x\n",
    "\n",
    "\n",
    "try:\n",
    "    inputNumber()\n",
    "except ValueError:\n",
    "    print (\"An exception\")"
   ]
  },
  {
   "cell_type": "code",
   "execution_count": 20,
   "id": "280a573c",
   "metadata": {},
   "outputs": [
    {
     "name": "stdout",
     "output_type": "stream",
     "text": [
      "Enter num-5\n",
      "Cannot compute factorial of a negative number\n"
     ]
    }
   ],
   "source": [
    "import math\n",
    "num=int(input(\"Enter num\"))\n",
    "try:\n",
    "    print(math.factorial(num))\n",
    "except ValueError:\n",
    "    print('Cannot compute factorial of a negative number')"
   ]
  },
  {
   "cell_type": "code",
   "execution_count": 23,
   "id": "cd5d02b2",
   "metadata": {},
   "outputs": [
    {
     "ename": "SyntaxError",
     "evalue": "invalid syntax (<ipython-input-23-0d70a2087f59>, line 9)",
     "output_type": "error",
     "traceback": [
      "\u001b[1;36m  File \u001b[1;32m\"<ipython-input-23-0d70a2087f59>\"\u001b[1;36m, line \u001b[1;32m9\u001b[0m\n\u001b[1;33m    month=int(input('Enter:'))\u001b[0m\n\u001b[1;37m    ^\u001b[0m\n\u001b[1;31mSyntaxError\u001b[0m\u001b[1;31m:\u001b[0m invalid syntax\n"
     ]
    }
   ],
   "source": [
    "valid = False\n",
    "\n",
    "while not valid:\n",
    "    try:\n",
    "        month= int(input('Enter month(1-12):'))\n",
    "        \n",
    "        while month < 1 or month > 12:\n",
    "            print('Invalid input'\n",
    "            month=int(input('Enter:'))\n",
    "        valid=True\n",
    "    except ValueError:\n",
    "        print('Invalid month'))"
   ]
  },
  {
   "cell_type": "code",
   "execution_count": 17,
   "id": "5d4b20fb",
   "metadata": {},
   "outputs": [
    {
     "name": "stdout",
     "output_type": "stream",
     "text": [
      "NameError Occurred and Handled\n"
     ]
    }
   ],
   "source": [
    "\n",
    "def fun(a):\n",
    "    if a < 4:\n",
    "        # throws ZeroDivisionError for a = 3\n",
    "        b = a/(a-3)\n",
    " \n",
    "    # throws NameError if a >= 4\n",
    "    print(\"Value of b = \", b)\n",
    "     \n",
    "try:\n",
    "#     fun(3)\n",
    "    fun(5)\n",
    " \n",
    "# note that braces() are necessary here for\n",
    "# multiple exceptions\n",
    "except ZeroDivisionError:\n",
    "    print(\"ZeroDivisionError Occurred and Handled\")\n",
    "except NameError:\n",
    "    print(\"NameError Occurred and Handled\")"
   ]
  },
  {
   "cell_type": "code",
   "execution_count": 19,
   "id": "eddf064b",
   "metadata": {
    "scrolled": true
   },
   "outputs": [
    {
     "name": "stdout",
     "output_type": "stream",
     "text": [
      "-5.0\n",
      "Executed anyways\n",
      "a/b result in 0\n",
      "Executed anyways\n"
     ]
    }
   ],
   "source": [
    "# Program to depict else clause with try-except\n",
    "# Python 3\n",
    "# Function which returns a/b\n",
    "def AbyB(a , b):\n",
    "    try:\n",
    "        c = ((a+b) / (a-b))\n",
    "    except ZeroDivisionError:\n",
    "        print (\"a/b result in 0\")\n",
    "    else:\n",
    "        print (c)\n",
    "    finally:\n",
    "            print(\"Executed anyways\")\n",
    "# Driver program to test above function\n",
    "AbyB(2.0, 3.0)\n",
    "AbyB(3.0, 3.0)"
   ]
  },
  {
   "cell_type": "markdown",
   "id": "47869834",
   "metadata": {},
   "source": [
    "Python provides a keyword finally, which is always executed after the try and except blocks. The final block always executes after normal termination of try block or after try block terminates due to some exception."
   ]
  },
  {
   "cell_type": "code",
   "execution_count": 39,
   "id": "00d62aa7",
   "metadata": {},
   "outputs": [
    {
     "ename": "SyntaxError",
     "evalue": "unexpected EOF while parsing (<ipython-input-39-dc9262edd74a>, line 28)",
     "output_type": "error",
     "traceback": [
      "\u001b[1;36m  File \u001b[1;32m\"<ipython-input-39-dc9262edd74a>\"\u001b[1;36m, line \u001b[1;32m28\u001b[0m\n\u001b[1;33m    # print(out)\u001b[0m\n\u001b[1;37m                ^\u001b[0m\n\u001b[1;31mSyntaxError\u001b[0m\u001b[1;31m:\u001b[0m unexpected EOF while parsing\n"
     ]
    }
   ],
   "source": [
    "inp = input(\"Enter a String\")\n",
    "# try:\n",
    "print(any(inp.isupper())\n",
    "\n",
    "# for ele in inp:\n",
    "#     l = any(inp.isupper())\n",
    "#     u = any(inp.islower())\n",
    "#     n = any(inp.isnumeric())\n",
    "#     print(\"aree\",l,u,n)\n",
    "#     res = bool(re.match(r'\\w*[a-z][0-9][A-Z]\\w*', inp))\n",
    "    \n",
    "#     res=l and u and n\n",
    "#     if(res==False):\n",
    "#         raise ValueError('not matching')\n",
    "# except:\n",
    "#     print(\"Error!\")\n",
    "# bool l,u,\n",
    "# for c in inp:\n",
    "#     if(c.islower()):\n",
    "#         out+=c.upper()\n",
    "#     elif(c.isupper()):\n",
    "#         out+=c.lower()\n",
    "#     elif(c.isnumeric()):\n",
    "#         out+=str(int(c)+2)\n",
    "#     else:\n",
    "#         out+=c\n",
    "\n",
    "# print(out)"
   ]
  },
  {
   "cell_type": "code",
   "execution_count": 51,
   "id": "a6f48c0f",
   "metadata": {},
   "outputs": [
    {
     "name": "stdout",
     "output_type": "stream",
     "text": [
      "7\n",
      "10\n",
      "8\n",
      "11\n",
      "9\n",
      "12\n",
      "10\n",
      "13\n",
      "11\n",
      "14\n",
      "12\n",
      "15\n",
      "13\n",
      "16\n",
      "14\n",
      "17\n",
      "15\n",
      "18\n",
      "16\n",
      "19\n",
      "17\n",
      "20\n",
      "18\n",
      "21\n",
      "19\n",
      "22\n",
      "20\n",
      "23\n",
      "21\n",
      "24\n",
      "22\n",
      "25\n",
      "23\n",
      "26\n",
      "24\n",
      "27\n",
      "25\n",
      "28\n",
      "26\n",
      "29\n",
      "27\n",
      "30\n",
      "28\n",
      "31\n",
      "29\n",
      "32\n",
      "30\n",
      "33\n",
      "31\n",
      "34\n",
      "32\n",
      "35\n",
      "33\n",
      "36\n",
      "34\n",
      "37\n",
      "35\n",
      "38\n",
      "36\n",
      "39\n",
      "37\n",
      "40\n",
      "38\n",
      "41\n",
      "39\n",
      "42\n",
      "40\n",
      "43\n",
      "41\n",
      "44\n",
      "42\n",
      "45\n",
      "43\n",
      "46\n",
      "44\n",
      "47\n",
      "45\n",
      "48\n",
      "46\n",
      "49\n",
      "47\n",
      "50\n",
      "48\n",
      "51\n",
      "49\n",
      "52\n",
      "50\n"
     ]
    }
   ],
   "source": [
    "print(7)\n",
    "for i in range(7,50):\n",
    "    i=i+3\n",
    "    print(i)\n",
    "    i=i-2\n",
    "    print(i)"
   ]
  },
  {
   "cell_type": "code",
   "execution_count": 62,
   "id": "37d8a1c2",
   "metadata": {},
   "outputs": [
    {
     "name": "stdout",
     "output_type": "stream",
     "text": [
      "Could not open file\n"
     ]
    }
   ],
   "source": [
    "def copyFile(oldFile, newFile):\n",
    "    f1=open(oldFile,\"r\")\n",
    "    f2=open(newFile,\"w\")\n",
    "    \n",
    "    for line in f1:\n",
    "        for word in line.split():\n",
    "            if(word[0].isupper()):\n",
    "                f2.write(word)\n",
    "            \n",
    "    f1.close()\n",
    "    f2.close()\n",
    "    return\n",
    "\n",
    "try:\n",
    "    copyFile(\"File\\\\new_file.txt\",\"Files\\\\nn.txt\")\n",
    "\n",
    "except IOError:\n",
    "    print(\"Could not open file\")\n",
    "\n"
   ]
  },
  {
   "cell_type": "code",
   "execution_count": 65,
   "id": "0469fbb7",
   "metadata": {},
   "outputs": [
    {
     "name": "stdout",
     "output_type": "stream",
     "text": [
      "w\n"
     ]
    },
    {
     "ename": "Exception",
     "evalue": "there must be atleast one uppercase",
     "output_type": "error",
     "traceback": [
      "\u001b[1;31m---------------------------------------------------------------------------\u001b[0m",
      "\u001b[1;31mException\u001b[0m                                 Traceback (most recent call last)",
      "\u001b[1;32m<ipython-input-65-dfe6f71e1c2b>\u001b[0m in \u001b[0;36m<module>\u001b[1;34m\u001b[0m\n\u001b[0;32m     12\u001b[0m \u001b[1;33m\u001b[0m\u001b[0m\n\u001b[0;32m     13\u001b[0m \u001b[1;32mif\u001b[0m\u001b[1;33m(\u001b[0m\u001b[0mupper\u001b[0m\u001b[1;33m==\u001b[0m\u001b[1;36m0\u001b[0m\u001b[1;33m)\u001b[0m\u001b[1;33m:\u001b[0m\u001b[1;33m\u001b[0m\u001b[1;33m\u001b[0m\u001b[0m\n\u001b[1;32m---> 14\u001b[1;33m     \u001b[1;32mraise\u001b[0m \u001b[0mException\u001b[0m\u001b[1;33m(\u001b[0m\u001b[1;34m\"there must be atleast one uppercase\"\u001b[0m\u001b[1;33m)\u001b[0m\u001b[1;33m\u001b[0m\u001b[1;33m\u001b[0m\u001b[0m\n\u001b[0m\u001b[0;32m     15\u001b[0m \u001b[1;32mif\u001b[0m\u001b[1;33m(\u001b[0m\u001b[0mlower\u001b[0m\u001b[1;33m==\u001b[0m\u001b[1;36m0\u001b[0m\u001b[1;33m)\u001b[0m\u001b[1;33m:\u001b[0m\u001b[1;33m\u001b[0m\u001b[1;33m\u001b[0m\u001b[0m\n\u001b[0;32m     16\u001b[0m     \u001b[1;32mraise\u001b[0m \u001b[0mException\u001b[0m\u001b[1;33m(\u001b[0m\u001b[1;34m\"there must be atleast one lowercase\"\u001b[0m\u001b[1;33m)\u001b[0m\u001b[1;33m\u001b[0m\u001b[1;33m\u001b[0m\u001b[0m\n",
      "\u001b[1;31mException\u001b[0m: there must be atleast one uppercase"
     ]
    }
   ],
   "source": [
    "s=input()\n",
    "upper=0\n",
    "lower=0\n",
    "digit=0\n",
    "for i in range (len(s)):\n",
    "    if s[i].isupper():\n",
    "        upper+=1\n",
    "    elif s[i].islower():\n",
    "        lower+=1\n",
    "    elif s[i].isnumeric():\n",
    "        digit+=1\n",
    "\n",
    "if(upper==0):\n",
    "    raise Exception(\"there must be atleast one uppercase\")\n",
    "if(lower==0):\n",
    "    raise Exception(\"there must be atleast one lowercase\")\n",
    "if(digit==0):\n",
    "    raise Exception(\"there must be atleast one digit\")"
   ]
  }
 ],
 "metadata": {
  "kernelspec": {
   "display_name": "Python 3",
   "language": "python",
   "name": "python3"
  },
  "language_info": {
   "codemirror_mode": {
    "name": "ipython",
    "version": 3
   },
   "file_extension": ".py",
   "mimetype": "text/x-python",
   "name": "python",
   "nbconvert_exporter": "python",
   "pygments_lexer": "ipython3",
   "version": "3.8.8"
  }
 },
 "nbformat": 4,
 "nbformat_minor": 5
}
